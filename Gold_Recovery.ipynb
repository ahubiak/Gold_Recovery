{
 "cells": [
  {
   "cell_type": "markdown",
   "metadata": {},
   "source": [
    "# Zyfra Gold Mining\n",
    "Prepare a prototype of a machine learning model for Zyfra. The company develops efficiency solutions for heavy industry.\n",
    "The model should predict the amount of gold recovered from gold ore. You have the data on extraction and purification.\n",
    "The model will help to optimize the production and eliminate unprofitable parameters."
   ]
  },
  {
   "cell_type": "markdown",
   "metadata": {},
   "source": [
    "### Goal:\n",
    "Create a model to successfully predict two values: rougher concentrate recovery and final concentrate recovery. Calculate an acceptable sMAPE (symmetric Mean Absolute Percentage Error).\n",
    "\n",
    "### Stages \n",
    "Our project will consist of five stages:\n",
    " 1. Initialization\n",
    " 2. Preparing the Data\n",
    " 3. Analyzing the Data\n",
    " 4. Building the Model\n",
    " 5. Conclusion"
   ]
  },
  {
   "cell_type": "markdown",
   "metadata": {},
   "source": [
    "## Initialization\n",
    "We will first begin by loading all necessary libraries, and reading in our data sets."
   ]
  },
  {
   "cell_type": "code",
   "execution_count": 1,
   "metadata": {},
   "outputs": [],
   "source": [
    "import pandas as pd# Loading all the libraries\n",
    "import numpy as np\n",
    "from matplotlib import pyplot as plt\n",
    "import pandas as pd\n",
    "from sklearn.linear_model import LinearRegression\n",
    "from sklearn.model_selection import train_test_split\n",
    "from numpy import mean\n",
    "from sklearn.metrics import mean_squared_error\n",
    "import math\n",
    "from sklearn.metrics import mean_absolute_error\n",
    "from sklearn.tree import DecisionTreeRegressor\n",
    "from sklearn.ensemble import RandomForestRegressor\n",
    "from sklearn.model_selection import cross_val_score\n",
    "from sklearn.metrics import make_scorer\n",
    "from sklearn.dummy import DummyRegressor"
   ]
  },
  {
   "cell_type": "code",
   "execution_count": 2,
   "metadata": {},
   "outputs": [],
   "source": [
    "import warnings\n",
    "warnings.filterwarnings(\"ignore\")"
   ]
  },
  {
   "cell_type": "markdown",
   "metadata": {},
   "source": [
    "### Loading in the data"
   ]
  },
  {
   "cell_type": "code",
   "execution_count": 3,
   "metadata": {},
   "outputs": [],
   "source": [
    "try:\n",
    "    train = pd.read_csv('/datasets/gold_recovery_train.csv') # reading in data with try-except clause\n",
    "    test = pd.read_csv('/datasets/gold_recovery_test.csv')\n",
    "    data = pd.read_csv('/datasets/gold_recovery_full.csv')\n",
    "except:\n",
    "    print('File not found.')"
   ]
  },
  {
   "cell_type": "markdown",
   "metadata": {},
   "source": [
    "## Preparing the Data\n",
    "Now that we have read in the data, we will take a closer look at what each set contains. We will ensure that our columns are appropriate types and that there are no missing or duplicated values that will affect our model creation."
   ]
  },
  {
   "cell_type": "code",
   "execution_count": 4,
   "metadata": {},
   "outputs": [
    {
     "name": "stdout",
     "output_type": "stream",
     "text": [
      "<class 'pandas.core.frame.DataFrame'>\n",
      "RangeIndex: 16860 entries, 0 to 16859\n",
      "Data columns (total 87 columns):\n",
      "date                                                  16860 non-null object\n",
      "final.output.concentrate_ag                           16788 non-null float64\n",
      "final.output.concentrate_pb                           16788 non-null float64\n",
      "final.output.concentrate_sol                          16490 non-null float64\n",
      "final.output.concentrate_au                           16789 non-null float64\n",
      "final.output.recovery                                 15339 non-null float64\n",
      "final.output.tail_ag                                  16794 non-null float64\n",
      "final.output.tail_pb                                  16677 non-null float64\n",
      "final.output.tail_sol                                 16715 non-null float64\n",
      "final.output.tail_au                                  16794 non-null float64\n",
      "primary_cleaner.input.sulfate                         15553 non-null float64\n",
      "primary_cleaner.input.depressant                      15598 non-null float64\n",
      "primary_cleaner.input.feed_size                       16860 non-null float64\n",
      "primary_cleaner.input.xanthate                        15875 non-null float64\n",
      "primary_cleaner.output.concentrate_ag                 16778 non-null float64\n",
      "primary_cleaner.output.concentrate_pb                 16502 non-null float64\n",
      "primary_cleaner.output.concentrate_sol                16224 non-null float64\n",
      "primary_cleaner.output.concentrate_au                 16778 non-null float64\n",
      "primary_cleaner.output.tail_ag                        16777 non-null float64\n",
      "primary_cleaner.output.tail_pb                        16761 non-null float64\n",
      "primary_cleaner.output.tail_sol                       16579 non-null float64\n",
      "primary_cleaner.output.tail_au                        16777 non-null float64\n",
      "primary_cleaner.state.floatbank8_a_air                16820 non-null float64\n",
      "primary_cleaner.state.floatbank8_a_level              16827 non-null float64\n",
      "primary_cleaner.state.floatbank8_b_air                16820 non-null float64\n",
      "primary_cleaner.state.floatbank8_b_level              16833 non-null float64\n",
      "primary_cleaner.state.floatbank8_c_air                16822 non-null float64\n",
      "primary_cleaner.state.floatbank8_c_level              16833 non-null float64\n",
      "primary_cleaner.state.floatbank8_d_air                16821 non-null float64\n",
      "primary_cleaner.state.floatbank8_d_level              16833 non-null float64\n",
      "rougher.calculation.sulfate_to_au_concentrate         16833 non-null float64\n",
      "rougher.calculation.floatbank10_sulfate_to_au_feed    16833 non-null float64\n",
      "rougher.calculation.floatbank11_sulfate_to_au_feed    16833 non-null float64\n",
      "rougher.calculation.au_pb_ratio                       15618 non-null float64\n",
      "rougher.input.feed_ag                                 16778 non-null float64\n",
      "rougher.input.feed_pb                                 16632 non-null float64\n",
      "rougher.input.feed_rate                               16347 non-null float64\n",
      "rougher.input.feed_size                               16443 non-null float64\n",
      "rougher.input.feed_sol                                16568 non-null float64\n",
      "rougher.input.feed_au                                 16777 non-null float64\n",
      "rougher.input.floatbank10_sulfate                     15816 non-null float64\n",
      "rougher.input.floatbank10_xanthate                    16514 non-null float64\n",
      "rougher.input.floatbank11_sulfate                     16237 non-null float64\n",
      "rougher.input.floatbank11_xanthate                    14956 non-null float64\n",
      "rougher.output.concentrate_ag                         16778 non-null float64\n",
      "rougher.output.concentrate_pb                         16778 non-null float64\n",
      "rougher.output.concentrate_sol                        16698 non-null float64\n",
      "rougher.output.concentrate_au                         16778 non-null float64\n",
      "rougher.output.recovery                               14287 non-null float64\n",
      "rougher.output.tail_ag                                14610 non-null float64\n",
      "rougher.output.tail_pb                                16778 non-null float64\n",
      "rougher.output.tail_sol                               14611 non-null float64\n",
      "rougher.output.tail_au                                14611 non-null float64\n",
      "rougher.state.floatbank10_a_air                       16807 non-null float64\n",
      "rougher.state.floatbank10_a_level                     16807 non-null float64\n",
      "rougher.state.floatbank10_b_air                       16807 non-null float64\n",
      "rougher.state.floatbank10_b_level                     16807 non-null float64\n",
      "rougher.state.floatbank10_c_air                       16807 non-null float64\n",
      "rougher.state.floatbank10_c_level                     16814 non-null float64\n",
      "rougher.state.floatbank10_d_air                       16802 non-null float64\n",
      "rougher.state.floatbank10_d_level                     16809 non-null float64\n",
      "rougher.state.floatbank10_e_air                       16257 non-null float64\n",
      "rougher.state.floatbank10_e_level                     16809 non-null float64\n",
      "rougher.state.floatbank10_f_air                       16802 non-null float64\n",
      "rougher.state.floatbank10_f_level                     16802 non-null float64\n",
      "secondary_cleaner.output.tail_ag                      16776 non-null float64\n",
      "secondary_cleaner.output.tail_pb                      16764 non-null float64\n",
      "secondary_cleaner.output.tail_sol                     14874 non-null float64\n",
      "secondary_cleaner.output.tail_au                      16778 non-null float64\n",
      "secondary_cleaner.state.floatbank2_a_air              16497 non-null float64\n",
      "secondary_cleaner.state.floatbank2_a_level            16751 non-null float64\n",
      "secondary_cleaner.state.floatbank2_b_air              16705 non-null float64\n",
      "secondary_cleaner.state.floatbank2_b_level            16748 non-null float64\n",
      "secondary_cleaner.state.floatbank3_a_air              16763 non-null float64\n",
      "secondary_cleaner.state.floatbank3_a_level            16747 non-null float64\n",
      "secondary_cleaner.state.floatbank3_b_air              16752 non-null float64\n",
      "secondary_cleaner.state.floatbank3_b_level            16750 non-null float64\n",
      "secondary_cleaner.state.floatbank4_a_air              16731 non-null float64\n",
      "secondary_cleaner.state.floatbank4_a_level            16747 non-null float64\n",
      "secondary_cleaner.state.floatbank4_b_air              16768 non-null float64\n",
      "secondary_cleaner.state.floatbank4_b_level            16767 non-null float64\n",
      "secondary_cleaner.state.floatbank5_a_air              16775 non-null float64\n",
      "secondary_cleaner.state.floatbank5_a_level            16775 non-null float64\n",
      "secondary_cleaner.state.floatbank5_b_air              16775 non-null float64\n",
      "secondary_cleaner.state.floatbank5_b_level            16776 non-null float64\n",
      "secondary_cleaner.state.floatbank6_a_air              16757 non-null float64\n",
      "secondary_cleaner.state.floatbank6_a_level            16775 non-null float64\n",
      "dtypes: float64(86), object(1)\n",
      "memory usage: 11.2+ MB\n"
     ]
    }
   ],
   "source": [
    "train.info()"
   ]
  },
  {
   "cell_type": "code",
   "execution_count": 5,
   "metadata": {},
   "outputs": [
    {
     "name": "stdout",
     "output_type": "stream",
     "text": [
      "date                                            0\n",
      "final.output.concentrate_ag                    72\n",
      "final.output.concentrate_pb                    72\n",
      "final.output.concentrate_sol                  370\n",
      "final.output.concentrate_au                    71\n",
      "                                             ... \n",
      "secondary_cleaner.state.floatbank5_a_level     85\n",
      "secondary_cleaner.state.floatbank5_b_air       85\n",
      "secondary_cleaner.state.floatbank5_b_level     84\n",
      "secondary_cleaner.state.floatbank6_a_air      103\n",
      "secondary_cleaner.state.floatbank6_a_level     85\n",
      "Length: 87, dtype: int64\n"
     ]
    }
   ],
   "source": [
    "print(train.isna().sum())"
   ]
  },
  {
   "cell_type": "code",
   "execution_count": 6,
   "metadata": {
    "scrolled": true
   },
   "outputs": [
    {
     "data": {
      "text/html": [
       "<div>\n",
       "<style scoped>\n",
       "    .dataframe tbody tr th:only-of-type {\n",
       "        vertical-align: middle;\n",
       "    }\n",
       "\n",
       "    .dataframe tbody tr th {\n",
       "        vertical-align: top;\n",
       "    }\n",
       "\n",
       "    .dataframe thead th {\n",
       "        text-align: right;\n",
       "    }\n",
       "</style>\n",
       "<table border=\"1\" class=\"dataframe\">\n",
       "  <thead>\n",
       "    <tr style=\"text-align: right;\">\n",
       "      <th></th>\n",
       "      <th>date</th>\n",
       "      <th>final.output.concentrate_ag</th>\n",
       "      <th>final.output.concentrate_pb</th>\n",
       "      <th>final.output.concentrate_sol</th>\n",
       "      <th>final.output.concentrate_au</th>\n",
       "      <th>final.output.recovery</th>\n",
       "      <th>final.output.tail_ag</th>\n",
       "      <th>final.output.tail_pb</th>\n",
       "      <th>final.output.tail_sol</th>\n",
       "      <th>final.output.tail_au</th>\n",
       "      <th>...</th>\n",
       "      <th>secondary_cleaner.state.floatbank4_a_air</th>\n",
       "      <th>secondary_cleaner.state.floatbank4_a_level</th>\n",
       "      <th>secondary_cleaner.state.floatbank4_b_air</th>\n",
       "      <th>secondary_cleaner.state.floatbank4_b_level</th>\n",
       "      <th>secondary_cleaner.state.floatbank5_a_air</th>\n",
       "      <th>secondary_cleaner.state.floatbank5_a_level</th>\n",
       "      <th>secondary_cleaner.state.floatbank5_b_air</th>\n",
       "      <th>secondary_cleaner.state.floatbank5_b_level</th>\n",
       "      <th>secondary_cleaner.state.floatbank6_a_air</th>\n",
       "      <th>secondary_cleaner.state.floatbank6_a_level</th>\n",
       "    </tr>\n",
       "  </thead>\n",
       "  <tbody>\n",
       "    <tr>\n",
       "      <td>0</td>\n",
       "      <td>2016-01-15 00:00:00</td>\n",
       "      <td>6.055403</td>\n",
       "      <td>9.889648</td>\n",
       "      <td>5.507324</td>\n",
       "      <td>42.192020</td>\n",
       "      <td>70.541216</td>\n",
       "      <td>10.411962</td>\n",
       "      <td>0.895447</td>\n",
       "      <td>16.904297</td>\n",
       "      <td>2.143149</td>\n",
       "      <td>...</td>\n",
       "      <td>14.016835</td>\n",
       "      <td>-502.488007</td>\n",
       "      <td>12.099931</td>\n",
       "      <td>-504.715942</td>\n",
       "      <td>9.925633</td>\n",
       "      <td>-498.310211</td>\n",
       "      <td>8.079666</td>\n",
       "      <td>-500.470978</td>\n",
       "      <td>14.151341</td>\n",
       "      <td>-605.841980</td>\n",
       "    </tr>\n",
       "    <tr>\n",
       "      <td>1</td>\n",
       "      <td>2016-01-15 01:00:00</td>\n",
       "      <td>6.029369</td>\n",
       "      <td>9.968944</td>\n",
       "      <td>5.257781</td>\n",
       "      <td>42.701629</td>\n",
       "      <td>69.266198</td>\n",
       "      <td>10.462676</td>\n",
       "      <td>0.927452</td>\n",
       "      <td>16.634514</td>\n",
       "      <td>2.224930</td>\n",
       "      <td>...</td>\n",
       "      <td>13.992281</td>\n",
       "      <td>-505.503262</td>\n",
       "      <td>11.950531</td>\n",
       "      <td>-501.331529</td>\n",
       "      <td>10.039245</td>\n",
       "      <td>-500.169983</td>\n",
       "      <td>7.984757</td>\n",
       "      <td>-500.582168</td>\n",
       "      <td>13.998353</td>\n",
       "      <td>-599.787184</td>\n",
       "    </tr>\n",
       "    <tr>\n",
       "      <td>2</td>\n",
       "      <td>2016-01-15 02:00:00</td>\n",
       "      <td>6.055926</td>\n",
       "      <td>10.213995</td>\n",
       "      <td>5.383759</td>\n",
       "      <td>42.657501</td>\n",
       "      <td>68.116445</td>\n",
       "      <td>10.507046</td>\n",
       "      <td>0.953716</td>\n",
       "      <td>16.208849</td>\n",
       "      <td>2.257889</td>\n",
       "      <td>...</td>\n",
       "      <td>14.015015</td>\n",
       "      <td>-502.520901</td>\n",
       "      <td>11.912783</td>\n",
       "      <td>-501.133383</td>\n",
       "      <td>10.070913</td>\n",
       "      <td>-500.129135</td>\n",
       "      <td>8.013877</td>\n",
       "      <td>-500.517572</td>\n",
       "      <td>14.028663</td>\n",
       "      <td>-601.427363</td>\n",
       "    </tr>\n",
       "    <tr>\n",
       "      <td>3</td>\n",
       "      <td>2016-01-15 03:00:00</td>\n",
       "      <td>6.047977</td>\n",
       "      <td>9.977019</td>\n",
       "      <td>4.858634</td>\n",
       "      <td>42.689819</td>\n",
       "      <td>68.347543</td>\n",
       "      <td>10.422762</td>\n",
       "      <td>0.883763</td>\n",
       "      <td>16.532835</td>\n",
       "      <td>2.146849</td>\n",
       "      <td>...</td>\n",
       "      <td>14.036510</td>\n",
       "      <td>-500.857308</td>\n",
       "      <td>11.999550</td>\n",
       "      <td>-501.193686</td>\n",
       "      <td>9.970366</td>\n",
       "      <td>-499.201640</td>\n",
       "      <td>7.977324</td>\n",
       "      <td>-500.255908</td>\n",
       "      <td>14.005551</td>\n",
       "      <td>-599.996129</td>\n",
       "    </tr>\n",
       "    <tr>\n",
       "      <td>4</td>\n",
       "      <td>2016-01-15 04:00:00</td>\n",
       "      <td>6.148599</td>\n",
       "      <td>10.142511</td>\n",
       "      <td>4.939416</td>\n",
       "      <td>42.774141</td>\n",
       "      <td>66.927016</td>\n",
       "      <td>10.360302</td>\n",
       "      <td>0.792826</td>\n",
       "      <td>16.525686</td>\n",
       "      <td>2.055292</td>\n",
       "      <td>...</td>\n",
       "      <td>14.027298</td>\n",
       "      <td>-499.838632</td>\n",
       "      <td>11.953070</td>\n",
       "      <td>-501.053894</td>\n",
       "      <td>9.925709</td>\n",
       "      <td>-501.686727</td>\n",
       "      <td>7.894242</td>\n",
       "      <td>-500.356035</td>\n",
       "      <td>13.996647</td>\n",
       "      <td>-601.496691</td>\n",
       "    </tr>\n",
       "  </tbody>\n",
       "</table>\n",
       "<p>5 rows × 87 columns</p>\n",
       "</div>"
      ],
      "text/plain": [
       "                  date  final.output.concentrate_ag  \\\n",
       "0  2016-01-15 00:00:00                     6.055403   \n",
       "1  2016-01-15 01:00:00                     6.029369   \n",
       "2  2016-01-15 02:00:00                     6.055926   \n",
       "3  2016-01-15 03:00:00                     6.047977   \n",
       "4  2016-01-15 04:00:00                     6.148599   \n",
       "\n",
       "   final.output.concentrate_pb  final.output.concentrate_sol  \\\n",
       "0                     9.889648                      5.507324   \n",
       "1                     9.968944                      5.257781   \n",
       "2                    10.213995                      5.383759   \n",
       "3                     9.977019                      4.858634   \n",
       "4                    10.142511                      4.939416   \n",
       "\n",
       "   final.output.concentrate_au  final.output.recovery  final.output.tail_ag  \\\n",
       "0                    42.192020              70.541216             10.411962   \n",
       "1                    42.701629              69.266198             10.462676   \n",
       "2                    42.657501              68.116445             10.507046   \n",
       "3                    42.689819              68.347543             10.422762   \n",
       "4                    42.774141              66.927016             10.360302   \n",
       "\n",
       "   final.output.tail_pb  final.output.tail_sol  final.output.tail_au  ...  \\\n",
       "0              0.895447              16.904297              2.143149  ...   \n",
       "1              0.927452              16.634514              2.224930  ...   \n",
       "2              0.953716              16.208849              2.257889  ...   \n",
       "3              0.883763              16.532835              2.146849  ...   \n",
       "4              0.792826              16.525686              2.055292  ...   \n",
       "\n",
       "   secondary_cleaner.state.floatbank4_a_air  \\\n",
       "0                                 14.016835   \n",
       "1                                 13.992281   \n",
       "2                                 14.015015   \n",
       "3                                 14.036510   \n",
       "4                                 14.027298   \n",
       "\n",
       "   secondary_cleaner.state.floatbank4_a_level  \\\n",
       "0                                 -502.488007   \n",
       "1                                 -505.503262   \n",
       "2                                 -502.520901   \n",
       "3                                 -500.857308   \n",
       "4                                 -499.838632   \n",
       "\n",
       "   secondary_cleaner.state.floatbank4_b_air  \\\n",
       "0                                 12.099931   \n",
       "1                                 11.950531   \n",
       "2                                 11.912783   \n",
       "3                                 11.999550   \n",
       "4                                 11.953070   \n",
       "\n",
       "   secondary_cleaner.state.floatbank4_b_level  \\\n",
       "0                                 -504.715942   \n",
       "1                                 -501.331529   \n",
       "2                                 -501.133383   \n",
       "3                                 -501.193686   \n",
       "4                                 -501.053894   \n",
       "\n",
       "   secondary_cleaner.state.floatbank5_a_air  \\\n",
       "0                                  9.925633   \n",
       "1                                 10.039245   \n",
       "2                                 10.070913   \n",
       "3                                  9.970366   \n",
       "4                                  9.925709   \n",
       "\n",
       "   secondary_cleaner.state.floatbank5_a_level  \\\n",
       "0                                 -498.310211   \n",
       "1                                 -500.169983   \n",
       "2                                 -500.129135   \n",
       "3                                 -499.201640   \n",
       "4                                 -501.686727   \n",
       "\n",
       "   secondary_cleaner.state.floatbank5_b_air  \\\n",
       "0                                  8.079666   \n",
       "1                                  7.984757   \n",
       "2                                  8.013877   \n",
       "3                                  7.977324   \n",
       "4                                  7.894242   \n",
       "\n",
       "   secondary_cleaner.state.floatbank5_b_level  \\\n",
       "0                                 -500.470978   \n",
       "1                                 -500.582168   \n",
       "2                                 -500.517572   \n",
       "3                                 -500.255908   \n",
       "4                                 -500.356035   \n",
       "\n",
       "   secondary_cleaner.state.floatbank6_a_air  \\\n",
       "0                                 14.151341   \n",
       "1                                 13.998353   \n",
       "2                                 14.028663   \n",
       "3                                 14.005551   \n",
       "4                                 13.996647   \n",
       "\n",
       "   secondary_cleaner.state.floatbank6_a_level  \n",
       "0                                 -605.841980  \n",
       "1                                 -599.787184  \n",
       "2                                 -601.427363  \n",
       "3                                 -599.996129  \n",
       "4                                 -601.496691  \n",
       "\n",
       "[5 rows x 87 columns]"
      ]
     },
     "execution_count": 6,
     "metadata": {},
     "output_type": "execute_result"
    }
   ],
   "source": [
    "train.head()"
   ]
  },
  {
   "cell_type": "code",
   "execution_count": 7,
   "metadata": {
    "scrolled": true
   },
   "outputs": [
    {
     "name": "stdout",
     "output_type": "stream",
     "text": [
      "<class 'pandas.core.frame.DataFrame'>\n",
      "RangeIndex: 5856 entries, 0 to 5855\n",
      "Data columns (total 53 columns):\n",
      "date                                          5856 non-null object\n",
      "primary_cleaner.input.sulfate                 5554 non-null float64\n",
      "primary_cleaner.input.depressant              5572 non-null float64\n",
      "primary_cleaner.input.feed_size               5856 non-null float64\n",
      "primary_cleaner.input.xanthate                5690 non-null float64\n",
      "primary_cleaner.state.floatbank8_a_air        5840 non-null float64\n",
      "primary_cleaner.state.floatbank8_a_level      5840 non-null float64\n",
      "primary_cleaner.state.floatbank8_b_air        5840 non-null float64\n",
      "primary_cleaner.state.floatbank8_b_level      5840 non-null float64\n",
      "primary_cleaner.state.floatbank8_c_air        5840 non-null float64\n",
      "primary_cleaner.state.floatbank8_c_level      5840 non-null float64\n",
      "primary_cleaner.state.floatbank8_d_air        5840 non-null float64\n",
      "primary_cleaner.state.floatbank8_d_level      5840 non-null float64\n",
      "rougher.input.feed_ag                         5840 non-null float64\n",
      "rougher.input.feed_pb                         5840 non-null float64\n",
      "rougher.input.feed_rate                       5816 non-null float64\n",
      "rougher.input.feed_size                       5834 non-null float64\n",
      "rougher.input.feed_sol                        5789 non-null float64\n",
      "rougher.input.feed_au                         5840 non-null float64\n",
      "rougher.input.floatbank10_sulfate             5599 non-null float64\n",
      "rougher.input.floatbank10_xanthate            5733 non-null float64\n",
      "rougher.input.floatbank11_sulfate             5801 non-null float64\n",
      "rougher.input.floatbank11_xanthate            5503 non-null float64\n",
      "rougher.state.floatbank10_a_air               5839 non-null float64\n",
      "rougher.state.floatbank10_a_level             5840 non-null float64\n",
      "rougher.state.floatbank10_b_air               5839 non-null float64\n",
      "rougher.state.floatbank10_b_level             5840 non-null float64\n",
      "rougher.state.floatbank10_c_air               5839 non-null float64\n",
      "rougher.state.floatbank10_c_level             5840 non-null float64\n",
      "rougher.state.floatbank10_d_air               5839 non-null float64\n",
      "rougher.state.floatbank10_d_level             5840 non-null float64\n",
      "rougher.state.floatbank10_e_air               5839 non-null float64\n",
      "rougher.state.floatbank10_e_level             5840 non-null float64\n",
      "rougher.state.floatbank10_f_air               5839 non-null float64\n",
      "rougher.state.floatbank10_f_level             5840 non-null float64\n",
      "secondary_cleaner.state.floatbank2_a_air      5836 non-null float64\n",
      "secondary_cleaner.state.floatbank2_a_level    5840 non-null float64\n",
      "secondary_cleaner.state.floatbank2_b_air      5833 non-null float64\n",
      "secondary_cleaner.state.floatbank2_b_level    5840 non-null float64\n",
      "secondary_cleaner.state.floatbank3_a_air      5822 non-null float64\n",
      "secondary_cleaner.state.floatbank3_a_level    5840 non-null float64\n",
      "secondary_cleaner.state.floatbank3_b_air      5840 non-null float64\n",
      "secondary_cleaner.state.floatbank3_b_level    5840 non-null float64\n",
      "secondary_cleaner.state.floatbank4_a_air      5840 non-null float64\n",
      "secondary_cleaner.state.floatbank4_a_level    5840 non-null float64\n",
      "secondary_cleaner.state.floatbank4_b_air      5840 non-null float64\n",
      "secondary_cleaner.state.floatbank4_b_level    5840 non-null float64\n",
      "secondary_cleaner.state.floatbank5_a_air      5840 non-null float64\n",
      "secondary_cleaner.state.floatbank5_a_level    5840 non-null float64\n",
      "secondary_cleaner.state.floatbank5_b_air      5840 non-null float64\n",
      "secondary_cleaner.state.floatbank5_b_level    5840 non-null float64\n",
      "secondary_cleaner.state.floatbank6_a_air      5840 non-null float64\n",
      "secondary_cleaner.state.floatbank6_a_level    5840 non-null float64\n",
      "dtypes: float64(52), object(1)\n",
      "memory usage: 2.4+ MB\n"
     ]
    }
   ],
   "source": [
    "test.info()"
   ]
  },
  {
   "cell_type": "code",
   "execution_count": 8,
   "metadata": {
    "scrolled": true
   },
   "outputs": [
    {
     "data": {
      "text/html": [
       "<div>\n",
       "<style scoped>\n",
       "    .dataframe tbody tr th:only-of-type {\n",
       "        vertical-align: middle;\n",
       "    }\n",
       "\n",
       "    .dataframe tbody tr th {\n",
       "        vertical-align: top;\n",
       "    }\n",
       "\n",
       "    .dataframe thead th {\n",
       "        text-align: right;\n",
       "    }\n",
       "</style>\n",
       "<table border=\"1\" class=\"dataframe\">\n",
       "  <thead>\n",
       "    <tr style=\"text-align: right;\">\n",
       "      <th></th>\n",
       "      <th>date</th>\n",
       "      <th>primary_cleaner.input.sulfate</th>\n",
       "      <th>primary_cleaner.input.depressant</th>\n",
       "      <th>primary_cleaner.input.feed_size</th>\n",
       "      <th>primary_cleaner.input.xanthate</th>\n",
       "      <th>primary_cleaner.state.floatbank8_a_air</th>\n",
       "      <th>primary_cleaner.state.floatbank8_a_level</th>\n",
       "      <th>primary_cleaner.state.floatbank8_b_air</th>\n",
       "      <th>primary_cleaner.state.floatbank8_b_level</th>\n",
       "      <th>primary_cleaner.state.floatbank8_c_air</th>\n",
       "      <th>...</th>\n",
       "      <th>secondary_cleaner.state.floatbank4_a_air</th>\n",
       "      <th>secondary_cleaner.state.floatbank4_a_level</th>\n",
       "      <th>secondary_cleaner.state.floatbank4_b_air</th>\n",
       "      <th>secondary_cleaner.state.floatbank4_b_level</th>\n",
       "      <th>secondary_cleaner.state.floatbank5_a_air</th>\n",
       "      <th>secondary_cleaner.state.floatbank5_a_level</th>\n",
       "      <th>secondary_cleaner.state.floatbank5_b_air</th>\n",
       "      <th>secondary_cleaner.state.floatbank5_b_level</th>\n",
       "      <th>secondary_cleaner.state.floatbank6_a_air</th>\n",
       "      <th>secondary_cleaner.state.floatbank6_a_level</th>\n",
       "    </tr>\n",
       "  </thead>\n",
       "  <tbody>\n",
       "    <tr>\n",
       "      <td>0</td>\n",
       "      <td>2016-09-01 00:59:59</td>\n",
       "      <td>210.800909</td>\n",
       "      <td>14.993118</td>\n",
       "      <td>8.080000</td>\n",
       "      <td>1.005021</td>\n",
       "      <td>1398.981301</td>\n",
       "      <td>-500.225577</td>\n",
       "      <td>1399.144926</td>\n",
       "      <td>-499.919735</td>\n",
       "      <td>1400.102998</td>\n",
       "      <td>...</td>\n",
       "      <td>12.023554</td>\n",
       "      <td>-497.795834</td>\n",
       "      <td>8.016656</td>\n",
       "      <td>-501.289139</td>\n",
       "      <td>7.946562</td>\n",
       "      <td>-432.317850</td>\n",
       "      <td>4.872511</td>\n",
       "      <td>-500.037437</td>\n",
       "      <td>26.705889</td>\n",
       "      <td>-499.709414</td>\n",
       "    </tr>\n",
       "    <tr>\n",
       "      <td>1</td>\n",
       "      <td>2016-09-01 01:59:59</td>\n",
       "      <td>215.392455</td>\n",
       "      <td>14.987471</td>\n",
       "      <td>8.080000</td>\n",
       "      <td>0.990469</td>\n",
       "      <td>1398.777912</td>\n",
       "      <td>-500.057435</td>\n",
       "      <td>1398.055362</td>\n",
       "      <td>-499.778182</td>\n",
       "      <td>1396.151033</td>\n",
       "      <td>...</td>\n",
       "      <td>12.058140</td>\n",
       "      <td>-498.695773</td>\n",
       "      <td>8.130979</td>\n",
       "      <td>-499.634209</td>\n",
       "      <td>7.958270</td>\n",
       "      <td>-525.839648</td>\n",
       "      <td>4.878850</td>\n",
       "      <td>-500.162375</td>\n",
       "      <td>25.019940</td>\n",
       "      <td>-499.819438</td>\n",
       "    </tr>\n",
       "    <tr>\n",
       "      <td>2</td>\n",
       "      <td>2016-09-01 02:59:59</td>\n",
       "      <td>215.259946</td>\n",
       "      <td>12.884934</td>\n",
       "      <td>7.786667</td>\n",
       "      <td>0.996043</td>\n",
       "      <td>1398.493666</td>\n",
       "      <td>-500.868360</td>\n",
       "      <td>1398.860436</td>\n",
       "      <td>-499.764529</td>\n",
       "      <td>1398.075709</td>\n",
       "      <td>...</td>\n",
       "      <td>11.962366</td>\n",
       "      <td>-498.767484</td>\n",
       "      <td>8.096893</td>\n",
       "      <td>-500.827423</td>\n",
       "      <td>8.071056</td>\n",
       "      <td>-500.801673</td>\n",
       "      <td>4.905125</td>\n",
       "      <td>-499.828510</td>\n",
       "      <td>24.994862</td>\n",
       "      <td>-500.622559</td>\n",
       "    </tr>\n",
       "    <tr>\n",
       "      <td>3</td>\n",
       "      <td>2016-09-01 03:59:59</td>\n",
       "      <td>215.336236</td>\n",
       "      <td>12.006805</td>\n",
       "      <td>7.640000</td>\n",
       "      <td>0.863514</td>\n",
       "      <td>1399.618111</td>\n",
       "      <td>-498.863574</td>\n",
       "      <td>1397.440120</td>\n",
       "      <td>-499.211024</td>\n",
       "      <td>1400.129303</td>\n",
       "      <td>...</td>\n",
       "      <td>12.033091</td>\n",
       "      <td>-498.350935</td>\n",
       "      <td>8.074946</td>\n",
       "      <td>-499.474407</td>\n",
       "      <td>7.897085</td>\n",
       "      <td>-500.868509</td>\n",
       "      <td>4.931400</td>\n",
       "      <td>-499.963623</td>\n",
       "      <td>24.948919</td>\n",
       "      <td>-498.709987</td>\n",
       "    </tr>\n",
       "    <tr>\n",
       "      <td>4</td>\n",
       "      <td>2016-09-01 04:59:59</td>\n",
       "      <td>199.099327</td>\n",
       "      <td>10.682530</td>\n",
       "      <td>7.530000</td>\n",
       "      <td>0.805575</td>\n",
       "      <td>1401.268123</td>\n",
       "      <td>-500.808305</td>\n",
       "      <td>1398.128818</td>\n",
       "      <td>-499.504543</td>\n",
       "      <td>1402.172226</td>\n",
       "      <td>...</td>\n",
       "      <td>12.025367</td>\n",
       "      <td>-500.786497</td>\n",
       "      <td>8.054678</td>\n",
       "      <td>-500.397500</td>\n",
       "      <td>8.107890</td>\n",
       "      <td>-509.526725</td>\n",
       "      <td>4.957674</td>\n",
       "      <td>-500.360026</td>\n",
       "      <td>25.003331</td>\n",
       "      <td>-500.856333</td>\n",
       "    </tr>\n",
       "  </tbody>\n",
       "</table>\n",
       "<p>5 rows × 53 columns</p>\n",
       "</div>"
      ],
      "text/plain": [
       "                  date  primary_cleaner.input.sulfate  \\\n",
       "0  2016-09-01 00:59:59                     210.800909   \n",
       "1  2016-09-01 01:59:59                     215.392455   \n",
       "2  2016-09-01 02:59:59                     215.259946   \n",
       "3  2016-09-01 03:59:59                     215.336236   \n",
       "4  2016-09-01 04:59:59                     199.099327   \n",
       "\n",
       "   primary_cleaner.input.depressant  primary_cleaner.input.feed_size  \\\n",
       "0                         14.993118                         8.080000   \n",
       "1                         14.987471                         8.080000   \n",
       "2                         12.884934                         7.786667   \n",
       "3                         12.006805                         7.640000   \n",
       "4                         10.682530                         7.530000   \n",
       "\n",
       "   primary_cleaner.input.xanthate  primary_cleaner.state.floatbank8_a_air  \\\n",
       "0                        1.005021                             1398.981301   \n",
       "1                        0.990469                             1398.777912   \n",
       "2                        0.996043                             1398.493666   \n",
       "3                        0.863514                             1399.618111   \n",
       "4                        0.805575                             1401.268123   \n",
       "\n",
       "   primary_cleaner.state.floatbank8_a_level  \\\n",
       "0                               -500.225577   \n",
       "1                               -500.057435   \n",
       "2                               -500.868360   \n",
       "3                               -498.863574   \n",
       "4                               -500.808305   \n",
       "\n",
       "   primary_cleaner.state.floatbank8_b_air  \\\n",
       "0                             1399.144926   \n",
       "1                             1398.055362   \n",
       "2                             1398.860436   \n",
       "3                             1397.440120   \n",
       "4                             1398.128818   \n",
       "\n",
       "   primary_cleaner.state.floatbank8_b_level  \\\n",
       "0                               -499.919735   \n",
       "1                               -499.778182   \n",
       "2                               -499.764529   \n",
       "3                               -499.211024   \n",
       "4                               -499.504543   \n",
       "\n",
       "   primary_cleaner.state.floatbank8_c_air  ...  \\\n",
       "0                             1400.102998  ...   \n",
       "1                             1396.151033  ...   \n",
       "2                             1398.075709  ...   \n",
       "3                             1400.129303  ...   \n",
       "4                             1402.172226  ...   \n",
       "\n",
       "   secondary_cleaner.state.floatbank4_a_air  \\\n",
       "0                                 12.023554   \n",
       "1                                 12.058140   \n",
       "2                                 11.962366   \n",
       "3                                 12.033091   \n",
       "4                                 12.025367   \n",
       "\n",
       "   secondary_cleaner.state.floatbank4_a_level  \\\n",
       "0                                 -497.795834   \n",
       "1                                 -498.695773   \n",
       "2                                 -498.767484   \n",
       "3                                 -498.350935   \n",
       "4                                 -500.786497   \n",
       "\n",
       "   secondary_cleaner.state.floatbank4_b_air  \\\n",
       "0                                  8.016656   \n",
       "1                                  8.130979   \n",
       "2                                  8.096893   \n",
       "3                                  8.074946   \n",
       "4                                  8.054678   \n",
       "\n",
       "   secondary_cleaner.state.floatbank4_b_level  \\\n",
       "0                                 -501.289139   \n",
       "1                                 -499.634209   \n",
       "2                                 -500.827423   \n",
       "3                                 -499.474407   \n",
       "4                                 -500.397500   \n",
       "\n",
       "   secondary_cleaner.state.floatbank5_a_air  \\\n",
       "0                                  7.946562   \n",
       "1                                  7.958270   \n",
       "2                                  8.071056   \n",
       "3                                  7.897085   \n",
       "4                                  8.107890   \n",
       "\n",
       "   secondary_cleaner.state.floatbank5_a_level  \\\n",
       "0                                 -432.317850   \n",
       "1                                 -525.839648   \n",
       "2                                 -500.801673   \n",
       "3                                 -500.868509   \n",
       "4                                 -509.526725   \n",
       "\n",
       "   secondary_cleaner.state.floatbank5_b_air  \\\n",
       "0                                  4.872511   \n",
       "1                                  4.878850   \n",
       "2                                  4.905125   \n",
       "3                                  4.931400   \n",
       "4                                  4.957674   \n",
       "\n",
       "   secondary_cleaner.state.floatbank5_b_level  \\\n",
       "0                                 -500.037437   \n",
       "1                                 -500.162375   \n",
       "2                                 -499.828510   \n",
       "3                                 -499.963623   \n",
       "4                                 -500.360026   \n",
       "\n",
       "   secondary_cleaner.state.floatbank6_a_air  \\\n",
       "0                                 26.705889   \n",
       "1                                 25.019940   \n",
       "2                                 24.994862   \n",
       "3                                 24.948919   \n",
       "4                                 25.003331   \n",
       "\n",
       "   secondary_cleaner.state.floatbank6_a_level  \n",
       "0                                 -499.709414  \n",
       "1                                 -499.819438  \n",
       "2                                 -500.622559  \n",
       "3                                 -498.709987  \n",
       "4                                 -500.856333  \n",
       "\n",
       "[5 rows x 53 columns]"
      ]
     },
     "execution_count": 8,
     "metadata": {},
     "output_type": "execute_result"
    }
   ],
   "source": [
    "test.head()"
   ]
  },
  {
   "cell_type": "code",
   "execution_count": 9,
   "metadata": {
    "scrolled": true
   },
   "outputs": [
    {
     "name": "stdout",
     "output_type": "stream",
     "text": [
      "date                                            0\n",
      "primary_cleaner.input.sulfate                 302\n",
      "primary_cleaner.input.depressant              284\n",
      "primary_cleaner.input.feed_size                 0\n",
      "primary_cleaner.input.xanthate                166\n",
      "primary_cleaner.state.floatbank8_a_air         16\n",
      "primary_cleaner.state.floatbank8_a_level       16\n",
      "primary_cleaner.state.floatbank8_b_air         16\n",
      "primary_cleaner.state.floatbank8_b_level       16\n",
      "primary_cleaner.state.floatbank8_c_air         16\n",
      "primary_cleaner.state.floatbank8_c_level       16\n",
      "primary_cleaner.state.floatbank8_d_air         16\n",
      "primary_cleaner.state.floatbank8_d_level       16\n",
      "rougher.input.feed_ag                          16\n",
      "rougher.input.feed_pb                          16\n",
      "rougher.input.feed_rate                        40\n",
      "rougher.input.feed_size                        22\n",
      "rougher.input.feed_sol                         67\n",
      "rougher.input.feed_au                          16\n",
      "rougher.input.floatbank10_sulfate             257\n",
      "rougher.input.floatbank10_xanthate            123\n",
      "rougher.input.floatbank11_sulfate              55\n",
      "rougher.input.floatbank11_xanthate            353\n",
      "rougher.state.floatbank10_a_air                17\n",
      "rougher.state.floatbank10_a_level              16\n",
      "rougher.state.floatbank10_b_air                17\n",
      "rougher.state.floatbank10_b_level              16\n",
      "rougher.state.floatbank10_c_air                17\n",
      "rougher.state.floatbank10_c_level              16\n",
      "rougher.state.floatbank10_d_air                17\n",
      "rougher.state.floatbank10_d_level              16\n",
      "rougher.state.floatbank10_e_air                17\n",
      "rougher.state.floatbank10_e_level              16\n",
      "rougher.state.floatbank10_f_air                17\n",
      "rougher.state.floatbank10_f_level              16\n",
      "secondary_cleaner.state.floatbank2_a_air       20\n",
      "secondary_cleaner.state.floatbank2_a_level     16\n",
      "secondary_cleaner.state.floatbank2_b_air       23\n",
      "secondary_cleaner.state.floatbank2_b_level     16\n",
      "secondary_cleaner.state.floatbank3_a_air       34\n",
      "secondary_cleaner.state.floatbank3_a_level     16\n",
      "secondary_cleaner.state.floatbank3_b_air       16\n",
      "secondary_cleaner.state.floatbank3_b_level     16\n",
      "secondary_cleaner.state.floatbank4_a_air       16\n",
      "secondary_cleaner.state.floatbank4_a_level     16\n",
      "secondary_cleaner.state.floatbank4_b_air       16\n",
      "secondary_cleaner.state.floatbank4_b_level     16\n",
      "secondary_cleaner.state.floatbank5_a_air       16\n",
      "secondary_cleaner.state.floatbank5_a_level     16\n",
      "secondary_cleaner.state.floatbank5_b_air       16\n",
      "secondary_cleaner.state.floatbank5_b_level     16\n",
      "secondary_cleaner.state.floatbank6_a_air       16\n",
      "secondary_cleaner.state.floatbank6_a_level     16\n",
      "dtype: int64\n"
     ]
    }
   ],
   "source": [
    "print(test.isna().sum())"
   ]
  },
  {
   "cell_type": "code",
   "execution_count": 10,
   "metadata": {},
   "outputs": [
    {
     "name": "stdout",
     "output_type": "stream",
     "text": [
      "<class 'pandas.core.frame.DataFrame'>\n",
      "RangeIndex: 22716 entries, 0 to 22715\n",
      "Data columns (total 87 columns):\n",
      "date                                                  22716 non-null object\n",
      "final.output.concentrate_ag                           22627 non-null float64\n",
      "final.output.concentrate_pb                           22629 non-null float64\n",
      "final.output.concentrate_sol                          22331 non-null float64\n",
      "final.output.concentrate_au                           22630 non-null float64\n",
      "final.output.recovery                                 20753 non-null float64\n",
      "final.output.tail_ag                                  22633 non-null float64\n",
      "final.output.tail_pb                                  22516 non-null float64\n",
      "final.output.tail_sol                                 22445 non-null float64\n",
      "final.output.tail_au                                  22635 non-null float64\n",
      "primary_cleaner.input.sulfate                         21107 non-null float64\n",
      "primary_cleaner.input.depressant                      21170 non-null float64\n",
      "primary_cleaner.input.feed_size                       22716 non-null float64\n",
      "primary_cleaner.input.xanthate                        21565 non-null float64\n",
      "primary_cleaner.output.concentrate_ag                 22618 non-null float64\n",
      "primary_cleaner.output.concentrate_pb                 22268 non-null float64\n",
      "primary_cleaner.output.concentrate_sol                21918 non-null float64\n",
      "primary_cleaner.output.concentrate_au                 22618 non-null float64\n",
      "primary_cleaner.output.tail_ag                        22614 non-null float64\n",
      "primary_cleaner.output.tail_pb                        22594 non-null float64\n",
      "primary_cleaner.output.tail_sol                       22365 non-null float64\n",
      "primary_cleaner.output.tail_au                        22617 non-null float64\n",
      "primary_cleaner.state.floatbank8_a_air                22660 non-null float64\n",
      "primary_cleaner.state.floatbank8_a_level              22667 non-null float64\n",
      "primary_cleaner.state.floatbank8_b_air                22660 non-null float64\n",
      "primary_cleaner.state.floatbank8_b_level              22673 non-null float64\n",
      "primary_cleaner.state.floatbank8_c_air                22662 non-null float64\n",
      "primary_cleaner.state.floatbank8_c_level              22673 non-null float64\n",
      "primary_cleaner.state.floatbank8_d_air                22661 non-null float64\n",
      "primary_cleaner.state.floatbank8_d_level              22673 non-null float64\n",
      "rougher.calculation.sulfate_to_au_concentrate         22672 non-null float64\n",
      "rougher.calculation.floatbank10_sulfate_to_au_feed    22672 non-null float64\n",
      "rougher.calculation.floatbank11_sulfate_to_au_feed    22672 non-null float64\n",
      "rougher.calculation.au_pb_ratio                       21089 non-null float64\n",
      "rougher.input.feed_ag                                 22618 non-null float64\n",
      "rougher.input.feed_pb                                 22472 non-null float64\n",
      "rougher.input.feed_rate                               22163 non-null float64\n",
      "rougher.input.feed_size                               22277 non-null float64\n",
      "rougher.input.feed_sol                                22357 non-null float64\n",
      "rougher.input.feed_au                                 22617 non-null float64\n",
      "rougher.input.floatbank10_sulfate                     21415 non-null float64\n",
      "rougher.input.floatbank10_xanthate                    22247 non-null float64\n",
      "rougher.input.floatbank11_sulfate                     22038 non-null float64\n",
      "rougher.input.floatbank11_xanthate                    20459 non-null float64\n",
      "rougher.output.concentrate_ag                         22618 non-null float64\n",
      "rougher.output.concentrate_pb                         22618 non-null float64\n",
      "rougher.output.concentrate_sol                        22526 non-null float64\n",
      "rougher.output.concentrate_au                         22618 non-null float64\n",
      "rougher.output.recovery                               19597 non-null float64\n",
      "rougher.output.tail_ag                                19979 non-null float64\n",
      "rougher.output.tail_pb                                22618 non-null float64\n",
      "rougher.output.tail_sol                               19980 non-null float64\n",
      "rougher.output.tail_au                                19980 non-null float64\n",
      "rougher.state.floatbank10_a_air                       22646 non-null float64\n",
      "rougher.state.floatbank10_a_level                     22647 non-null float64\n",
      "rougher.state.floatbank10_b_air                       22646 non-null float64\n",
      "rougher.state.floatbank10_b_level                     22647 non-null float64\n",
      "rougher.state.floatbank10_c_air                       22646 non-null float64\n",
      "rougher.state.floatbank10_c_level                     22654 non-null float64\n",
      "rougher.state.floatbank10_d_air                       22641 non-null float64\n",
      "rougher.state.floatbank10_d_level                     22649 non-null float64\n",
      "rougher.state.floatbank10_e_air                       22096 non-null float64\n",
      "rougher.state.floatbank10_e_level                     22649 non-null float64\n",
      "rougher.state.floatbank10_f_air                       22641 non-null float64\n",
      "rougher.state.floatbank10_f_level                     22642 non-null float64\n",
      "secondary_cleaner.output.tail_ag                      22616 non-null float64\n",
      "secondary_cleaner.output.tail_pb                      22600 non-null float64\n",
      "secondary_cleaner.output.tail_sol                     20501 non-null float64\n",
      "secondary_cleaner.output.tail_au                      22618 non-null float64\n",
      "secondary_cleaner.state.floatbank2_a_air              22333 non-null float64\n",
      "secondary_cleaner.state.floatbank2_a_level            22591 non-null float64\n",
      "secondary_cleaner.state.floatbank2_b_air              22538 non-null float64\n",
      "secondary_cleaner.state.floatbank2_b_level            22588 non-null float64\n",
      "secondary_cleaner.state.floatbank3_a_air              22585 non-null float64\n",
      "secondary_cleaner.state.floatbank3_a_level            22587 non-null float64\n",
      "secondary_cleaner.state.floatbank3_b_air              22592 non-null float64\n",
      "secondary_cleaner.state.floatbank3_b_level            22590 non-null float64\n",
      "secondary_cleaner.state.floatbank4_a_air              22571 non-null float64\n",
      "secondary_cleaner.state.floatbank4_a_level            22587 non-null float64\n",
      "secondary_cleaner.state.floatbank4_b_air              22608 non-null float64\n",
      "secondary_cleaner.state.floatbank4_b_level            22607 non-null float64\n",
      "secondary_cleaner.state.floatbank5_a_air              22615 non-null float64\n",
      "secondary_cleaner.state.floatbank5_a_level            22615 non-null float64\n",
      "secondary_cleaner.state.floatbank5_b_air              22615 non-null float64\n",
      "secondary_cleaner.state.floatbank5_b_level            22616 non-null float64\n",
      "secondary_cleaner.state.floatbank6_a_air              22597 non-null float64\n",
      "secondary_cleaner.state.floatbank6_a_level            22615 non-null float64\n",
      "dtypes: float64(86), object(1)\n",
      "memory usage: 15.1+ MB\n"
     ]
    }
   ],
   "source": [
    "data.info()"
   ]
  },
  {
   "cell_type": "code",
   "execution_count": 11,
   "metadata": {
    "scrolled": false
   },
   "outputs": [
    {
     "data": {
      "text/html": [
       "<div>\n",
       "<style scoped>\n",
       "    .dataframe tbody tr th:only-of-type {\n",
       "        vertical-align: middle;\n",
       "    }\n",
       "\n",
       "    .dataframe tbody tr th {\n",
       "        vertical-align: top;\n",
       "    }\n",
       "\n",
       "    .dataframe thead th {\n",
       "        text-align: right;\n",
       "    }\n",
       "</style>\n",
       "<table border=\"1\" class=\"dataframe\">\n",
       "  <thead>\n",
       "    <tr style=\"text-align: right;\">\n",
       "      <th></th>\n",
       "      <th>date</th>\n",
       "      <th>final.output.concentrate_ag</th>\n",
       "      <th>final.output.concentrate_pb</th>\n",
       "      <th>final.output.concentrate_sol</th>\n",
       "      <th>final.output.concentrate_au</th>\n",
       "      <th>final.output.recovery</th>\n",
       "      <th>final.output.tail_ag</th>\n",
       "      <th>final.output.tail_pb</th>\n",
       "      <th>final.output.tail_sol</th>\n",
       "      <th>final.output.tail_au</th>\n",
       "      <th>...</th>\n",
       "      <th>secondary_cleaner.state.floatbank4_a_air</th>\n",
       "      <th>secondary_cleaner.state.floatbank4_a_level</th>\n",
       "      <th>secondary_cleaner.state.floatbank4_b_air</th>\n",
       "      <th>secondary_cleaner.state.floatbank4_b_level</th>\n",
       "      <th>secondary_cleaner.state.floatbank5_a_air</th>\n",
       "      <th>secondary_cleaner.state.floatbank5_a_level</th>\n",
       "      <th>secondary_cleaner.state.floatbank5_b_air</th>\n",
       "      <th>secondary_cleaner.state.floatbank5_b_level</th>\n",
       "      <th>secondary_cleaner.state.floatbank6_a_air</th>\n",
       "      <th>secondary_cleaner.state.floatbank6_a_level</th>\n",
       "    </tr>\n",
       "  </thead>\n",
       "  <tbody>\n",
       "    <tr>\n",
       "      <td>0</td>\n",
       "      <td>2016-01-15 00:00:00</td>\n",
       "      <td>6.055403</td>\n",
       "      <td>9.889648</td>\n",
       "      <td>5.507324</td>\n",
       "      <td>42.192020</td>\n",
       "      <td>70.541216</td>\n",
       "      <td>10.411962</td>\n",
       "      <td>0.895447</td>\n",
       "      <td>16.904297</td>\n",
       "      <td>2.143149</td>\n",
       "      <td>...</td>\n",
       "      <td>14.016835</td>\n",
       "      <td>-502.488007</td>\n",
       "      <td>12.099931</td>\n",
       "      <td>-504.715942</td>\n",
       "      <td>9.925633</td>\n",
       "      <td>-498.310211</td>\n",
       "      <td>8.079666</td>\n",
       "      <td>-500.470978</td>\n",
       "      <td>14.151341</td>\n",
       "      <td>-605.841980</td>\n",
       "    </tr>\n",
       "    <tr>\n",
       "      <td>1</td>\n",
       "      <td>2016-01-15 01:00:00</td>\n",
       "      <td>6.029369</td>\n",
       "      <td>9.968944</td>\n",
       "      <td>5.257781</td>\n",
       "      <td>42.701629</td>\n",
       "      <td>69.266198</td>\n",
       "      <td>10.462676</td>\n",
       "      <td>0.927452</td>\n",
       "      <td>16.634514</td>\n",
       "      <td>2.224930</td>\n",
       "      <td>...</td>\n",
       "      <td>13.992281</td>\n",
       "      <td>-505.503262</td>\n",
       "      <td>11.950531</td>\n",
       "      <td>-501.331529</td>\n",
       "      <td>10.039245</td>\n",
       "      <td>-500.169983</td>\n",
       "      <td>7.984757</td>\n",
       "      <td>-500.582168</td>\n",
       "      <td>13.998353</td>\n",
       "      <td>-599.787184</td>\n",
       "    </tr>\n",
       "    <tr>\n",
       "      <td>2</td>\n",
       "      <td>2016-01-15 02:00:00</td>\n",
       "      <td>6.055926</td>\n",
       "      <td>10.213995</td>\n",
       "      <td>5.383759</td>\n",
       "      <td>42.657501</td>\n",
       "      <td>68.116445</td>\n",
       "      <td>10.507046</td>\n",
       "      <td>0.953716</td>\n",
       "      <td>16.208849</td>\n",
       "      <td>2.257889</td>\n",
       "      <td>...</td>\n",
       "      <td>14.015015</td>\n",
       "      <td>-502.520901</td>\n",
       "      <td>11.912783</td>\n",
       "      <td>-501.133383</td>\n",
       "      <td>10.070913</td>\n",
       "      <td>-500.129135</td>\n",
       "      <td>8.013877</td>\n",
       "      <td>-500.517572</td>\n",
       "      <td>14.028663</td>\n",
       "      <td>-601.427363</td>\n",
       "    </tr>\n",
       "    <tr>\n",
       "      <td>3</td>\n",
       "      <td>2016-01-15 03:00:00</td>\n",
       "      <td>6.047977</td>\n",
       "      <td>9.977019</td>\n",
       "      <td>4.858634</td>\n",
       "      <td>42.689819</td>\n",
       "      <td>68.347543</td>\n",
       "      <td>10.422762</td>\n",
       "      <td>0.883763</td>\n",
       "      <td>16.532835</td>\n",
       "      <td>2.146849</td>\n",
       "      <td>...</td>\n",
       "      <td>14.036510</td>\n",
       "      <td>-500.857308</td>\n",
       "      <td>11.999550</td>\n",
       "      <td>-501.193686</td>\n",
       "      <td>9.970366</td>\n",
       "      <td>-499.201640</td>\n",
       "      <td>7.977324</td>\n",
       "      <td>-500.255908</td>\n",
       "      <td>14.005551</td>\n",
       "      <td>-599.996129</td>\n",
       "    </tr>\n",
       "    <tr>\n",
       "      <td>4</td>\n",
       "      <td>2016-01-15 04:00:00</td>\n",
       "      <td>6.148599</td>\n",
       "      <td>10.142511</td>\n",
       "      <td>4.939416</td>\n",
       "      <td>42.774141</td>\n",
       "      <td>66.927016</td>\n",
       "      <td>10.360302</td>\n",
       "      <td>0.792826</td>\n",
       "      <td>16.525686</td>\n",
       "      <td>2.055292</td>\n",
       "      <td>...</td>\n",
       "      <td>14.027298</td>\n",
       "      <td>-499.838632</td>\n",
       "      <td>11.953070</td>\n",
       "      <td>-501.053894</td>\n",
       "      <td>9.925709</td>\n",
       "      <td>-501.686727</td>\n",
       "      <td>7.894242</td>\n",
       "      <td>-500.356035</td>\n",
       "      <td>13.996647</td>\n",
       "      <td>-601.496691</td>\n",
       "    </tr>\n",
       "  </tbody>\n",
       "</table>\n",
       "<p>5 rows × 87 columns</p>\n",
       "</div>"
      ],
      "text/plain": [
       "                  date  final.output.concentrate_ag  \\\n",
       "0  2016-01-15 00:00:00                     6.055403   \n",
       "1  2016-01-15 01:00:00                     6.029369   \n",
       "2  2016-01-15 02:00:00                     6.055926   \n",
       "3  2016-01-15 03:00:00                     6.047977   \n",
       "4  2016-01-15 04:00:00                     6.148599   \n",
       "\n",
       "   final.output.concentrate_pb  final.output.concentrate_sol  \\\n",
       "0                     9.889648                      5.507324   \n",
       "1                     9.968944                      5.257781   \n",
       "2                    10.213995                      5.383759   \n",
       "3                     9.977019                      4.858634   \n",
       "4                    10.142511                      4.939416   \n",
       "\n",
       "   final.output.concentrate_au  final.output.recovery  final.output.tail_ag  \\\n",
       "0                    42.192020              70.541216             10.411962   \n",
       "1                    42.701629              69.266198             10.462676   \n",
       "2                    42.657501              68.116445             10.507046   \n",
       "3                    42.689819              68.347543             10.422762   \n",
       "4                    42.774141              66.927016             10.360302   \n",
       "\n",
       "   final.output.tail_pb  final.output.tail_sol  final.output.tail_au  ...  \\\n",
       "0              0.895447              16.904297              2.143149  ...   \n",
       "1              0.927452              16.634514              2.224930  ...   \n",
       "2              0.953716              16.208849              2.257889  ...   \n",
       "3              0.883763              16.532835              2.146849  ...   \n",
       "4              0.792826              16.525686              2.055292  ...   \n",
       "\n",
       "   secondary_cleaner.state.floatbank4_a_air  \\\n",
       "0                                 14.016835   \n",
       "1                                 13.992281   \n",
       "2                                 14.015015   \n",
       "3                                 14.036510   \n",
       "4                                 14.027298   \n",
       "\n",
       "   secondary_cleaner.state.floatbank4_a_level  \\\n",
       "0                                 -502.488007   \n",
       "1                                 -505.503262   \n",
       "2                                 -502.520901   \n",
       "3                                 -500.857308   \n",
       "4                                 -499.838632   \n",
       "\n",
       "   secondary_cleaner.state.floatbank4_b_air  \\\n",
       "0                                 12.099931   \n",
       "1                                 11.950531   \n",
       "2                                 11.912783   \n",
       "3                                 11.999550   \n",
       "4                                 11.953070   \n",
       "\n",
       "   secondary_cleaner.state.floatbank4_b_level  \\\n",
       "0                                 -504.715942   \n",
       "1                                 -501.331529   \n",
       "2                                 -501.133383   \n",
       "3                                 -501.193686   \n",
       "4                                 -501.053894   \n",
       "\n",
       "   secondary_cleaner.state.floatbank5_a_air  \\\n",
       "0                                  9.925633   \n",
       "1                                 10.039245   \n",
       "2                                 10.070913   \n",
       "3                                  9.970366   \n",
       "4                                  9.925709   \n",
       "\n",
       "   secondary_cleaner.state.floatbank5_a_level  \\\n",
       "0                                 -498.310211   \n",
       "1                                 -500.169983   \n",
       "2                                 -500.129135   \n",
       "3                                 -499.201640   \n",
       "4                                 -501.686727   \n",
       "\n",
       "   secondary_cleaner.state.floatbank5_b_air  \\\n",
       "0                                  8.079666   \n",
       "1                                  7.984757   \n",
       "2                                  8.013877   \n",
       "3                                  7.977324   \n",
       "4                                  7.894242   \n",
       "\n",
       "   secondary_cleaner.state.floatbank5_b_level  \\\n",
       "0                                 -500.470978   \n",
       "1                                 -500.582168   \n",
       "2                                 -500.517572   \n",
       "3                                 -500.255908   \n",
       "4                                 -500.356035   \n",
       "\n",
       "   secondary_cleaner.state.floatbank6_a_air  \\\n",
       "0                                 14.151341   \n",
       "1                                 13.998353   \n",
       "2                                 14.028663   \n",
       "3                                 14.005551   \n",
       "4                                 13.996647   \n",
       "\n",
       "   secondary_cleaner.state.floatbank6_a_level  \n",
       "0                                 -605.841980  \n",
       "1                                 -599.787184  \n",
       "2                                 -601.427363  \n",
       "3                                 -599.996129  \n",
       "4                                 -601.496691  \n",
       "\n",
       "[5 rows x 87 columns]"
      ]
     },
     "execution_count": 11,
     "metadata": {},
     "output_type": "execute_result"
    }
   ],
   "source": [
    "data.head()"
   ]
  },
  {
   "cell_type": "markdown",
   "metadata": {},
   "source": [
    "Overall, we can see that there are some issues. There are missing values, which are not able to be handled by our model. In addition, our train and test sets have a different number of features which will present issues as well in our future calculations. We will address these issues in our preprocessing section, but first we will ensure our recovery calculation column is calculated correctly."
   ]
  },
  {
   "cell_type": "markdown",
   "metadata": {},
   "source": [
    "### Recovery Calculation\n",
    "Now we will check that recovery is calculated correctly. Using the training set, we calculate recovery for the rougher.output.recovery feature. Then we find the MAE between our calculations and the feature values. For the purposes of comparison, we will drop the missing values in that column for comparison."
   ]
  },
  {
   "cell_type": "code",
   "execution_count": 12,
   "metadata": {},
   "outputs": [],
   "source": [
    "train_set = train.dropna(subset = ['rougher.output.recovery']) # dropping missing values"
   ]
  },
  {
   "cell_type": "code",
   "execution_count": 13,
   "metadata": {},
   "outputs": [],
   "source": [
    "train_set = train_set.reset_index(drop=True) # resetting index"
   ]
  },
  {
   "cell_type": "code",
   "execution_count": 14,
   "metadata": {},
   "outputs": [],
   "source": [
    "def recovery(C,F,T): #defining function for recovery calculation \n",
    "    recovery = (C*(F-T))/(F*(C-T))*100\n",
    "    return recovery"
   ]
  },
  {
   "cell_type": "code",
   "execution_count": 15,
   "metadata": {
    "scrolled": true
   },
   "outputs": [],
   "source": [
    "#calling the function\n",
    "recovery_rougher = recovery(train_set['rougher.output.concentrate_au'], train_set['rougher.input.feed_au'], train_set['rougher.output.tail_au'])"
   ]
  },
  {
   "cell_type": "code",
   "execution_count": 16,
   "metadata": {},
   "outputs": [],
   "source": [
    "recovery_train = train['rougher.output.recovery'].dropna() #dropping our missing values"
   ]
  },
  {
   "cell_type": "code",
   "execution_count": 17,
   "metadata": {},
   "outputs": [],
   "source": [
    "recovery_train = recovery_train.reset_index(drop=True) #resetting index"
   ]
  },
  {
   "cell_type": "code",
   "execution_count": 18,
   "metadata": {},
   "outputs": [],
   "source": [
    "mae_rough = mean_absolute_error(recovery_train, recovery_rougher) #calculating the mae"
   ]
  },
  {
   "cell_type": "code",
   "execution_count": 19,
   "metadata": {
    "scrolled": false
   },
   "outputs": [
    {
     "name": "stdout",
     "output_type": "stream",
     "text": [
      "9.444891926100695e-15\n"
     ]
    }
   ],
   "source": [
    "print(mae_rough)"
   ]
  },
  {
   "cell_type": "markdown",
   "metadata": {},
   "source": [
    "We can see that our MAE is very low. This confirms that the recovery is calculated correctly as the margin of error is so low. "
   ]
  },
  {
   "cell_type": "markdown",
   "metadata": {},
   "source": [
    "### Analyzing the differences between Testing/Training Data\n",
    "Now we will examine closer the differences in features between our training and testing data."
   ]
  },
  {
   "cell_type": "code",
   "execution_count": 20,
   "metadata": {
    "scrolled": false
   },
   "outputs": [
    {
     "name": "stdout",
     "output_type": "stream",
     "text": [
      "final.output.concentrate_ag\n",
      "final.output.concentrate_pb\n",
      "final.output.concentrate_sol\n",
      "final.output.concentrate_au\n",
      "final.output.recovery\n",
      "final.output.tail_ag\n",
      "final.output.tail_pb\n",
      "final.output.tail_sol\n",
      "final.output.tail_au\n",
      "primary_cleaner.output.concentrate_ag\n",
      "primary_cleaner.output.concentrate_pb\n",
      "primary_cleaner.output.concentrate_sol\n",
      "primary_cleaner.output.concentrate_au\n",
      "primary_cleaner.output.tail_ag\n",
      "primary_cleaner.output.tail_pb\n",
      "primary_cleaner.output.tail_sol\n",
      "primary_cleaner.output.tail_au\n",
      "rougher.calculation.sulfate_to_au_concentrate\n",
      "rougher.calculation.floatbank10_sulfate_to_au_feed\n",
      "rougher.calculation.floatbank11_sulfate_to_au_feed\n",
      "rougher.calculation.au_pb_ratio\n",
      "rougher.output.concentrate_ag\n",
      "rougher.output.concentrate_pb\n",
      "rougher.output.concentrate_sol\n",
      "rougher.output.concentrate_au\n",
      "rougher.output.recovery\n",
      "rougher.output.tail_ag\n",
      "rougher.output.tail_pb\n",
      "rougher.output.tail_sol\n",
      "rougher.output.tail_au\n",
      "secondary_cleaner.output.tail_ag\n",
      "secondary_cleaner.output.tail_pb\n",
      "secondary_cleaner.output.tail_sol\n",
      "secondary_cleaner.output.tail_au\n"
     ]
    }
   ],
   "source": [
    "train_columns = train.columns\n",
    "test_columns = test.columns\n",
    "for i in train_columns:\n",
    "    if i not in test_columns:\n",
    "        print(i)"
   ]
  },
  {
   "cell_type": "markdown",
   "metadata": {},
   "source": [
    "We can see that there are several points missing from our test data set. Most of these are the final outputs, calculated columns and tails. Since these are values that are found later in the recovery process, our model will seek to predict the outcome prior to these measurements being taken."
   ]
  },
  {
   "cell_type": "markdown",
   "metadata": {},
   "source": [
    "### Preprocessing\n",
    "\n",
    "In this section we will make our data ready for processing. First, we will remove all our missing values, then we will remove the columns from our training set that are not present in our test set."
   ]
  },
  {
   "cell_type": "code",
   "execution_count": 21,
   "metadata": {},
   "outputs": [],
   "source": [
    "ttrain = train.dropna()"
   ]
  },
  {
   "cell_type": "code",
   "execution_count": 22,
   "metadata": {},
   "outputs": [],
   "source": [
    "#creating features for train set\n",
    "features_train = ttrain[['primary_cleaner.input.sulfate', 'primary_cleaner.input.depressant',\n",
    "       'primary_cleaner.input.feed_size', 'primary_cleaner.input.xanthate',\n",
    "       'primary_cleaner.state.floatbank8_a_air',\n",
    "       'primary_cleaner.state.floatbank8_a_level',\n",
    "       'primary_cleaner.state.floatbank8_b_air',\n",
    "       'primary_cleaner.state.floatbank8_b_level',\n",
    "       'primary_cleaner.state.floatbank8_c_air',\n",
    "       'primary_cleaner.state.floatbank8_c_level',\n",
    "       'primary_cleaner.state.floatbank8_d_air',\n",
    "       'primary_cleaner.state.floatbank8_d_level', 'rougher.input.feed_ag',\n",
    "       'rougher.input.feed_pb', 'rougher.input.feed_rate',\n",
    "       'rougher.input.feed_size', 'rougher.input.feed_sol',\n",
    "       'rougher.input.feed_au', 'rougher.input.floatbank10_sulfate',\n",
    "       'rougher.input.floatbank10_xanthate',\n",
    "       'rougher.input.floatbank11_sulfate',\n",
    "       'rougher.input.floatbank11_xanthate', 'rougher.state.floatbank10_a_air',\n",
    "       'rougher.state.floatbank10_a_level', 'rougher.state.floatbank10_b_air',\n",
    "       'rougher.state.floatbank10_b_level', 'rougher.state.floatbank10_c_air',\n",
    "       'rougher.state.floatbank10_c_level', 'rougher.state.floatbank10_d_air',\n",
    "       'rougher.state.floatbank10_d_level', 'rougher.state.floatbank10_e_air',\n",
    "       'rougher.state.floatbank10_e_level', 'rougher.state.floatbank10_f_air',\n",
    "       'rougher.state.floatbank10_f_level',\n",
    "       'secondary_cleaner.state.floatbank2_a_air',\n",
    "       'secondary_cleaner.state.floatbank2_a_level',\n",
    "       'secondary_cleaner.state.floatbank2_b_air',\n",
    "       'secondary_cleaner.state.floatbank2_b_level',\n",
    "       'secondary_cleaner.state.floatbank3_a_air',\n",
    "       'secondary_cleaner.state.floatbank3_a_level',\n",
    "       'secondary_cleaner.state.floatbank3_b_air',\n",
    "       'secondary_cleaner.state.floatbank3_b_level',\n",
    "       'secondary_cleaner.state.floatbank4_a_air',\n",
    "       'secondary_cleaner.state.floatbank4_a_level',\n",
    "       'secondary_cleaner.state.floatbank4_b_air',\n",
    "       'secondary_cleaner.state.floatbank4_b_level',\n",
    "       'secondary_cleaner.state.floatbank5_a_air',\n",
    "       'secondary_cleaner.state.floatbank5_a_level',\n",
    "       'secondary_cleaner.state.floatbank5_b_air',\n",
    "       'secondary_cleaner.state.floatbank5_b_level',\n",
    "       'secondary_cleaner.state.floatbank6_a_air',\n",
    "       'secondary_cleaner.state.floatbank6_a_level']]\n",
    "target_train = ttrain[['rougher.output.recovery', 'final.output.recovery']] #creating target"
   ]
  },
  {
   "cell_type": "code",
   "execution_count": 23,
   "metadata": {},
   "outputs": [],
   "source": [
    "ttest= test.dropna()"
   ]
  },
  {
   "cell_type": "markdown",
   "metadata": {},
   "source": [
    "## Analyzing the data\n",
    "Now we will move on to doing an analysis of our data, and examining it more closely. "
   ]
  },
  {
   "cell_type": "markdown",
   "metadata": {},
   "source": [
    "### Purification particulates\n",
    "First we will note how the concentrations of metals (Au, Ag, Pb) change depending on the purification stage."
   ]
  },
  {
   "cell_type": "code",
   "execution_count": 24,
   "metadata": {
    "scrolled": false
   },
   "outputs": [
    {
     "name": "stdout",
     "output_type": "stream",
     "text": [
      "8.065715344767641\n",
      "10.874483745395448\n",
      "7.69165176429709\n",
      "4.781559451695084\n"
     ]
    }
   ],
   "source": [
    "print(mean(data['rougher.input.feed_ag'])) #finding the averages for Ag\n",
    "print(mean(data['rougher.output.concentrate_ag']))\n",
    "print(mean(data['primary_cleaner.output.concentrate_ag']))\n",
    "print(mean(data['final.output.concentrate_ag']))"
   ]
  },
  {
   "cell_type": "code",
   "execution_count": 25,
   "metadata": {
    "scrolled": true
   },
   "outputs": [
    {
     "name": "stdout",
     "output_type": "stream",
     "text": [
      "7.565837755623329\n",
      "17.879538203033484\n",
      "29.2122887022116\n",
      "40.001171896007136\n"
     ]
    }
   ],
   "source": [
    "print(mean(data['rougher.input.feed_au'])) # finding the averages for Au\n",
    "print(mean(data['rougher.output.concentrate_au']))\n",
    "print(mean(data['primary_cleaner.output.concentrate_au']))\n",
    "print(mean(data['final.output.concentrate_au']))"
   ]
  },
  {
   "cell_type": "code",
   "execution_count": 26,
   "metadata": {
    "scrolled": false
   },
   "outputs": [
    {
     "name": "stdout",
     "output_type": "stream",
     "text": [
      "3.3056758107348885\n",
      "6.900646225251443\n",
      "8.921109840609049\n",
      "9.095308105450266\n"
     ]
    }
   ],
   "source": [
    "print(mean(data['rougher.input.feed_pb'])) #finding the averages for Pb\n",
    "print(mean(data['rougher.output.concentrate_pb']))\n",
    "print(mean(data['primary_cleaner.output.concentrate_pb']))\n",
    "print(mean(data['final.output.concentrate_pb']))"
   ]
  },
  {
   "cell_type": "markdown",
   "metadata": {},
   "source": [
    "We can see that the silver concentration (Ag) decrease with the purification procedure, which makes sense as we are seeking to keep the gold particles. Our gold concentration greatly increases with each step as expected. However, our lead concentration (Pb) did increase slightly with each step. Perhaps this means our procedures could be improved in our to better remove the lead from our outputs. "
   ]
  },
  {
   "cell_type": "markdown",
   "metadata": {},
   "source": [
    "### Particle Size Distribution\n",
    "Now we will compare the feed particle size distributions in the training set and in the test set. If the distributions vary significantly, the model evaluation will be incorrect. We will do this graphically for better visualization"
   ]
  },
  {
   "cell_type": "code",
   "execution_count": 27,
   "metadata": {
    "scrolled": false
   },
   "outputs": [
    {
     "data": {
      "image/png": "[encoded data removed]",
      "text/plain": [
       "<Figure size 576x432 with 1 Axes>"
      ]
     },
     "metadata": {
      "needs_background": "light"
     },
     "output_type": "display_data"
    }
   ],
   "source": [
    "labels = ['Train Set', 'Test Set']\n",
    "plt.figure(figsize = (8,6))\n",
    "plt.hist(train['rougher.input.feed_size'], bins=80, color='skyblue', density=True, alpha=0.5)\n",
    "plt.hist(test['rougher.input.feed_size'], bins=80, color='steelblue', density=True, alpha=0.5)\n",
    "plt.title('Particle Size Distribution')\n",
    "plt.legend(labels)\n",
    "plt.xlim(0,200)\n",
    "plt.show()"
   ]
  },
  {
   "cell_type": "code",
   "execution_count": 28,
   "metadata": {},
   "outputs": [
    {
     "data": {
      "text/plain": [
       "<matplotlib.axes._subplots.AxesSubplot at 0x7fde219995d0>"
      ]
     },
     "execution_count": 28,
     "metadata": {},
     "output_type": "execute_result"
    },
    {
     "data": {
      "image/png": "[encoded data removed]",
      "text/plain": [
       "<Figure size 432x288 with 1 Axes>"
      ]
     },
     "metadata": {
      "needs_background": "light"
     },
     "output_type": "display_data"
    }
   ],
   "source": [
    "train.boxplot('rougher.input.feed_size', showfliers=False) #boxplot of training set"
   ]
  },
  {
   "cell_type": "code",
   "execution_count": 29,
   "metadata": {
    "scrolled": true
   },
   "outputs": [
    {
     "data": {
      "text/plain": [
       "<matplotlib.axes._subplots.AxesSubplot at 0x7fde2162e810>"
      ]
     },
     "execution_count": 29,
     "metadata": {},
     "output_type": "execute_result"
    },
    {
     "data": {
      "image/png": "[encoded data removed]",
      "text/plain": [
       "<Figure size 432x288 with 1 Axes>"
      ]
     },
     "metadata": {
      "needs_background": "light"
     },
     "output_type": "display_data"
    }
   ],
   "source": [
    "test.boxplot('rougher.input.feed_size', showfliers=False) #boxplot of testing set"
   ]
  },
  {
   "cell_type": "markdown",
   "metadata": {},
   "source": [
    "We can see that overall the two have a relatively similar distribution. While our test data set is significantly smaller than that of our training dataset, they share similar distributions and averages. This is acceptable to continue our calculations."
   ]
  },
  {
   "cell_type": "markdown",
   "metadata": {},
   "source": [
    "### Total Concentrations of Substances"
   ]
  },
  {
   "cell_type": "code",
   "execution_count": 30,
   "metadata": {},
   "outputs": [],
   "source": [
    "tc_input=[]\n",
    "tc_rougher=[]\n",
    "tc_primary_cleaner=[]\n",
    "tc_final=[]\n",
    "for i in range(0,len(train)):\n",
    "    tc_input_i = train['rougher.input.feed_ag'][i] + train['rougher.input.feed_au'][i] + train['rougher.input.feed_pb'][i]\n",
    "    tc_rougher_i = train['rougher.output.concentrate_ag'][i] + train['rougher.output.concentrate_au'][i] + train['rougher.output.concentrate_pb'][i]\n",
    "    tc_primary_cleaner_i = train['primary_cleaner.output.concentrate_pb'][i] + train['primary_cleaner.output.concentrate_au'][i] + train['primary_cleaner.output.concentrate_ag'][i]\n",
    "    tc_final_i = train['final.output.concentrate_pb'][i] + train['final.output.concentrate_pb'][i] + train['final.output.concentrate_pb'][i]\n",
    "    tc_input.append(tc_input_i)\n",
    "    tc_rougher.append(tc_rougher_i)\n",
    "    tc_primary_cleaner.append(tc_primary_cleaner_i)\n",
    "    tc_final.append(tc_final_i)"
   ]
  },
  {
   "cell_type": "code",
   "execution_count": 31,
   "metadata": {},
   "outputs": [
    {
     "data": {
      "image/png": "[encoded data removed]",
      "text/plain": [
       "<Figure size 576x432 with 1 Axes>"
      ]
     },
     "metadata": {
      "needs_background": "light"
     },
     "output_type": "display_data"
    }
   ],
   "source": [
    "labels=['Rougher Input', 'Rougher Output', 'Primary Cleaner', 'Final Output']\n",
    "plt.figure(figsize=(8,6))\n",
    "plt.hist(tc_input, bins=50, color='violet', alpha=0.8)\n",
    "plt.hist(tc_rougher, bins=50, color='mediumorchid', alpha=0.8)\n",
    "plt.hist(tc_primary_cleaner, bins=50, color='blueviolet', alpha=0.8)\n",
    "plt.hist(tc_final, bins=50, color='rebeccapurple', alpha=0.8)\n",
    "plt.legend(labels)\n",
    "plt.title('Total Concentrations of Substances at Different Stages')\n",
    "plt.show()"
   ]
  },
  {
   "cell_type": "markdown",
   "metadata": {},
   "source": [
    "Examining this graph we can see that, for the most part, the graph makes sense. It appears that the final output appears lower than that of other levels, but this is most likely due to the fact that the gold makes up the majority of what is left as the others decrease. However, there is an abnormality which is clearly noticeable. There is a large spike at the zero mark which is present at each level of concentration. This would mean that there would be 0% of any of the three metals we were examining. This anomaly would affect our data as it would insinuate that there is no gold in some of the processed samples. We will remove these from our data before building our model."
   ]
  },
  {
   "cell_type": "code",
   "execution_count": 32,
   "metadata": {},
   "outputs": [],
   "source": [
    "for index, row in train.iterrows(): #removing rows from our training data where the concentrations are 0\n",
    "    if tc_input[index] <= 0:\n",
    "        train.drop(index, inplace=True)\n",
    "    elif tc_rougher[index] <= 0:\n",
    "        train.drop(index, inplace=True)\n",
    "    elif tc_primary_cleaner[index] <= 0:\n",
    "        train.drop(index, inplace=True)\n",
    "    elif tc_final[index] <= 0:\n",
    "        train.drop(index, inplace=True)\n",
    "train.reset_index(drop=True, inplace=True)"
   ]
  },
  {
   "cell_type": "markdown",
   "metadata": {},
   "source": [
    "Now to ensure that these were removed appropriately, we will loop over our data and print the index of any which may have been missed."
   ]
  },
  {
   "cell_type": "code",
   "execution_count": 33,
   "metadata": {},
   "outputs": [],
   "source": [
    "for i in range(0,len(train)): #printing any indexes where concentrations are 0\n",
    "    tc_input_i = train['rougher.input.feed_ag'][i] + train['rougher.input.feed_au'][i] + train['rougher.input.feed_pb'][i]\n",
    "    tc_rougher_i = train['rougher.output.concentrate_ag'][i] + train['rougher.output.concentrate_au'][i] + train['rougher.output.concentrate_pb'][i]\n",
    "    tc_primary_cleaner_i = train['primary_cleaner.output.concentrate_pb'][i] + train['primary_cleaner.output.concentrate_au'][i] + train['primary_cleaner.output.concentrate_ag'][i]\n",
    "    tc_final_i = train['final.output.concentrate_pb'][i] + train['final.output.concentrate_pb'][i] + train['final.output.concentrate_pb'][i]\n",
    "    if (tc_input_i == 0 or tc_rougher_i ==0) or (tc_primary_cleaner_i == 0 or tc_final_i ==0):\n",
    "        print(i)"
   ]
  },
  {
   "cell_type": "markdown",
   "metadata": {},
   "source": [
    "Since our loop did not print any indexes, we believe we have removed these anomalies and can move on to the creation of the model."
   ]
  },
  {
   "cell_type": "markdown",
   "metadata": {},
   "source": [
    "## Building the model\n",
    "We will now move on to creating our model. We will start will creating our function for SMAPE. Then we will pick our best model and test it with our test sample."
   ]
  },
  {
   "cell_type": "markdown",
   "metadata": {},
   "source": [
    "### sMAPE Function\n",
    "Write a function to calculate the final sMAPE value."
   ]
  },
  {
   "cell_type": "code",
   "execution_count": 34,
   "metadata": {},
   "outputs": [],
   "source": [
    "#Create function to calculate sMAPE.\n",
    "def smape2(y_true, y_pred):\n",
    "    smape = np.mean(abs(y_pred - y_true) / ((abs(y_true) + abs(y_pred)) / 2)) * 100 \n",
    "    return smape\n",
    "\n",
    "#Create function to calculate final sMAPE.\n",
    "def f_smape(y_true, y_pred):\n",
    "    predicted_rough, predicted_final = y_pred[:, 0], y_pred[:, 1]\n",
    "    true_rough, true_final = y_true.iloc[:, 0], y_true.iloc[:, 1]\n",
    "    f_smape = (.25 * (smape2(true_rough, predicted_rough))) + (.75 * (smape2(true_final, predicted_final)))\n",
    "    return f_smape"
   ]
  },
  {
   "cell_type": "code",
   "execution_count": 35,
   "metadata": {
    "scrolled": false
   },
   "outputs": [
    {
     "data": {
      "text/plain": [
       "1.1865277311376904e-14"
      ]
     },
     "execution_count": 35,
     "metadata": {},
     "output_type": "execute_result"
    }
   ],
   "source": [
    "smape2(recovery_train, recovery_rougher) #testing that our function works"
   ]
  },
  {
   "cell_type": "markdown",
   "metadata": {},
   "source": [
    "### Training/Evaluating Models\n",
    "Now we will choose the model best suited for our goals. We will score them using the cross validation score by utilizing our sMAPE score function, and choose the one that produces the lowest score."
   ]
  },
  {
   "cell_type": "code",
   "execution_count": 36,
   "metadata": {},
   "outputs": [],
   "source": [
    "smape_score= make_scorer(f_smape,greater_is_better=False) #creating our scoring object"
   ]
  },
  {
   "cell_type": "code",
   "execution_count": 37,
   "metadata": {
    "scrolled": false
   },
   "outputs": [
    {
     "name": "stdout",
     "output_type": "stream",
     "text": [
      "Average sMAPE Evaluation Score: 9.256795905147513\n"
     ]
    }
   ],
   "source": [
    "model_tree = DecisionTreeRegressor(random_state=12345, max_depth=2)\n",
    "scores = cross_val_score(estimator=model_tree,X= features_train, y=target_train, cv=5, scoring=smape_score)\n",
    "final_score = (sum(scores)/ len(scores))\n",
    "print('Average sMAPE Evaluation Score:', abs(final_score))\n",
    "#model_tree.fit(features_train, target_train) "
   ]
  },
  {
   "cell_type": "code",
   "execution_count": 38,
   "metadata": {
    "scrolled": true
   },
   "outputs": [
    {
     "name": "stdout",
     "output_type": "stream",
     "text": [
      "Average sMAPE Evaluation Score: 10.290896728293244\n"
     ]
    }
   ],
   "source": [
    "model_lin = LinearRegression()\n",
    "scores = cross_val_score(estimator=model_lin,X= features_train, y=target_train, cv=5, scoring=smape_score)\n",
    "final_score = (sum(scores)/ len(scores))\n",
    "print('Average sMAPE Evaluation Score:', abs(final_score))\n",
    "#model_lin.fit(features_train, target_train)"
   ]
  },
  {
   "cell_type": "code",
   "execution_count": 39,
   "metadata": {
    "scrolled": true
   },
   "outputs": [
    {
     "name": "stdout",
     "output_type": "stream",
     "text": [
      "Average sMAPE Evaluation Score: 13.069135284332955\n"
     ]
    }
   ],
   "source": [
    "model_forest = RandomForestRegressor(random_state = 12345, n_estimators =10)\n",
    "scores = cross_val_score(estimator=model_forest,X= features_train, y=target_train, cv=5, scoring=smape_score)\n",
    "final_score = (sum(scores)/ len(scores))\n",
    "print('Average sMAPE Evaluation Score:', abs(final_score))"
   ]
  },
  {
   "cell_type": "markdown",
   "metadata": {},
   "source": [
    "We can see that our Decision Tree Regressor had the best cross validation score utilizing our sMAPE function, so we will go on to fit this one with our training data."
   ]
  },
  {
   "cell_type": "code",
   "execution_count": 40,
   "metadata": {
    "scrolled": true
   },
   "outputs": [
    {
     "data": {
      "text/plain": [
       "DecisionTreeRegressor(criterion='mse', max_depth=2, max_features=None,\n",
       "                      max_leaf_nodes=None, min_impurity_decrease=0.0,\n",
       "                      min_impurity_split=None, min_samples_leaf=1,\n",
       "                      min_samples_split=2, min_weight_fraction_leaf=0.0,\n",
       "                      presort=False, random_state=12345, splitter='best')"
      ]
     },
     "execution_count": 40,
     "metadata": {},
     "output_type": "execute_result"
    }
   ],
   "source": [
    "model_tree.fit(features_train, target_train)"
   ]
  },
  {
   "cell_type": "markdown",
   "metadata": {},
   "source": [
    "### Predictions and Final sMAPE score\n",
    "In this section we will take our model and apply it to our test data. To do this we will pull our true data from the full data set by joining it on the unique ID of the date. Then we will make our predictions based on the test set and use these to compare for a final score. Finally, we will compare this to a dummy model to ensure that we have created a better model"
   ]
  },
  {
   "cell_type": "code",
   "execution_count": 41,
   "metadata": {
    "scrolled": false
   },
   "outputs": [
    {
     "data": {
      "text/html": [
       "<div>\n",
       "<style scoped>\n",
       "    .dataframe tbody tr th:only-of-type {\n",
       "        vertical-align: middle;\n",
       "    }\n",
       "\n",
       "    .dataframe tbody tr th {\n",
       "        vertical-align: top;\n",
       "    }\n",
       "\n",
       "    .dataframe thead th {\n",
       "        text-align: right;\n",
       "    }\n",
       "</style>\n",
       "<table border=\"1\" class=\"dataframe\">\n",
       "  <thead>\n",
       "    <tr style=\"text-align: right;\">\n",
       "      <th></th>\n",
       "      <th>date</th>\n",
       "      <th>primary_cleaner.input.sulfate</th>\n",
       "      <th>primary_cleaner.input.depressant</th>\n",
       "      <th>primary_cleaner.input.feed_size</th>\n",
       "      <th>primary_cleaner.input.xanthate</th>\n",
       "      <th>primary_cleaner.state.floatbank8_a_air</th>\n",
       "      <th>primary_cleaner.state.floatbank8_a_level</th>\n",
       "      <th>primary_cleaner.state.floatbank8_b_air</th>\n",
       "      <th>primary_cleaner.state.floatbank8_b_level</th>\n",
       "      <th>primary_cleaner.state.floatbank8_c_air</th>\n",
       "      <th>...</th>\n",
       "      <th>secondary_cleaner.state.floatbank4_a_air</th>\n",
       "      <th>secondary_cleaner.state.floatbank4_a_level</th>\n",
       "      <th>secondary_cleaner.state.floatbank4_b_air</th>\n",
       "      <th>secondary_cleaner.state.floatbank4_b_level</th>\n",
       "      <th>secondary_cleaner.state.floatbank5_a_air</th>\n",
       "      <th>secondary_cleaner.state.floatbank5_a_level</th>\n",
       "      <th>secondary_cleaner.state.floatbank5_b_air</th>\n",
       "      <th>secondary_cleaner.state.floatbank5_b_level</th>\n",
       "      <th>secondary_cleaner.state.floatbank6_a_air</th>\n",
       "      <th>secondary_cleaner.state.floatbank6_a_level</th>\n",
       "    </tr>\n",
       "  </thead>\n",
       "  <tbody>\n",
       "    <tr>\n",
       "      <td>0</td>\n",
       "      <td>2016-09-01 00:59:59</td>\n",
       "      <td>210.800909</td>\n",
       "      <td>14.993118</td>\n",
       "      <td>8.080000</td>\n",
       "      <td>1.005021</td>\n",
       "      <td>1398.981301</td>\n",
       "      <td>-500.225577</td>\n",
       "      <td>1399.144926</td>\n",
       "      <td>-499.919735</td>\n",
       "      <td>1400.102998</td>\n",
       "      <td>...</td>\n",
       "      <td>12.023554</td>\n",
       "      <td>-497.795834</td>\n",
       "      <td>8.016656</td>\n",
       "      <td>-501.289139</td>\n",
       "      <td>7.946562</td>\n",
       "      <td>-432.317850</td>\n",
       "      <td>4.872511</td>\n",
       "      <td>-500.037437</td>\n",
       "      <td>26.705889</td>\n",
       "      <td>-499.709414</td>\n",
       "    </tr>\n",
       "    <tr>\n",
       "      <td>1</td>\n",
       "      <td>2016-09-01 01:59:59</td>\n",
       "      <td>215.392455</td>\n",
       "      <td>14.987471</td>\n",
       "      <td>8.080000</td>\n",
       "      <td>0.990469</td>\n",
       "      <td>1398.777912</td>\n",
       "      <td>-500.057435</td>\n",
       "      <td>1398.055362</td>\n",
       "      <td>-499.778182</td>\n",
       "      <td>1396.151033</td>\n",
       "      <td>...</td>\n",
       "      <td>12.058140</td>\n",
       "      <td>-498.695773</td>\n",
       "      <td>8.130979</td>\n",
       "      <td>-499.634209</td>\n",
       "      <td>7.958270</td>\n",
       "      <td>-525.839648</td>\n",
       "      <td>4.878850</td>\n",
       "      <td>-500.162375</td>\n",
       "      <td>25.019940</td>\n",
       "      <td>-499.819438</td>\n",
       "    </tr>\n",
       "    <tr>\n",
       "      <td>2</td>\n",
       "      <td>2016-09-01 02:59:59</td>\n",
       "      <td>215.259946</td>\n",
       "      <td>12.884934</td>\n",
       "      <td>7.786667</td>\n",
       "      <td>0.996043</td>\n",
       "      <td>1398.493666</td>\n",
       "      <td>-500.868360</td>\n",
       "      <td>1398.860436</td>\n",
       "      <td>-499.764529</td>\n",
       "      <td>1398.075709</td>\n",
       "      <td>...</td>\n",
       "      <td>11.962366</td>\n",
       "      <td>-498.767484</td>\n",
       "      <td>8.096893</td>\n",
       "      <td>-500.827423</td>\n",
       "      <td>8.071056</td>\n",
       "      <td>-500.801673</td>\n",
       "      <td>4.905125</td>\n",
       "      <td>-499.828510</td>\n",
       "      <td>24.994862</td>\n",
       "      <td>-500.622559</td>\n",
       "    </tr>\n",
       "    <tr>\n",
       "      <td>3</td>\n",
       "      <td>2016-09-01 03:59:59</td>\n",
       "      <td>215.336236</td>\n",
       "      <td>12.006805</td>\n",
       "      <td>7.640000</td>\n",
       "      <td>0.863514</td>\n",
       "      <td>1399.618111</td>\n",
       "      <td>-498.863574</td>\n",
       "      <td>1397.440120</td>\n",
       "      <td>-499.211024</td>\n",
       "      <td>1400.129303</td>\n",
       "      <td>...</td>\n",
       "      <td>12.033091</td>\n",
       "      <td>-498.350935</td>\n",
       "      <td>8.074946</td>\n",
       "      <td>-499.474407</td>\n",
       "      <td>7.897085</td>\n",
       "      <td>-500.868509</td>\n",
       "      <td>4.931400</td>\n",
       "      <td>-499.963623</td>\n",
       "      <td>24.948919</td>\n",
       "      <td>-498.709987</td>\n",
       "    </tr>\n",
       "    <tr>\n",
       "      <td>4</td>\n",
       "      <td>2016-09-01 04:59:59</td>\n",
       "      <td>199.099327</td>\n",
       "      <td>10.682530</td>\n",
       "      <td>7.530000</td>\n",
       "      <td>0.805575</td>\n",
       "      <td>1401.268123</td>\n",
       "      <td>-500.808305</td>\n",
       "      <td>1398.128818</td>\n",
       "      <td>-499.504543</td>\n",
       "      <td>1402.172226</td>\n",
       "      <td>...</td>\n",
       "      <td>12.025367</td>\n",
       "      <td>-500.786497</td>\n",
       "      <td>8.054678</td>\n",
       "      <td>-500.397500</td>\n",
       "      <td>8.107890</td>\n",
       "      <td>-509.526725</td>\n",
       "      <td>4.957674</td>\n",
       "      <td>-500.360026</td>\n",
       "      <td>25.003331</td>\n",
       "      <td>-500.856333</td>\n",
       "    </tr>\n",
       "  </tbody>\n",
       "</table>\n",
       "<p>5 rows × 53 columns</p>\n",
       "</div>"
      ],
      "text/plain": [
       "                  date  primary_cleaner.input.sulfate  \\\n",
       "0  2016-09-01 00:59:59                     210.800909   \n",
       "1  2016-09-01 01:59:59                     215.392455   \n",
       "2  2016-09-01 02:59:59                     215.259946   \n",
       "3  2016-09-01 03:59:59                     215.336236   \n",
       "4  2016-09-01 04:59:59                     199.099327   \n",
       "\n",
       "   primary_cleaner.input.depressant  primary_cleaner.input.feed_size  \\\n",
       "0                         14.993118                         8.080000   \n",
       "1                         14.987471                         8.080000   \n",
       "2                         12.884934                         7.786667   \n",
       "3                         12.006805                         7.640000   \n",
       "4                         10.682530                         7.530000   \n",
       "\n",
       "   primary_cleaner.input.xanthate  primary_cleaner.state.floatbank8_a_air  \\\n",
       "0                        1.005021                             1398.981301   \n",
       "1                        0.990469                             1398.777912   \n",
       "2                        0.996043                             1398.493666   \n",
       "3                        0.863514                             1399.618111   \n",
       "4                        0.805575                             1401.268123   \n",
       "\n",
       "   primary_cleaner.state.floatbank8_a_level  \\\n",
       "0                               -500.225577   \n",
       "1                               -500.057435   \n",
       "2                               -500.868360   \n",
       "3                               -498.863574   \n",
       "4                               -500.808305   \n",
       "\n",
       "   primary_cleaner.state.floatbank8_b_air  \\\n",
       "0                             1399.144926   \n",
       "1                             1398.055362   \n",
       "2                             1398.860436   \n",
       "3                             1397.440120   \n",
       "4                             1398.128818   \n",
       "\n",
       "   primary_cleaner.state.floatbank8_b_level  \\\n",
       "0                               -499.919735   \n",
       "1                               -499.778182   \n",
       "2                               -499.764529   \n",
       "3                               -499.211024   \n",
       "4                               -499.504543   \n",
       "\n",
       "   primary_cleaner.state.floatbank8_c_air  ...  \\\n",
       "0                             1400.102998  ...   \n",
       "1                             1396.151033  ...   \n",
       "2                             1398.075709  ...   \n",
       "3                             1400.129303  ...   \n",
       "4                             1402.172226  ...   \n",
       "\n",
       "   secondary_cleaner.state.floatbank4_a_air  \\\n",
       "0                                 12.023554   \n",
       "1                                 12.058140   \n",
       "2                                 11.962366   \n",
       "3                                 12.033091   \n",
       "4                                 12.025367   \n",
       "\n",
       "   secondary_cleaner.state.floatbank4_a_level  \\\n",
       "0                                 -497.795834   \n",
       "1                                 -498.695773   \n",
       "2                                 -498.767484   \n",
       "3                                 -498.350935   \n",
       "4                                 -500.786497   \n",
       "\n",
       "   secondary_cleaner.state.floatbank4_b_air  \\\n",
       "0                                  8.016656   \n",
       "1                                  8.130979   \n",
       "2                                  8.096893   \n",
       "3                                  8.074946   \n",
       "4                                  8.054678   \n",
       "\n",
       "   secondary_cleaner.state.floatbank4_b_level  \\\n",
       "0                                 -501.289139   \n",
       "1                                 -499.634209   \n",
       "2                                 -500.827423   \n",
       "3                                 -499.474407   \n",
       "4                                 -500.397500   \n",
       "\n",
       "   secondary_cleaner.state.floatbank5_a_air  \\\n",
       "0                                  7.946562   \n",
       "1                                  7.958270   \n",
       "2                                  8.071056   \n",
       "3                                  7.897085   \n",
       "4                                  8.107890   \n",
       "\n",
       "   secondary_cleaner.state.floatbank5_a_level  \\\n",
       "0                                 -432.317850   \n",
       "1                                 -525.839648   \n",
       "2                                 -500.801673   \n",
       "3                                 -500.868509   \n",
       "4                                 -509.526725   \n",
       "\n",
       "   secondary_cleaner.state.floatbank5_b_air  \\\n",
       "0                                  4.872511   \n",
       "1                                  4.878850   \n",
       "2                                  4.905125   \n",
       "3                                  4.931400   \n",
       "4                                  4.957674   \n",
       "\n",
       "   secondary_cleaner.state.floatbank5_b_level  \\\n",
       "0                                 -500.037437   \n",
       "1                                 -500.162375   \n",
       "2                                 -499.828510   \n",
       "3                                 -499.963623   \n",
       "4                                 -500.360026   \n",
       "\n",
       "   secondary_cleaner.state.floatbank6_a_air  \\\n",
       "0                                 26.705889   \n",
       "1                                 25.019940   \n",
       "2                                 24.994862   \n",
       "3                                 24.948919   \n",
       "4                                 25.003331   \n",
       "\n",
       "   secondary_cleaner.state.floatbank6_a_level  \n",
       "0                                 -499.709414  \n",
       "1                                 -499.819438  \n",
       "2                                 -500.622559  \n",
       "3                                 -498.709987  \n",
       "4                                 -500.856333  \n",
       "\n",
       "[5 rows x 53 columns]"
      ]
     },
     "execution_count": 41,
     "metadata": {},
     "output_type": "execute_result"
    }
   ],
   "source": [
    "ttest.head() #looking at our test set"
   ]
  },
  {
   "cell_type": "code",
   "execution_count": 42,
   "metadata": {},
   "outputs": [],
   "source": [
    "true_test = data.merge(ttest,on=['date'], how='right') #merging to our full data based on the unique date id"
   ]
  },
  {
   "cell_type": "code",
   "execution_count": 43,
   "metadata": {
    "scrolled": false
   },
   "outputs": [
    {
     "data": {
      "text/html": [
       "<div>\n",
       "<style scoped>\n",
       "    .dataframe tbody tr th:only-of-type {\n",
       "        vertical-align: middle;\n",
       "    }\n",
       "\n",
       "    .dataframe tbody tr th {\n",
       "        vertical-align: top;\n",
       "    }\n",
       "\n",
       "    .dataframe thead th {\n",
       "        text-align: right;\n",
       "    }\n",
       "</style>\n",
       "<table border=\"1\" class=\"dataframe\">\n",
       "  <thead>\n",
       "    <tr style=\"text-align: right;\">\n",
       "      <th></th>\n",
       "      <th>date</th>\n",
       "      <th>final.output.concentrate_ag</th>\n",
       "      <th>final.output.concentrate_pb</th>\n",
       "      <th>final.output.concentrate_sol</th>\n",
       "      <th>final.output.concentrate_au</th>\n",
       "      <th>final.output.recovery</th>\n",
       "      <th>final.output.tail_ag</th>\n",
       "      <th>final.output.tail_pb</th>\n",
       "      <th>final.output.tail_sol</th>\n",
       "      <th>final.output.tail_au</th>\n",
       "      <th>...</th>\n",
       "      <th>secondary_cleaner.state.floatbank4_a_air_y</th>\n",
       "      <th>secondary_cleaner.state.floatbank4_a_level_y</th>\n",
       "      <th>secondary_cleaner.state.floatbank4_b_air_y</th>\n",
       "      <th>secondary_cleaner.state.floatbank4_b_level_y</th>\n",
       "      <th>secondary_cleaner.state.floatbank5_a_air_y</th>\n",
       "      <th>secondary_cleaner.state.floatbank5_a_level_y</th>\n",
       "      <th>secondary_cleaner.state.floatbank5_b_air_y</th>\n",
       "      <th>secondary_cleaner.state.floatbank5_b_level_y</th>\n",
       "      <th>secondary_cleaner.state.floatbank6_a_air_y</th>\n",
       "      <th>secondary_cleaner.state.floatbank6_a_level_y</th>\n",
       "    </tr>\n",
       "  </thead>\n",
       "  <tbody>\n",
       "    <tr>\n",
       "      <td>0</td>\n",
       "      <td>2016-09-01 00:59:59</td>\n",
       "      <td>7.578381</td>\n",
       "      <td>10.466295</td>\n",
       "      <td>11.990938</td>\n",
       "      <td>40.743891</td>\n",
       "      <td>70.273583</td>\n",
       "      <td>12.688885</td>\n",
       "      <td>3.844413</td>\n",
       "      <td>11.075686</td>\n",
       "      <td>4.537988</td>\n",
       "      <td>...</td>\n",
       "      <td>12.023554</td>\n",
       "      <td>-497.795834</td>\n",
       "      <td>8.016656</td>\n",
       "      <td>-501.289139</td>\n",
       "      <td>7.946562</td>\n",
       "      <td>-432.317850</td>\n",
       "      <td>4.872511</td>\n",
       "      <td>-500.037437</td>\n",
       "      <td>26.705889</td>\n",
       "      <td>-499.709414</td>\n",
       "    </tr>\n",
       "    <tr>\n",
       "      <td>1</td>\n",
       "      <td>2016-09-01 01:59:59</td>\n",
       "      <td>7.813838</td>\n",
       "      <td>10.581152</td>\n",
       "      <td>12.216172</td>\n",
       "      <td>39.604292</td>\n",
       "      <td>68.910432</td>\n",
       "      <td>12.829171</td>\n",
       "      <td>3.918901</td>\n",
       "      <td>11.132824</td>\n",
       "      <td>4.675117</td>\n",
       "      <td>...</td>\n",
       "      <td>12.058140</td>\n",
       "      <td>-498.695773</td>\n",
       "      <td>8.130979</td>\n",
       "      <td>-499.634209</td>\n",
       "      <td>7.958270</td>\n",
       "      <td>-525.839648</td>\n",
       "      <td>4.878850</td>\n",
       "      <td>-500.162375</td>\n",
       "      <td>25.019940</td>\n",
       "      <td>-499.819438</td>\n",
       "    </tr>\n",
       "    <tr>\n",
       "      <td>2</td>\n",
       "      <td>2016-09-01 02:59:59</td>\n",
       "      <td>7.623392</td>\n",
       "      <td>10.424024</td>\n",
       "      <td>12.313710</td>\n",
       "      <td>40.724190</td>\n",
       "      <td>68.143213</td>\n",
       "      <td>12.977846</td>\n",
       "      <td>4.026561</td>\n",
       "      <td>10.990134</td>\n",
       "      <td>4.828907</td>\n",
       "      <td>...</td>\n",
       "      <td>11.962366</td>\n",
       "      <td>-498.767484</td>\n",
       "      <td>8.096893</td>\n",
       "      <td>-500.827423</td>\n",
       "      <td>8.071056</td>\n",
       "      <td>-500.801673</td>\n",
       "      <td>4.905125</td>\n",
       "      <td>-499.828510</td>\n",
       "      <td>24.994862</td>\n",
       "      <td>-500.622559</td>\n",
       "    </tr>\n",
       "    <tr>\n",
       "      <td>3</td>\n",
       "      <td>2016-09-01 03:59:59</td>\n",
       "      <td>8.552457</td>\n",
       "      <td>10.503229</td>\n",
       "      <td>13.074570</td>\n",
       "      <td>39.290997</td>\n",
       "      <td>67.776393</td>\n",
       "      <td>12.451947</td>\n",
       "      <td>3.780702</td>\n",
       "      <td>11.155935</td>\n",
       "      <td>4.969620</td>\n",
       "      <td>...</td>\n",
       "      <td>12.033091</td>\n",
       "      <td>-498.350935</td>\n",
       "      <td>8.074946</td>\n",
       "      <td>-499.474407</td>\n",
       "      <td>7.897085</td>\n",
       "      <td>-500.868509</td>\n",
       "      <td>4.931400</td>\n",
       "      <td>-499.963623</td>\n",
       "      <td>24.948919</td>\n",
       "      <td>-498.709987</td>\n",
       "    </tr>\n",
       "    <tr>\n",
       "      <td>4</td>\n",
       "      <td>2016-09-01 04:59:59</td>\n",
       "      <td>8.078781</td>\n",
       "      <td>10.222788</td>\n",
       "      <td>12.475427</td>\n",
       "      <td>40.254524</td>\n",
       "      <td>61.467078</td>\n",
       "      <td>11.827846</td>\n",
       "      <td>3.632272</td>\n",
       "      <td>11.403663</td>\n",
       "      <td>5.256806</td>\n",
       "      <td>...</td>\n",
       "      <td>12.025367</td>\n",
       "      <td>-500.786497</td>\n",
       "      <td>8.054678</td>\n",
       "      <td>-500.397500</td>\n",
       "      <td>8.107890</td>\n",
       "      <td>-509.526725</td>\n",
       "      <td>4.957674</td>\n",
       "      <td>-500.360026</td>\n",
       "      <td>25.003331</td>\n",
       "      <td>-500.856333</td>\n",
       "    </tr>\n",
       "  </tbody>\n",
       "</table>\n",
       "<p>5 rows × 139 columns</p>\n",
       "</div>"
      ],
      "text/plain": [
       "                  date  final.output.concentrate_ag  \\\n",
       "0  2016-09-01 00:59:59                     7.578381   \n",
       "1  2016-09-01 01:59:59                     7.813838   \n",
       "2  2016-09-01 02:59:59                     7.623392   \n",
       "3  2016-09-01 03:59:59                     8.552457   \n",
       "4  2016-09-01 04:59:59                     8.078781   \n",
       "\n",
       "   final.output.concentrate_pb  final.output.concentrate_sol  \\\n",
       "0                    10.466295                     11.990938   \n",
       "1                    10.581152                     12.216172   \n",
       "2                    10.424024                     12.313710   \n",
       "3                    10.503229                     13.074570   \n",
       "4                    10.222788                     12.475427   \n",
       "\n",
       "   final.output.concentrate_au  final.output.recovery  final.output.tail_ag  \\\n",
       "0                    40.743891              70.273583             12.688885   \n",
       "1                    39.604292              68.910432             12.829171   \n",
       "2                    40.724190              68.143213             12.977846   \n",
       "3                    39.290997              67.776393             12.451947   \n",
       "4                    40.254524              61.467078             11.827846   \n",
       "\n",
       "   final.output.tail_pb  final.output.tail_sol  final.output.tail_au  ...  \\\n",
       "0              3.844413              11.075686              4.537988  ...   \n",
       "1              3.918901              11.132824              4.675117  ...   \n",
       "2              4.026561              10.990134              4.828907  ...   \n",
       "3              3.780702              11.155935              4.969620  ...   \n",
       "4              3.632272              11.403663              5.256806  ...   \n",
       "\n",
       "   secondary_cleaner.state.floatbank4_a_air_y  \\\n",
       "0                                   12.023554   \n",
       "1                                   12.058140   \n",
       "2                                   11.962366   \n",
       "3                                   12.033091   \n",
       "4                                   12.025367   \n",
       "\n",
       "   secondary_cleaner.state.floatbank4_a_level_y  \\\n",
       "0                                   -497.795834   \n",
       "1                                   -498.695773   \n",
       "2                                   -498.767484   \n",
       "3                                   -498.350935   \n",
       "4                                   -500.786497   \n",
       "\n",
       "   secondary_cleaner.state.floatbank4_b_air_y  \\\n",
       "0                                    8.016656   \n",
       "1                                    8.130979   \n",
       "2                                    8.096893   \n",
       "3                                    8.074946   \n",
       "4                                    8.054678   \n",
       "\n",
       "   secondary_cleaner.state.floatbank4_b_level_y  \\\n",
       "0                                   -501.289139   \n",
       "1                                   -499.634209   \n",
       "2                                   -500.827423   \n",
       "3                                   -499.474407   \n",
       "4                                   -500.397500   \n",
       "\n",
       "   secondary_cleaner.state.floatbank5_a_air_y  \\\n",
       "0                                    7.946562   \n",
       "1                                    7.958270   \n",
       "2                                    8.071056   \n",
       "3                                    7.897085   \n",
       "4                                    8.107890   \n",
       "\n",
       "   secondary_cleaner.state.floatbank5_a_level_y  \\\n",
       "0                                   -432.317850   \n",
       "1                                   -525.839648   \n",
       "2                                   -500.801673   \n",
       "3                                   -500.868509   \n",
       "4                                   -509.526725   \n",
       "\n",
       "   secondary_cleaner.state.floatbank5_b_air_y  \\\n",
       "0                                    4.872511   \n",
       "1                                    4.878850   \n",
       "2                                    4.905125   \n",
       "3                                    4.931400   \n",
       "4                                    4.957674   \n",
       "\n",
       "   secondary_cleaner.state.floatbank5_b_level_y  \\\n",
       "0                                   -500.037437   \n",
       "1                                   -500.162375   \n",
       "2                                   -499.828510   \n",
       "3                                   -499.963623   \n",
       "4                                   -500.360026   \n",
       "\n",
       "   secondary_cleaner.state.floatbank6_a_air_y  \\\n",
       "0                                   26.705889   \n",
       "1                                   25.019940   \n",
       "2                                   24.994862   \n",
       "3                                   24.948919   \n",
       "4                                   25.003331   \n",
       "\n",
       "   secondary_cleaner.state.floatbank6_a_level_y  \n",
       "0                                   -499.709414  \n",
       "1                                   -499.819438  \n",
       "2                                   -500.622559  \n",
       "3                                   -498.709987  \n",
       "4                                   -500.856333  \n",
       "\n",
       "[5 rows x 139 columns]"
      ]
     },
     "execution_count": 43,
     "metadata": {},
     "output_type": "execute_result"
    }
   ],
   "source": [
    "true_test.head() #ensuring data sets were merged appropriately on date"
   ]
  },
  {
   "cell_type": "code",
   "execution_count": 44,
   "metadata": {},
   "outputs": [
    {
     "data": {
      "text/html": [
       "<div>\n",
       "<style scoped>\n",
       "    .dataframe tbody tr th:only-of-type {\n",
       "        vertical-align: middle;\n",
       "    }\n",
       "\n",
       "    .dataframe tbody tr th {\n",
       "        vertical-align: top;\n",
       "    }\n",
       "\n",
       "    .dataframe thead th {\n",
       "        text-align: right;\n",
       "    }\n",
       "</style>\n",
       "<table border=\"1\" class=\"dataframe\">\n",
       "  <thead>\n",
       "    <tr style=\"text-align: right;\">\n",
       "      <th></th>\n",
       "      <th>rougher.output.recovery</th>\n",
       "      <th>final.output.recovery</th>\n",
       "    </tr>\n",
       "  </thead>\n",
       "  <tbody>\n",
       "    <tr>\n",
       "      <td>0</td>\n",
       "      <td>89.993421</td>\n",
       "      <td>70.273583</td>\n",
       "    </tr>\n",
       "    <tr>\n",
       "      <td>1</td>\n",
       "      <td>88.089657</td>\n",
       "      <td>68.910432</td>\n",
       "    </tr>\n",
       "    <tr>\n",
       "      <td>2</td>\n",
       "      <td>88.412756</td>\n",
       "      <td>68.143213</td>\n",
       "    </tr>\n",
       "    <tr>\n",
       "      <td>3</td>\n",
       "      <td>87.360133</td>\n",
       "      <td>67.776393</td>\n",
       "    </tr>\n",
       "    <tr>\n",
       "      <td>4</td>\n",
       "      <td>83.236367</td>\n",
       "      <td>61.467078</td>\n",
       "    </tr>\n",
       "  </tbody>\n",
       "</table>\n",
       "</div>"
      ],
      "text/plain": [
       "   rougher.output.recovery  final.output.recovery\n",
       "0                89.993421              70.273583\n",
       "1                88.089657              68.910432\n",
       "2                88.412756              68.143213\n",
       "3                87.360133              67.776393\n",
       "4                83.236367              61.467078"
      ]
     },
     "execution_count": 44,
     "metadata": {},
     "output_type": "execute_result"
    }
   ],
   "source": [
    "true_test_data = true_test[['rougher.output.recovery', 'final.output.recovery']] #pulling our two columns for comparing\n",
    "true_test_data.head() #ensuring correct rows were kepy"
   ]
  },
  {
   "cell_type": "code",
   "execution_count": 45,
   "metadata": {},
   "outputs": [],
   "source": [
    "ttest= ttest.drop(columns=['date']) #dropping date column to feed this set into our model"
   ]
  },
  {
   "cell_type": "code",
   "execution_count": 46,
   "metadata": {},
   "outputs": [],
   "source": [
    "predict_test = model_tree.predict(ttest) #finding our testing predictions"
   ]
  },
  {
   "cell_type": "code",
   "execution_count": 47,
   "metadata": {
    "scrolled": false
   },
   "outputs": [
    {
     "name": "stdout",
     "output_type": "stream",
     "text": [
      "9.759679053775073\n"
     ]
    }
   ],
   "source": [
    "final_smape= f_smape(true_test_data, predict_test) #calculating our final smape score\n",
    "print(final_smape)"
   ]
  },
  {
   "cell_type": "markdown",
   "metadata": {},
   "source": [
    "Now that we have obtained our score for our test data, we will move on to creating our dummy model."
   ]
  },
  {
   "cell_type": "code",
   "execution_count": 48,
   "metadata": {},
   "outputs": [],
   "source": [
    "dummy_model = DummyRegressor(strategy='mean') #building a dummy model"
   ]
  },
  {
   "cell_type": "code",
   "execution_count": 49,
   "metadata": {},
   "outputs": [
    {
     "data": {
      "text/plain": [
       "DummyRegressor(constant=None, quantile=None, strategy='mean')"
      ]
     },
     "execution_count": 49,
     "metadata": {},
     "output_type": "execute_result"
    }
   ],
   "source": [
    "dummy_model.fit(features_train, target_train) #fitting it to our set"
   ]
  },
  {
   "cell_type": "code",
   "execution_count": 50,
   "metadata": {},
   "outputs": [],
   "source": [
    "dummy_model_predictions = dummy_model.predict(ttest) #making predictions"
   ]
  },
  {
   "cell_type": "code",
   "execution_count": 51,
   "metadata": {},
   "outputs": [
    {
     "name": "stdout",
     "output_type": "stream",
     "text": [
      "10.14804467562043\n"
     ]
    }
   ],
   "source": [
    "dummy_smape = f_smape(true_test_data, dummy_model_predictions) #calculating dummy score\n",
    "print(dummy_smape)"
   ]
  },
  {
   "cell_type": "markdown",
   "metadata": {},
   "source": [
    "We can see that we have a final smape of about 9, which is acceptable although it is not a perfect score. In addition, we compared this to our dummy score and found that it is better, and therefore would move forward with accepting this score."
   ]
  },
  {
   "cell_type": "markdown",
   "metadata": {},
   "source": [
    "## Conclusion\n",
    "In this project, we examined the Zyfra gold purification procedure. We examined each step of the process for purification and confirmed our distributions were relatively similar for both our training and testing sets. We found and removed anomalies with our data that would affect our future calculations. We confirmed that gold recovery was being calculated correctly. Then we created a good model by selecting the best of our regression models using cross validation and our custom sMAPE scoring. The DecisionTreeRegressor model was trained and fitted, then used to make predictions. In the end, we created functions which could be used to calculate our sMAPE score, and found that our model's was acceptable and better than our dummy model. "
   ]
  }
 ],
 "metadata": {
  "ExecuteTimeLog": [
   {
    "duration": 1436,
    "start_time": "2022-02-28T17:09:50.824Z"
   },
   {
    "duration": 907,
    "start_time": "2022-02-28T17:10:57.547Z"
   },
   {
    "duration": 25,
    "start_time": "2022-02-28T17:11:21.685Z"
   },
   {
    "duration": 9,
    "start_time": "2022-02-28T17:11:50.961Z"
   },
   {
    "duration": 12,
    "start_time": "2022-02-28T17:13:20.298Z"
   },
   {
    "duration": 33,
    "start_time": "2022-02-28T17:13:32.805Z"
   },
   {
    "duration": 32,
    "start_time": "2022-02-28T17:14:13.224Z"
   },
   {
    "duration": 17,
    "start_time": "2022-02-28T17:14:24.482Z"
   },
   {
    "duration": 8,
    "start_time": "2022-02-28T17:14:48.349Z"
   },
   {
    "duration": 30,
    "start_time": "2022-02-28T17:16:44.574Z"
   },
   {
    "duration": 24,
    "start_time": "2022-02-28T17:16:50.643Z"
   },
   {
    "duration": 372,
    "start_time": "2022-02-28T17:30:45.936Z"
   },
   {
    "duration": 235,
    "start_time": "2022-02-28T17:32:36.530Z"
   },
   {
    "duration": 6827,
    "start_time": "2022-02-28T17:34:00.498Z"
   },
   {
    "duration": 5810,
    "start_time": "2022-02-28T17:34:32.103Z"
   },
   {
    "duration": 9,
    "start_time": "2022-02-28T17:34:44.328Z"
   },
   {
    "duration": 71,
    "start_time": "2022-02-28T17:36:15.707Z"
   },
   {
    "duration": 5,
    "start_time": "2022-02-28T17:36:19.547Z"
   },
   {
    "duration": 6635,
    "start_time": "2022-02-28T17:37:18.057Z"
   },
   {
    "duration": 251,
    "start_time": "2022-02-28T17:37:30.763Z"
   },
   {
    "duration": 6,
    "start_time": "2022-02-28T17:39:18.527Z"
   },
   {
    "duration": 5,
    "start_time": "2022-02-28T17:39:46.874Z"
   },
   {
    "duration": 269,
    "start_time": "2022-02-28T17:39:48.179Z"
   },
   {
    "duration": 229,
    "start_time": "2022-02-28T17:40:10.309Z"
   },
   {
    "duration": 214,
    "start_time": "2022-02-28T17:42:42.014Z"
   },
   {
    "duration": 24,
    "start_time": "2022-02-28T17:42:49.719Z"
   },
   {
    "duration": 7,
    "start_time": "2022-02-28T17:43:20.283Z"
   },
   {
    "duration": 238,
    "start_time": "2022-02-28T17:43:27.469Z"
   },
   {
    "duration": 5,
    "start_time": "2022-02-28T17:43:35.342Z"
   },
   {
    "duration": 4,
    "start_time": "2022-02-28T17:43:50.798Z"
   },
   {
    "duration": 238,
    "start_time": "2022-02-28T17:46:07.791Z"
   },
   {
    "duration": 6,
    "start_time": "2022-02-28T17:46:11.720Z"
   },
   {
    "duration": 7,
    "start_time": "2022-02-28T17:46:34.482Z"
   },
   {
    "duration": 5,
    "start_time": "2022-02-28T17:46:38.920Z"
   },
   {
    "duration": 4,
    "start_time": "2022-02-28T17:46:41.691Z"
   },
   {
    "duration": 9,
    "start_time": "2022-02-28T17:50:29.622Z"
   },
   {
    "duration": 5,
    "start_time": "2022-02-28T17:55:57.212Z"
   },
   {
    "duration": 6,
    "start_time": "2022-02-28T17:56:31.704Z"
   },
   {
    "duration": 9,
    "start_time": "2022-02-28T17:57:43.184Z"
   },
   {
    "duration": 7,
    "start_time": "2022-02-28T17:58:07.659Z"
   },
   {
    "duration": 8,
    "start_time": "2022-02-28T17:58:28.877Z"
   },
   {
    "duration": 391,
    "start_time": "2022-02-28T18:00:06.736Z"
   },
   {
    "duration": 280,
    "start_time": "2022-02-28T18:00:22.402Z"
   },
   {
    "duration": 270,
    "start_time": "2022-02-28T18:01:45.583Z"
   },
   {
    "duration": 266,
    "start_time": "2022-02-28T18:01:54.229Z"
   },
   {
    "duration": 209,
    "start_time": "2022-02-28T18:02:40.306Z"
   },
   {
    "duration": 211,
    "start_time": "2022-02-28T18:02:49.443Z"
   },
   {
    "duration": 784,
    "start_time": "2022-02-28T18:04:07.499Z"
   },
   {
    "duration": 731,
    "start_time": "2022-02-28T18:04:25.534Z"
   },
   {
    "duration": 1379,
    "start_time": "2022-02-28T18:06:41.960Z"
   },
   {
    "duration": 626,
    "start_time": "2022-02-28T18:06:52.184Z"
   },
   {
    "duration": 402,
    "start_time": "2022-02-28T18:07:08.968Z"
   },
   {
    "duration": 925,
    "start_time": "2022-02-28T18:07:36.049Z"
   },
   {
    "duration": 510,
    "start_time": "2022-02-28T18:07:46.390Z"
   },
   {
    "duration": 216,
    "start_time": "2022-02-28T18:08:04.415Z"
   },
   {
    "duration": 237,
    "start_time": "2022-02-28T18:08:43.444Z"
   },
   {
    "duration": 459,
    "start_time": "2022-02-28T18:08:46.132Z"
   },
   {
    "duration": 549,
    "start_time": "2022-02-28T18:08:52.893Z"
   },
   {
    "duration": 433,
    "start_time": "2022-02-28T18:08:58.958Z"
   },
   {
    "duration": 409,
    "start_time": "2022-02-28T18:09:41.963Z"
   },
   {
    "duration": 832,
    "start_time": "2022-02-28T18:09:46.819Z"
   },
   {
    "duration": 570,
    "start_time": "2022-02-28T18:09:55.277Z"
   },
   {
    "duration": 692,
    "start_time": "2022-02-28T18:10:00.924Z"
   },
   {
    "duration": 537,
    "start_time": "2022-02-28T18:10:08.486Z"
   },
   {
    "duration": 462,
    "start_time": "2022-02-28T18:10:15.840Z"
   },
   {
    "duration": 447,
    "start_time": "2022-02-28T18:10:27.976Z"
   },
   {
    "duration": 559,
    "start_time": "2022-02-28T18:10:39.521Z"
   },
   {
    "duration": 501,
    "start_time": "2022-02-28T18:10:49.635Z"
   },
   {
    "duration": 614,
    "start_time": "2022-02-28T18:11:06.278Z"
   },
   {
    "duration": 373,
    "start_time": "2022-02-28T18:12:04.732Z"
   },
   {
    "duration": 245,
    "start_time": "2022-02-28T18:12:40.123Z"
   },
   {
    "duration": 217,
    "start_time": "2022-02-28T18:12:56.561Z"
   },
   {
    "duration": 205,
    "start_time": "2022-02-28T18:13:01.873Z"
   },
   {
    "duration": 210,
    "start_time": "2022-02-28T18:13:11.170Z"
   },
   {
    "duration": 4,
    "start_time": "2022-02-28T18:20:42.047Z"
   },
   {
    "duration": 5,
    "start_time": "2022-02-28T18:20:49.512Z"
   },
   {
    "duration": 9,
    "start_time": "2022-02-28T18:21:17.521Z"
   },
   {
    "duration": 5,
    "start_time": "2022-02-28T18:23:22.098Z"
   },
   {
    "duration": 25367,
    "start_time": "2022-02-28T18:23:24.113Z"
   },
   {
    "duration": 6,
    "start_time": "2022-02-28T18:27:31.830Z"
   },
   {
    "duration": 5308,
    "start_time": "2022-02-28T18:27:33.096Z"
   },
   {
    "duration": 5,
    "start_time": "2022-02-28T18:31:01.206Z"
   },
   {
    "duration": 4,
    "start_time": "2022-02-28T18:31:47.459Z"
   },
   {
    "duration": 6,
    "start_time": "2022-02-28T18:31:48.156Z"
   },
   {
    "duration": 6,
    "start_time": "2022-02-28T18:32:07.998Z"
   },
   {
    "duration": 5,
    "start_time": "2022-02-28T18:32:09.063Z"
   },
   {
    "duration": 6,
    "start_time": "2022-02-28T18:32:09.630Z"
   },
   {
    "duration": 4,
    "start_time": "2022-02-28T18:34:24.758Z"
   },
   {
    "duration": 4882,
    "start_time": "2022-02-28T18:34:25.717Z"
   },
   {
    "duration": 232,
    "start_time": "2022-02-28T18:34:50.112Z"
   },
   {
    "duration": 3509,
    "start_time": "2022-02-28T18:34:59.482Z"
   },
   {
    "duration": 7,
    "start_time": "2022-02-28T18:35:17.038Z"
   },
   {
    "duration": 210,
    "start_time": "2022-02-28T18:36:10.650Z"
   },
   {
    "duration": 49,
    "start_time": "2022-02-28T18:36:24.869Z"
   },
   {
    "duration": 6,
    "start_time": "2022-02-28T18:36:33.942Z"
   },
   {
    "duration": 3755,
    "start_time": "2022-02-28T18:36:39.775Z"
   },
   {
    "duration": 5,
    "start_time": "2022-02-28T18:36:48.663Z"
   },
   {
    "duration": 5,
    "start_time": "2022-02-28T18:37:13.449Z"
   },
   {
    "duration": 17,
    "start_time": "2022-02-28T18:37:51.358Z"
   },
   {
    "duration": 16,
    "start_time": "2022-02-28T18:38:08.535Z"
   },
   {
    "duration": 17,
    "start_time": "2022-02-28T18:38:10.073Z"
   },
   {
    "duration": 7,
    "start_time": "2022-02-28T18:38:15.393Z"
   },
   {
    "duration": 3805,
    "start_time": "2022-02-28T18:38:18.921Z"
   },
   {
    "duration": 6,
    "start_time": "2022-02-28T18:38:30.842Z"
   },
   {
    "duration": 4761,
    "start_time": "2022-02-28T18:38:36.188Z"
   },
   {
    "duration": 7,
    "start_time": "2022-02-28T18:38:53.034Z"
   },
   {
    "duration": 6080,
    "start_time": "2022-02-28T18:38:57.270Z"
   },
   {
    "duration": 5,
    "start_time": "2022-02-28T18:40:13.294Z"
   },
   {
    "duration": 4080,
    "start_time": "2022-02-28T18:40:15.656Z"
   },
   {
    "duration": 7416,
    "start_time": "2022-02-28T18:40:25.896Z"
   },
   {
    "duration": 4,
    "start_time": "2022-02-28T18:41:03.313Z"
   },
   {
    "duration": 5,
    "start_time": "2022-02-28T18:41:17.529Z"
   },
   {
    "duration": 6021,
    "start_time": "2022-02-28T18:41:22.527Z"
   },
   {
    "duration": 5,
    "start_time": "2022-02-28T18:42:46.373Z"
   },
   {
    "duration": 295,
    "start_time": "2022-02-28T18:43:24.029Z"
   },
   {
    "duration": 4,
    "start_time": "2022-02-28T18:43:27.334Z"
   },
   {
    "duration": 1349,
    "start_time": "2022-02-28T18:43:40.505Z"
   },
   {
    "duration": 941,
    "start_time": "2022-02-28T18:43:41.857Z"
   },
   {
    "duration": 25,
    "start_time": "2022-02-28T18:43:42.801Z"
   },
   {
    "duration": 25,
    "start_time": "2022-02-28T18:43:42.828Z"
   },
   {
    "duration": 37,
    "start_time": "2022-02-28T18:43:42.856Z"
   },
   {
    "duration": 15,
    "start_time": "2022-02-28T18:43:42.896Z"
   },
   {
    "duration": 59,
    "start_time": "2022-02-28T18:43:42.914Z"
   },
   {
    "duration": 8,
    "start_time": "2022-02-28T18:43:42.976Z"
   },
   {
    "duration": 25,
    "start_time": "2022-02-28T18:43:42.990Z"
   },
   {
    "duration": 31,
    "start_time": "2022-02-28T18:43:43.051Z"
   },
   {
    "duration": 23,
    "start_time": "2022-02-28T18:43:43.085Z"
   },
   {
    "duration": 41,
    "start_time": "2022-02-28T18:43:43.111Z"
   },
   {
    "duration": 7,
    "start_time": "2022-02-28T18:43:43.155Z"
   },
   {
    "duration": 8,
    "start_time": "2022-02-28T18:43:43.165Z"
   },
   {
    "duration": 6,
    "start_time": "2022-02-28T18:43:43.175Z"
   },
   {
    "duration": 446,
    "start_time": "2022-02-28T18:43:43.184Z"
   },
   {
    "duration": 14589,
    "start_time": "2022-02-28T18:43:29.044Z"
   },
   {
    "duration": 14589,
    "start_time": "2022-02-28T18:43:29.045Z"
   },
   {
    "duration": 14589,
    "start_time": "2022-02-28T18:43:29.047Z"
   },
   {
    "duration": 14589,
    "start_time": "2022-02-28T18:43:29.048Z"
   },
   {
    "duration": 14590,
    "start_time": "2022-02-28T18:43:29.049Z"
   },
   {
    "duration": 14590,
    "start_time": "2022-02-28T18:43:29.050Z"
   },
   {
    "duration": 14587,
    "start_time": "2022-02-28T18:43:29.054Z"
   },
   {
    "duration": 14587,
    "start_time": "2022-02-28T18:43:29.056Z"
   },
   {
    "duration": 14587,
    "start_time": "2022-02-28T18:43:29.057Z"
   },
   {
    "duration": 14587,
    "start_time": "2022-02-28T18:43:29.058Z"
   },
   {
    "duration": 14587,
    "start_time": "2022-02-28T18:43:29.060Z"
   },
   {
    "duration": 14588,
    "start_time": "2022-02-28T18:43:29.061Z"
   },
   {
    "duration": 14588,
    "start_time": "2022-02-28T18:43:29.062Z"
   },
   {
    "duration": 14587,
    "start_time": "2022-02-28T18:43:29.064Z"
   },
   {
    "duration": 14585,
    "start_time": "2022-02-28T18:43:29.068Z"
   },
   {
    "duration": 14,
    "start_time": "2022-02-28T18:44:06.307Z"
   },
   {
    "duration": 9,
    "start_time": "2022-02-28T18:44:11.341Z"
   },
   {
    "duration": 6,
    "start_time": "2022-02-28T18:44:16.534Z"
   },
   {
    "duration": 6,
    "start_time": "2022-02-28T18:44:18.749Z"
   },
   {
    "duration": 4,
    "start_time": "2022-02-28T18:44:23.119Z"
   },
   {
    "duration": 6,
    "start_time": "2022-02-28T18:44:26.642Z"
   },
   {
    "duration": 233,
    "start_time": "2022-02-28T18:44:28.256Z"
   },
   {
    "duration": 5,
    "start_time": "2022-02-28T18:44:37.280Z"
   },
   {
    "duration": 4,
    "start_time": "2022-02-28T18:44:52.598Z"
   },
   {
    "duration": 4,
    "start_time": "2022-02-28T18:45:05.528Z"
   },
   {
    "duration": 232,
    "start_time": "2022-02-28T18:45:08.274Z"
   },
   {
    "duration": 9,
    "start_time": "2022-02-28T18:45:55.297Z"
   },
   {
    "duration": 5,
    "start_time": "2022-02-28T18:46:16.616Z"
   },
   {
    "duration": 8,
    "start_time": "2022-02-28T18:46:18.291Z"
   },
   {
    "duration": 4,
    "start_time": "2022-02-28T18:46:33.319Z"
   },
   {
    "duration": 7,
    "start_time": "2022-02-28T18:46:34.229Z"
   },
   {
    "duration": 7,
    "start_time": "2022-02-28T18:46:40.701Z"
   },
   {
    "duration": 1386,
    "start_time": "2022-02-28T18:46:49.956Z"
   },
   {
    "duration": 953,
    "start_time": "2022-02-28T18:46:51.345Z"
   },
   {
    "duration": 24,
    "start_time": "2022-02-28T18:46:52.301Z"
   },
   {
    "duration": 24,
    "start_time": "2022-02-28T18:46:52.328Z"
   },
   {
    "duration": 35,
    "start_time": "2022-02-28T18:46:52.354Z"
   },
   {
    "duration": 15,
    "start_time": "2022-02-28T18:46:52.392Z"
   },
   {
    "duration": 62,
    "start_time": "2022-02-28T18:46:52.409Z"
   },
   {
    "duration": 8,
    "start_time": "2022-02-28T18:46:52.475Z"
   },
   {
    "duration": 25,
    "start_time": "2022-02-28T18:46:52.486Z"
   },
   {
    "duration": 63,
    "start_time": "2022-02-28T18:46:52.513Z"
   },
   {
    "duration": 21,
    "start_time": "2022-02-28T18:46:52.579Z"
   },
   {
    "duration": 9,
    "start_time": "2022-02-28T18:46:52.603Z"
   },
   {
    "duration": 11,
    "start_time": "2022-02-28T18:46:52.614Z"
   },
   {
    "duration": 25,
    "start_time": "2022-02-28T18:46:52.628Z"
   },
   {
    "duration": 16,
    "start_time": "2022-02-28T18:46:52.656Z"
   },
   {
    "duration": 21,
    "start_time": "2022-02-28T18:46:52.675Z"
   },
   {
    "duration": 16,
    "start_time": "2022-02-28T18:46:52.698Z"
   },
   {
    "duration": 23,
    "start_time": "2022-02-28T18:46:52.717Z"
   },
   {
    "duration": 20,
    "start_time": "2022-02-28T18:46:52.742Z"
   },
   {
    "duration": 7,
    "start_time": "2022-02-28T18:46:52.764Z"
   },
   {
    "duration": 12,
    "start_time": "2022-02-28T18:46:52.774Z"
   },
   {
    "duration": 11,
    "start_time": "2022-02-28T18:46:52.788Z"
   },
   {
    "duration": 10,
    "start_time": "2022-02-28T18:46:52.805Z"
   },
   {
    "duration": 7,
    "start_time": "2022-02-28T18:46:52.818Z"
   },
   {
    "duration": 552,
    "start_time": "2022-02-28T18:46:52.827Z"
   },
   {
    "duration": 233,
    "start_time": "2022-02-28T18:46:53.382Z"
   },
   {
    "duration": 245,
    "start_time": "2022-02-28T18:46:53.618Z"
   },
   {
    "duration": 6,
    "start_time": "2022-02-28T18:46:53.865Z"
   },
   {
    "duration": 10,
    "start_time": "2022-02-28T18:46:53.873Z"
   },
   {
    "duration": 29,
    "start_time": "2022-02-28T18:46:53.885Z"
   },
   {
    "duration": 40,
    "start_time": "2022-02-28T18:46:53.917Z"
   },
   {
    "duration": 715,
    "start_time": "2022-02-28T18:46:53.960Z"
   },
   {
    "duration": 4,
    "start_time": "2022-02-28T18:46:54.678Z"
   },
   {
    "duration": 15,
    "start_time": "2022-02-28T18:46:54.685Z"
   },
   {
    "duration": 365,
    "start_time": "2022-02-28T18:48:16.782Z"
   },
   {
    "duration": 6,
    "start_time": "2022-02-28T18:48:18.823Z"
   },
   {
    "duration": 536,
    "start_time": "2022-02-28T18:48:19.582Z"
   },
   {
    "duration": 5,
    "start_time": "2022-02-28T18:49:05.060Z"
   },
   {
    "duration": 9,
    "start_time": "2022-02-28T18:49:06.043Z"
   },
   {
    "duration": 4,
    "start_time": "2022-02-28T18:49:29.872Z"
   },
   {
    "duration": 10,
    "start_time": "2022-02-28T18:49:30.774Z"
   },
   {
    "duration": 98,
    "start_time": "2022-02-28T18:54:52.908Z"
   },
   {
    "duration": 14,
    "start_time": "2022-02-28T18:56:16.550Z"
   },
   {
    "duration": 14,
    "start_time": "2022-02-28T18:57:50.019Z"
   },
   {
    "duration": 228,
    "start_time": "2022-02-28T18:57:51.844Z"
   },
   {
    "duration": 31,
    "start_time": "2022-02-28T18:57:56.905Z"
   },
   {
    "duration": 371,
    "start_time": "2022-02-28T18:58:00.988Z"
   },
   {
    "duration": 10,
    "start_time": "2022-02-28T18:58:24.495Z"
   },
   {
    "duration": 239,
    "start_time": "2022-02-28T18:58:25.519Z"
   },
   {
    "duration": 236,
    "start_time": "2022-02-28T18:58:58.033Z"
   },
   {
    "duration": 19,
    "start_time": "2022-02-28T18:59:02.250Z"
   },
   {
    "duration": 11,
    "start_time": "2022-02-28T18:59:09.739Z"
   },
   {
    "duration": 295,
    "start_time": "2022-02-28T18:59:10.668Z"
   },
   {
    "duration": 6,
    "start_time": "2022-02-28T19:01:36.075Z"
   },
   {
    "duration": 5,
    "start_time": "2022-02-28T19:01:42.636Z"
   },
   {
    "duration": 652,
    "start_time": "2022-02-28T19:01:51.158Z"
   },
   {
    "duration": 225,
    "start_time": "2022-02-28T19:03:27.730Z"
   },
   {
    "duration": 8945,
    "start_time": "2022-02-28T19:04:23.967Z"
   },
   {
    "duration": 5,
    "start_time": "2022-02-28T19:06:41.999Z"
   },
   {
    "duration": 892,
    "start_time": "2022-02-28T19:07:34.821Z"
   },
   {
    "duration": 1398,
    "start_time": "2022-02-28T19:08:58.278Z"
   },
   {
    "duration": 1822,
    "start_time": "2022-02-28T19:11:03.477Z"
   },
   {
    "duration": 227,
    "start_time": "2022-02-28T19:12:50.773Z"
   },
   {
    "duration": 1895,
    "start_time": "2022-02-28T19:13:26.384Z"
   },
   {
    "duration": 4,
    "start_time": "2022-02-28T19:14:02.546Z"
   },
   {
    "duration": 1811,
    "start_time": "2022-02-28T19:14:10.621Z"
   },
   {
    "duration": 2173,
    "start_time": "2022-02-28T19:14:40.743Z"
   },
   {
    "duration": 2362,
    "start_time": "2022-02-28T19:15:04.891Z"
   },
   {
    "duration": 33917,
    "start_time": "2022-02-28T19:15:19.123Z"
   },
   {
    "duration": 27472,
    "start_time": "2022-02-28T19:18:52.715Z"
   },
   {
    "duration": 34327,
    "start_time": "2022-02-28T19:19:27.552Z"
   },
   {
    "duration": 347,
    "start_time": "2022-02-28T19:21:34.327Z"
   },
   {
    "duration": 42448,
    "start_time": "2022-02-28T19:21:43.012Z"
   },
   {
    "duration": 275,
    "start_time": "2022-02-28T19:22:25.463Z"
   },
   {
    "duration": 6,
    "start_time": "2022-02-28T19:22:45.471Z"
   },
   {
    "duration": 226,
    "start_time": "2022-02-28T19:22:48.936Z"
   },
   {
    "duration": 8,
    "start_time": "2022-02-28T19:23:03.426Z"
   },
   {
    "duration": 260,
    "start_time": "2022-02-28T19:23:05.256Z"
   },
   {
    "duration": 9,
    "start_time": "2022-02-28T19:23:42.537Z"
   },
   {
    "duration": 1673,
    "start_time": "2022-02-28T19:24:03.315Z"
   },
   {
    "duration": 8,
    "start_time": "2022-02-28T19:24:21.644Z"
   },
   {
    "duration": 12,
    "start_time": "2022-02-28T19:24:38.580Z"
   },
   {
    "duration": 8195,
    "start_time": "2022-02-28T19:25:08.351Z"
   },
   {
    "duration": 5,
    "start_time": "2022-02-28T19:25:22.035Z"
   },
   {
    "duration": 7,
    "start_time": "2022-02-28T19:25:23.201Z"
   },
   {
    "duration": 245,
    "start_time": "2022-02-28T19:25:24.269Z"
   },
   {
    "duration": 5,
    "start_time": "2022-02-28T19:25:55.710Z"
   },
   {
    "duration": 3,
    "start_time": "2022-02-28T19:26:39.378Z"
   },
   {
    "duration": 14,
    "start_time": "2022-02-28T19:26:48.931Z"
   },
   {
    "duration": 7941,
    "start_time": "2022-02-28T19:26:56.188Z"
   },
   {
    "duration": 245,
    "start_time": "2022-02-28T19:27:14.929Z"
   },
   {
    "duration": 5,
    "start_time": "2022-02-28T19:27:46.823Z"
   },
   {
    "duration": 5,
    "start_time": "2022-02-28T19:28:03.411Z"
   },
   {
    "duration": 235,
    "start_time": "2022-02-28T19:28:16.463Z"
   },
   {
    "duration": 238,
    "start_time": "2022-02-28T19:28:34.837Z"
   },
   {
    "duration": 13,
    "start_time": "2022-02-28T19:30:12.147Z"
   },
   {
    "duration": 238,
    "start_time": "2022-02-28T19:30:13.007Z"
   },
   {
    "duration": 13,
    "start_time": "2022-02-28T19:30:23.542Z"
   },
   {
    "duration": 7726,
    "start_time": "2022-02-28T19:30:30.549Z"
   },
   {
    "duration": 4,
    "start_time": "2022-02-28T19:30:46.654Z"
   },
   {
    "duration": 5,
    "start_time": "2022-02-28T19:30:47.615Z"
   },
   {
    "duration": 10,
    "start_time": "2022-02-28T19:31:12.841Z"
   },
   {
    "duration": 285,
    "start_time": "2022-02-28T19:31:17.393Z"
   },
   {
    "duration": 4,
    "start_time": "2022-02-28T19:31:21.954Z"
   },
   {
    "duration": 6651,
    "start_time": "2022-02-28T19:31:34.011Z"
   },
   {
    "duration": 26449,
    "start_time": "2022-02-28T19:31:42.967Z"
   },
   {
    "duration": 944,
    "start_time": "2022-02-28T19:32:30.010Z"
   },
   {
    "duration": 1328,
    "start_time": "2022-02-28T19:37:34.967Z"
   },
   {
    "duration": 15,
    "start_time": "2022-02-28T19:39:42.924Z"
   },
   {
    "duration": 7,
    "start_time": "2022-02-28T19:40:09.672Z"
   },
   {
    "duration": 6,
    "start_time": "2022-02-28T19:40:21.594Z"
   },
   {
    "duration": 6,
    "start_time": "2022-02-28T19:43:05.779Z"
   },
   {
    "duration": 5,
    "start_time": "2022-02-28T19:44:08.756Z"
   },
   {
    "duration": 4,
    "start_time": "2022-02-28T19:59:16.902Z"
   },
   {
    "duration": 7,
    "start_time": "2022-02-28T20:12:57.396Z"
   },
   {
    "duration": 31,
    "start_time": "2022-02-28T20:14:34.602Z"
   },
   {
    "duration": 13,
    "start_time": "2022-02-28T20:14:53.562Z"
   },
   {
    "duration": 10,
    "start_time": "2022-02-28T20:16:20.857Z"
   },
   {
    "duration": 10,
    "start_time": "2022-02-28T20:17:54.889Z"
   },
   {
    "duration": 5,
    "start_time": "2022-02-28T20:18:18.593Z"
   },
   {
    "duration": 5,
    "start_time": "2022-02-28T23:27:56.543Z"
   },
   {
    "duration": 213,
    "start_time": "2022-02-28T23:28:57.445Z"
   },
   {
    "duration": 80,
    "start_time": "2022-02-28T23:29:06.392Z"
   },
   {
    "duration": 1564,
    "start_time": "2022-02-28T23:29:11.024Z"
   },
   {
    "duration": 214,
    "start_time": "2022-02-28T23:29:44.515Z"
   },
   {
    "duration": 1400,
    "start_time": "2022-02-28T23:30:06.360Z"
   },
   {
    "duration": 3,
    "start_time": "2022-02-28T23:30:07.763Z"
   },
   {
    "duration": 960,
    "start_time": "2022-02-28T23:30:07.769Z"
   },
   {
    "duration": 32,
    "start_time": "2022-02-28T23:30:08.732Z"
   },
   {
    "duration": 11,
    "start_time": "2022-02-28T23:30:08.766Z"
   },
   {
    "duration": 34,
    "start_time": "2022-02-28T23:30:08.779Z"
   },
   {
    "duration": 43,
    "start_time": "2022-02-28T23:30:08.815Z"
   },
   {
    "duration": 29,
    "start_time": "2022-02-28T23:30:08.861Z"
   },
   {
    "duration": 10,
    "start_time": "2022-02-28T23:30:08.896Z"
   },
   {
    "duration": 63,
    "start_time": "2022-02-28T23:30:08.908Z"
   },
   {
    "duration": 28,
    "start_time": "2022-02-28T23:30:08.973Z"
   },
   {
    "duration": 14,
    "start_time": "2022-02-28T23:30:09.004Z"
   },
   {
    "duration": 38,
    "start_time": "2022-02-28T23:30:09.021Z"
   },
   {
    "duration": 4,
    "start_time": "2022-02-28T23:30:09.061Z"
   },
   {
    "duration": 9,
    "start_time": "2022-02-28T23:30:09.067Z"
   },
   {
    "duration": 3,
    "start_time": "2022-02-28T23:30:09.079Z"
   },
   {
    "duration": 4,
    "start_time": "2022-02-28T23:30:09.085Z"
   },
   {
    "duration": 6,
    "start_time": "2022-02-28T23:30:09.092Z"
   },
   {
    "duration": 4,
    "start_time": "2022-02-28T23:30:09.101Z"
   },
   {
    "duration": 4,
    "start_time": "2022-02-28T23:30:09.151Z"
   },
   {
    "duration": 6,
    "start_time": "2022-02-28T23:30:09.157Z"
   },
   {
    "duration": 6,
    "start_time": "2022-02-28T23:30:09.165Z"
   },
   {
    "duration": 5,
    "start_time": "2022-02-28T23:30:09.173Z"
   },
   {
    "duration": 10,
    "start_time": "2022-02-28T23:30:09.181Z"
   },
   {
    "duration": 58,
    "start_time": "2022-02-28T23:30:09.194Z"
   },
   {
    "duration": 10,
    "start_time": "2022-02-28T23:30:09.255Z"
   },
   {
    "duration": 528,
    "start_time": "2022-02-28T23:30:09.272Z"
   },
   {
    "duration": 233,
    "start_time": "2022-02-28T23:30:09.804Z"
   },
   {
    "duration": 223,
    "start_time": "2022-02-28T23:30:10.040Z"
   },
   {
    "duration": 4,
    "start_time": "2022-02-28T23:30:10.265Z"
   },
   {
    "duration": 10,
    "start_time": "2022-02-28T23:30:10.271Z"
   },
   {
    "duration": 17,
    "start_time": "2022-02-28T23:30:10.283Z"
   },
   {
    "duration": 11,
    "start_time": "2022-02-28T23:30:10.302Z"
   },
   {
    "duration": 1330,
    "start_time": "2022-02-28T23:30:10.352Z"
   },
   {
    "duration": 968,
    "start_time": "2022-02-28T23:30:11.685Z"
   },
   {
    "duration": 94,
    "start_time": "2022-02-28T23:30:12.658Z"
   },
   {
    "duration": 25612,
    "start_time": "2022-02-28T23:30:12.754Z"
   },
   {
    "duration": 6392,
    "start_time": "2022-02-28T23:30:38.368Z"
   },
   {
    "duration": 6,
    "start_time": "2022-02-28T23:30:44.762Z"
   },
   {
    "duration": 10,
    "start_time": "2022-02-28T23:30:44.770Z"
   },
   {
    "duration": 14,
    "start_time": "2022-02-28T23:30:44.782Z"
   },
   {
    "duration": 6,
    "start_time": "2022-02-28T23:30:44.798Z"
   },
   {
    "duration": 4,
    "start_time": "2022-02-28T23:30:44.806Z"
   },
   {
    "duration": 69,
    "start_time": "2022-02-28T23:30:44.812Z"
   },
   {
    "duration": 10,
    "start_time": "2022-02-28T23:30:44.883Z"
   },
   {
    "duration": 9,
    "start_time": "2022-02-28T23:30:44.896Z"
   },
   {
    "duration": 4,
    "start_time": "2022-02-28T23:30:44.908Z"
   },
   {
    "duration": 392,
    "start_time": "2022-02-28T23:30:51.725Z"
   },
   {
    "duration": 5,
    "start_time": "2022-02-28T23:31:25.321Z"
   },
   {
    "duration": 256,
    "start_time": "2022-02-28T23:31:32.587Z"
   },
   {
    "duration": 1000,
    "start_time": "2022-02-28T23:32:22.055Z"
   },
   {
    "duration": 909,
    "start_time": "2022-02-28T23:32:38.450Z"
   },
   {
    "duration": 25741,
    "start_time": "2022-02-28T23:32:47.318Z"
   },
   {
    "duration": 1394,
    "start_time": "2022-02-28T23:33:13.062Z"
   },
   {
    "duration": 1440,
    "start_time": "2022-03-04T04:13:16.811Z"
   },
   {
    "duration": 3,
    "start_time": "2022-03-04T04:13:18.254Z"
   },
   {
    "duration": 969,
    "start_time": "2022-03-04T04:13:18.260Z"
   },
   {
    "duration": 34,
    "start_time": "2022-03-04T04:13:19.232Z"
   },
   {
    "duration": 13,
    "start_time": "2022-03-04T04:13:19.270Z"
   },
   {
    "duration": 70,
    "start_time": "2022-03-04T04:13:19.286Z"
   },
   {
    "duration": 17,
    "start_time": "2022-03-04T04:13:19.359Z"
   },
   {
    "duration": 31,
    "start_time": "2022-03-04T04:13:19.381Z"
   },
   {
    "duration": 40,
    "start_time": "2022-03-04T04:13:19.416Z"
   },
   {
    "duration": 26,
    "start_time": "2022-03-04T04:13:19.458Z"
   },
   {
    "duration": 30,
    "start_time": "2022-03-04T04:13:19.486Z"
   },
   {
    "duration": 43,
    "start_time": "2022-03-04T04:13:19.518Z"
   },
   {
    "duration": 9,
    "start_time": "2022-03-04T04:13:19.563Z"
   },
   {
    "duration": 3,
    "start_time": "2022-03-04T04:13:19.574Z"
   },
   {
    "duration": 15,
    "start_time": "2022-03-04T04:13:19.579Z"
   },
   {
    "duration": 8,
    "start_time": "2022-03-04T04:13:19.596Z"
   },
   {
    "duration": 3,
    "start_time": "2022-03-04T04:13:19.607Z"
   },
   {
    "duration": 43,
    "start_time": "2022-03-04T04:13:19.613Z"
   },
   {
    "duration": 8,
    "start_time": "2022-03-04T04:13:19.659Z"
   },
   {
    "duration": 6,
    "start_time": "2022-03-04T04:13:19.669Z"
   },
   {
    "duration": 5,
    "start_time": "2022-03-04T04:13:19.677Z"
   },
   {
    "duration": 5,
    "start_time": "2022-03-04T04:13:19.684Z"
   },
   {
    "duration": 11,
    "start_time": "2022-03-04T04:13:19.693Z"
   },
   {
    "duration": 47,
    "start_time": "2022-03-04T04:13:19.707Z"
   },
   {
    "duration": 7,
    "start_time": "2022-03-04T04:13:19.757Z"
   },
   {
    "duration": 7,
    "start_time": "2022-03-04T04:13:19.767Z"
   },
   {
    "duration": 542,
    "start_time": "2022-03-04T04:13:19.777Z"
   },
   {
    "duration": 236,
    "start_time": "2022-03-04T04:13:20.322Z"
   },
   {
    "duration": 223,
    "start_time": "2022-03-04T04:13:20.560Z"
   },
   {
    "duration": 5,
    "start_time": "2022-03-04T04:13:20.785Z"
   },
   {
    "duration": 9,
    "start_time": "2022-03-04T04:13:20.792Z"
   },
   {
    "duration": 16,
    "start_time": "2022-03-04T04:13:20.803Z"
   },
   {
    "duration": 10,
    "start_time": "2022-03-04T04:13:20.851Z"
   },
   {
    "duration": 1377,
    "start_time": "2022-03-04T04:13:20.863Z"
   },
   {
    "duration": 1010,
    "start_time": "2022-03-04T04:13:22.243Z"
   },
   {
    "duration": 5,
    "start_time": "2022-03-04T04:13:23.257Z"
   },
   {
    "duration": 25919,
    "start_time": "2022-03-04T04:13:23.352Z"
   },
   {
    "duration": 6709,
    "start_time": "2022-03-04T04:13:49.273Z"
   },
   {
    "duration": 6,
    "start_time": "2022-03-04T04:13:55.984Z"
   },
   {
    "duration": 9,
    "start_time": "2022-03-04T04:13:55.992Z"
   },
   {
    "duration": 15,
    "start_time": "2022-03-04T04:13:56.004Z"
   },
   {
    "duration": 5,
    "start_time": "2022-03-04T04:13:56.021Z"
   },
   {
    "duration": 4,
    "start_time": "2022-03-04T04:13:56.052Z"
   },
   {
    "duration": 35,
    "start_time": "2022-03-04T04:13:56.058Z"
   },
   {
    "duration": 11,
    "start_time": "2022-03-04T04:13:56.095Z"
   },
   {
    "duration": 43,
    "start_time": "2022-03-04T04:13:56.108Z"
   },
   {
    "duration": 4,
    "start_time": "2022-03-04T04:13:56.153Z"
   },
   {
    "duration": 8,
    "start_time": "2022-03-04T04:24:01.223Z"
   },
   {
    "duration": 530,
    "start_time": "2022-03-04T04:33:53.003Z"
   },
   {
    "duration": 567,
    "start_time": "2022-03-04T04:34:16.230Z"
   },
   {
    "duration": 483,
    "start_time": "2022-03-04T04:34:36.849Z"
   },
   {
    "duration": 514,
    "start_time": "2022-03-04T04:35:18.757Z"
   },
   {
    "duration": 374,
    "start_time": "2022-03-04T04:40:34.656Z"
   },
   {
    "duration": 5,
    "start_time": "2022-03-04T04:40:36.418Z"
   },
   {
    "duration": 8,
    "start_time": "2022-03-04T04:40:37.154Z"
   },
   {
    "duration": 1318,
    "start_time": "2022-03-04T04:40:55.998Z"
   },
   {
    "duration": 12,
    "start_time": "2022-03-04T14:07:16.304Z"
   },
   {
    "duration": 1882,
    "start_time": "2022-03-04T14:12:12.879Z"
   },
   {
    "duration": 1436,
    "start_time": "2022-03-04T14:17:38.738Z"
   },
   {
    "duration": 3,
    "start_time": "2022-03-04T14:17:40.177Z"
   },
   {
    "duration": 969,
    "start_time": "2022-03-04T14:17:40.183Z"
   },
   {
    "duration": 25,
    "start_time": "2022-03-04T14:17:41.155Z"
   },
   {
    "duration": 12,
    "start_time": "2022-03-04T14:17:41.183Z"
   },
   {
    "duration": 66,
    "start_time": "2022-03-04T14:17:41.197Z"
   },
   {
    "duration": 19,
    "start_time": "2022-03-04T14:17:41.266Z"
   },
   {
    "duration": 30,
    "start_time": "2022-03-04T14:17:41.287Z"
   },
   {
    "duration": 9,
    "start_time": "2022-03-04T14:17:41.351Z"
   },
   {
    "duration": 25,
    "start_time": "2022-03-04T14:17:41.365Z"
   },
   {
    "duration": 66,
    "start_time": "2022-03-04T14:17:41.393Z"
   },
   {
    "duration": 15,
    "start_time": "2022-03-04T14:17:41.462Z"
   },
   {
    "duration": 10,
    "start_time": "2022-03-04T14:17:41.479Z"
   },
   {
    "duration": 4,
    "start_time": "2022-03-04T14:17:41.491Z"
   },
   {
    "duration": 10,
    "start_time": "2022-03-04T14:17:41.498Z"
   },
   {
    "duration": 5,
    "start_time": "2022-03-04T14:17:41.551Z"
   },
   {
    "duration": 5,
    "start_time": "2022-03-04T14:17:41.559Z"
   },
   {
    "duration": 6,
    "start_time": "2022-03-04T14:17:41.567Z"
   },
   {
    "duration": 5,
    "start_time": "2022-03-04T14:17:41.577Z"
   },
   {
    "duration": 65,
    "start_time": "2022-03-04T14:17:41.585Z"
   },
   {
    "duration": 19,
    "start_time": "2022-03-04T14:17:41.653Z"
   },
   {
    "duration": 11,
    "start_time": "2022-03-04T14:17:41.675Z"
   },
   {
    "duration": 10,
    "start_time": "2022-03-04T14:17:41.688Z"
   },
   {
    "duration": 10,
    "start_time": "2022-03-04T14:17:41.700Z"
   },
   {
    "duration": 43,
    "start_time": "2022-03-04T14:17:41.712Z"
   },
   {
    "duration": 9,
    "start_time": "2022-03-04T14:17:41.758Z"
   },
   {
    "duration": 8,
    "start_time": "2022-03-04T14:17:41.772Z"
   },
   {
    "duration": 546,
    "start_time": "2022-03-04T14:17:41.783Z"
   },
   {
    "duration": 230,
    "start_time": "2022-03-04T14:17:42.331Z"
   },
   {
    "duration": 217,
    "start_time": "2022-03-04T14:17:42.564Z"
   },
   {
    "duration": 5,
    "start_time": "2022-03-04T14:17:42.784Z"
   },
   {
    "duration": 10,
    "start_time": "2022-03-04T14:17:42.792Z"
   },
   {
    "duration": 1388,
    "start_time": "2022-03-04T14:17:42.805Z"
   },
   {
    "duration": 962,
    "start_time": "2022-03-04T14:17:44.195Z"
   },
   {
    "duration": 4,
    "start_time": "2022-03-04T14:17:45.251Z"
   },
   {
    "duration": 27011,
    "start_time": "2022-03-04T14:17:45.258Z"
   },
   {
    "duration": 6752,
    "start_time": "2022-03-04T14:18:12.272Z"
   },
   {
    "duration": 26,
    "start_time": "2022-03-04T14:18:19.027Z"
   },
   {
    "duration": 5,
    "start_time": "2022-03-04T14:18:19.056Z"
   },
   {
    "duration": 5,
    "start_time": "2022-03-04T14:18:19.064Z"
   },
   {
    "duration": 34,
    "start_time": "2022-03-04T14:18:19.072Z"
   },
   {
    "duration": 46,
    "start_time": "2022-03-04T14:18:19.108Z"
   },
   {
    "duration": 12,
    "start_time": "2022-03-04T14:18:19.156Z"
   },
   {
    "duration": 1943,
    "start_time": "2022-03-04T14:18:19.170Z"
   },
   {
    "duration": 19036,
    "start_time": "2022-03-04T14:18:02.080Z"
   },
   {
    "duration": 1750,
    "start_time": "2022-03-04T14:19:49.972Z"
   },
   {
    "duration": 8,
    "start_time": "2022-03-04T14:20:05.311Z"
   },
   {
    "duration": 6,
    "start_time": "2022-03-04T14:21:06.255Z"
   },
   {
    "duration": 8,
    "start_time": "2022-03-04T14:21:11.694Z"
   },
   {
    "duration": 9,
    "start_time": "2022-03-04T14:21:31.475Z"
   },
   {
    "duration": 7,
    "start_time": "2022-03-04T14:21:55.817Z"
   },
   {
    "duration": 6,
    "start_time": "2022-03-04T14:22:14.764Z"
   },
   {
    "duration": 9,
    "start_time": "2022-03-04T14:22:17.560Z"
   },
   {
    "duration": 4,
    "start_time": "2022-03-04T14:24:53.432Z"
   },
   {
    "duration": 12,
    "start_time": "2022-03-04T14:25:05.657Z"
   },
   {
    "duration": 1565,
    "start_time": "2022-03-04T14:27:47.826Z"
   },
   {
    "duration": 4,
    "start_time": "2022-03-04T14:27:49.393Z"
   },
   {
    "duration": 1079,
    "start_time": "2022-03-04T14:27:49.399Z"
   },
   {
    "duration": 27,
    "start_time": "2022-03-04T14:27:50.482Z"
   },
   {
    "duration": 14,
    "start_time": "2022-03-04T14:27:50.512Z"
   },
   {
    "duration": 40,
    "start_time": "2022-03-04T14:27:50.553Z"
   },
   {
    "duration": 16,
    "start_time": "2022-03-04T14:27:50.595Z"
   },
   {
    "duration": 68,
    "start_time": "2022-03-04T14:27:50.614Z"
   },
   {
    "duration": 8,
    "start_time": "2022-03-04T14:27:50.687Z"
   },
   {
    "duration": 69,
    "start_time": "2022-03-04T14:27:50.700Z"
   },
   {
    "duration": 32,
    "start_time": "2022-03-04T14:27:50.771Z"
   },
   {
    "duration": 17,
    "start_time": "2022-03-04T14:27:50.805Z"
   },
   {
    "duration": 11,
    "start_time": "2022-03-04T14:27:50.851Z"
   },
   {
    "duration": 8,
    "start_time": "2022-03-04T14:27:50.865Z"
   },
   {
    "duration": 14,
    "start_time": "2022-03-04T14:27:50.875Z"
   },
   {
    "duration": 11,
    "start_time": "2022-03-04T14:27:50.892Z"
   },
   {
    "duration": 9,
    "start_time": "2022-03-04T14:27:50.906Z"
   },
   {
    "duration": 11,
    "start_time": "2022-03-04T14:27:50.917Z"
   },
   {
    "duration": 23,
    "start_time": "2022-03-04T14:27:50.931Z"
   },
   {
    "duration": 22,
    "start_time": "2022-03-04T14:27:50.957Z"
   },
   {
    "duration": 18,
    "start_time": "2022-03-04T14:27:50.981Z"
   },
   {
    "duration": 10,
    "start_time": "2022-03-04T14:27:51.002Z"
   },
   {
    "duration": 40,
    "start_time": "2022-03-04T14:27:51.014Z"
   },
   {
    "duration": 18,
    "start_time": "2022-03-04T14:27:51.058Z"
   },
   {
    "duration": 7,
    "start_time": "2022-03-04T14:27:51.079Z"
   },
   {
    "duration": 8,
    "start_time": "2022-03-04T14:27:51.088Z"
   },
   {
    "duration": 8,
    "start_time": "2022-03-04T14:27:51.103Z"
   },
   {
    "duration": 573,
    "start_time": "2022-03-04T14:27:51.150Z"
   },
   {
    "duration": 304,
    "start_time": "2022-03-04T14:27:51.726Z"
   },
   {
    "duration": 250,
    "start_time": "2022-03-04T14:27:52.033Z"
   },
   {
    "duration": 6,
    "start_time": "2022-03-04T14:27:52.285Z"
   },
   {
    "duration": 10,
    "start_time": "2022-03-04T14:27:52.293Z"
   },
   {
    "duration": 1514,
    "start_time": "2022-03-04T14:27:52.306Z"
   },
   {
    "duration": 1428,
    "start_time": "2022-03-04T14:27:53.823Z"
   },
   {
    "duration": 9,
    "start_time": "2022-03-04T14:27:55.255Z"
   },
   {
    "duration": 26423,
    "start_time": "2022-03-04T14:27:55.267Z"
   },
   {
    "duration": 7259,
    "start_time": "2022-03-04T14:28:21.692Z"
   },
   {
    "duration": 15,
    "start_time": "2022-03-04T14:28:28.953Z"
   },
   {
    "duration": 6,
    "start_time": "2022-03-04T14:28:28.970Z"
   },
   {
    "duration": 5,
    "start_time": "2022-03-04T14:28:28.979Z"
   },
   {
    "duration": 6,
    "start_time": "2022-03-04T14:28:28.986Z"
   },
   {
    "duration": 71,
    "start_time": "2022-03-04T14:28:28.995Z"
   },
   {
    "duration": 4,
    "start_time": "2022-03-04T14:28:29.068Z"
   },
   {
    "duration": 7,
    "start_time": "2022-03-04T14:28:29.074Z"
   },
   {
    "duration": 454,
    "start_time": "2022-03-04T14:28:29.084Z"
   },
   {
    "duration": 12,
    "start_time": "2022-03-04T14:29:19.726Z"
   },
   {
    "duration": 12,
    "start_time": "2022-03-04T14:29:26.407Z"
   },
   {
    "duration": 1418,
    "start_time": "2022-03-04T14:35:29.057Z"
   },
   {
    "duration": 3,
    "start_time": "2022-03-04T14:35:30.478Z"
   },
   {
    "duration": 997,
    "start_time": "2022-03-04T14:35:30.485Z"
   },
   {
    "duration": 26,
    "start_time": "2022-03-04T14:35:31.485Z"
   },
   {
    "duration": 12,
    "start_time": "2022-03-04T14:35:31.513Z"
   },
   {
    "duration": 57,
    "start_time": "2022-03-04T14:35:31.528Z"
   },
   {
    "duration": 16,
    "start_time": "2022-03-04T14:35:31.587Z"
   },
   {
    "duration": 61,
    "start_time": "2022-03-04T14:35:31.605Z"
   },
   {
    "duration": 8,
    "start_time": "2022-03-04T14:35:31.669Z"
   },
   {
    "duration": 44,
    "start_time": "2022-03-04T14:35:31.680Z"
   },
   {
    "duration": 44,
    "start_time": "2022-03-04T14:35:31.727Z"
   },
   {
    "duration": 22,
    "start_time": "2022-03-04T14:35:31.773Z"
   },
   {
    "duration": 13,
    "start_time": "2022-03-04T14:35:31.798Z"
   },
   {
    "duration": 18,
    "start_time": "2022-03-04T14:35:31.813Z"
   },
   {
    "duration": 14,
    "start_time": "2022-03-04T14:35:31.833Z"
   },
   {
    "duration": 4,
    "start_time": "2022-03-04T14:35:31.852Z"
   },
   {
    "duration": 12,
    "start_time": "2022-03-04T14:35:31.858Z"
   },
   {
    "duration": 8,
    "start_time": "2022-03-04T14:35:31.872Z"
   },
   {
    "duration": 6,
    "start_time": "2022-03-04T14:35:31.883Z"
   },
   {
    "duration": 15,
    "start_time": "2022-03-04T14:35:31.891Z"
   },
   {
    "duration": 46,
    "start_time": "2022-03-04T14:35:31.908Z"
   },
   {
    "duration": 10,
    "start_time": "2022-03-04T14:35:31.956Z"
   },
   {
    "duration": 14,
    "start_time": "2022-03-04T14:35:31.968Z"
   },
   {
    "duration": 15,
    "start_time": "2022-03-04T14:35:31.984Z"
   },
   {
    "duration": 9,
    "start_time": "2022-03-04T14:35:32.001Z"
   },
   {
    "duration": 39,
    "start_time": "2022-03-04T14:35:32.013Z"
   },
   {
    "duration": 8,
    "start_time": "2022-03-04T14:35:32.057Z"
   },
   {
    "duration": 547,
    "start_time": "2022-03-04T14:35:32.068Z"
   },
   {
    "duration": 232,
    "start_time": "2022-03-04T14:35:32.617Z"
   },
   {
    "duration": 228,
    "start_time": "2022-03-04T14:35:32.852Z"
   },
   {
    "duration": 6,
    "start_time": "2022-03-04T14:35:33.082Z"
   },
   {
    "duration": 14,
    "start_time": "2022-03-04T14:35:33.090Z"
   },
   {
    "duration": 1409,
    "start_time": "2022-03-04T14:35:33.106Z"
   },
   {
    "duration": 1036,
    "start_time": "2022-03-04T14:35:34.517Z"
   },
   {
    "duration": 4,
    "start_time": "2022-03-04T14:35:35.556Z"
   },
   {
    "duration": 28461,
    "start_time": "2022-03-04T14:35:35.565Z"
   },
   {
    "duration": 6854,
    "start_time": "2022-03-04T14:36:04.028Z"
   },
   {
    "duration": 15,
    "start_time": "2022-03-04T14:36:10.884Z"
   },
   {
    "duration": 5,
    "start_time": "2022-03-04T14:36:10.902Z"
   },
   {
    "duration": 7,
    "start_time": "2022-03-04T14:36:10.910Z"
   },
   {
    "duration": 32,
    "start_time": "2022-03-04T14:36:10.919Z"
   },
   {
    "duration": 33,
    "start_time": "2022-03-04T14:36:10.953Z"
   },
   {
    "duration": 12,
    "start_time": "2022-03-04T14:36:10.988Z"
   },
   {
    "duration": 410,
    "start_time": "2022-03-05T18:12:28.018Z"
   },
   {
    "duration": 1530,
    "start_time": "2022-03-05T18:12:47.443Z"
   },
   {
    "duration": 3,
    "start_time": "2022-03-05T18:12:48.976Z"
   },
   {
    "duration": 1022,
    "start_time": "2022-03-05T18:12:48.982Z"
   },
   {
    "duration": 37,
    "start_time": "2022-03-05T18:12:50.007Z"
   },
   {
    "duration": 12,
    "start_time": "2022-03-05T18:12:50.047Z"
   },
   {
    "duration": 36,
    "start_time": "2022-03-05T18:12:50.061Z"
   },
   {
    "duration": 42,
    "start_time": "2022-03-05T18:12:50.099Z"
   },
   {
    "duration": 34,
    "start_time": "2022-03-05T18:12:50.144Z"
   },
   {
    "duration": 8,
    "start_time": "2022-03-05T18:12:50.181Z"
   },
   {
    "duration": 66,
    "start_time": "2022-03-05T18:12:50.192Z"
   },
   {
    "duration": 32,
    "start_time": "2022-03-05T18:12:50.260Z"
   },
   {
    "duration": 38,
    "start_time": "2022-03-05T18:12:50.294Z"
   },
   {
    "duration": 9,
    "start_time": "2022-03-05T18:12:50.335Z"
   },
   {
    "duration": 4,
    "start_time": "2022-03-05T18:12:50.346Z"
   },
   {
    "duration": 18,
    "start_time": "2022-03-05T18:12:50.353Z"
   },
   {
    "duration": 5,
    "start_time": "2022-03-05T18:12:50.374Z"
   },
   {
    "duration": 6,
    "start_time": "2022-03-05T18:12:50.381Z"
   },
   {
    "duration": 7,
    "start_time": "2022-03-05T18:12:50.389Z"
   },
   {
    "duration": 37,
    "start_time": "2022-03-05T18:12:50.400Z"
   },
   {
    "duration": 14,
    "start_time": "2022-03-05T18:12:50.440Z"
   },
   {
    "duration": 17,
    "start_time": "2022-03-05T18:12:50.457Z"
   },
   {
    "duration": 10,
    "start_time": "2022-03-05T18:12:50.477Z"
   },
   {
    "duration": 43,
    "start_time": "2022-03-05T18:12:50.489Z"
   },
   {
    "duration": 9,
    "start_time": "2022-03-05T18:12:50.535Z"
   },
   {
    "duration": 13,
    "start_time": "2022-03-05T18:12:50.546Z"
   },
   {
    "duration": 14,
    "start_time": "2022-03-05T18:12:50.561Z"
   },
   {
    "duration": 9,
    "start_time": "2022-03-05T18:12:50.580Z"
   },
   {
    "duration": 829,
    "start_time": "2022-03-05T18:12:50.592Z"
   },
   {
    "duration": 251,
    "start_time": "2022-03-05T18:12:51.423Z"
   },
   {
    "duration": 240,
    "start_time": "2022-03-05T18:12:51.676Z"
   },
   {
    "duration": 18,
    "start_time": "2022-03-05T18:12:51.918Z"
   },
   {
    "duration": 19,
    "start_time": "2022-03-05T18:12:51.939Z"
   },
   {
    "duration": 1511,
    "start_time": "2022-03-05T18:12:51.960Z"
   },
   {
    "duration": 966,
    "start_time": "2022-03-05T18:12:53.474Z"
   },
   {
    "duration": 90,
    "start_time": "2022-03-05T18:12:54.443Z"
   },
   {
    "duration": 27956,
    "start_time": "2022-03-05T18:12:54.536Z"
   },
   {
    "duration": 6791,
    "start_time": "2022-03-05T18:13:22.495Z"
   },
   {
    "duration": 15,
    "start_time": "2022-03-05T18:13:29.289Z"
   },
   {
    "duration": 5,
    "start_time": "2022-03-05T18:13:29.306Z"
   },
   {
    "duration": 21,
    "start_time": "2022-03-05T18:13:29.313Z"
   },
   {
    "duration": 5,
    "start_time": "2022-03-05T18:13:29.337Z"
   },
   {
    "duration": 34,
    "start_time": "2022-03-05T18:13:29.345Z"
   },
   {
    "duration": 12,
    "start_time": "2022-03-05T18:13:29.381Z"
   },
   {
    "duration": 583,
    "start_time": "2022-03-05T18:13:43.150Z"
   },
   {
    "duration": 532,
    "start_time": "2022-03-05T18:14:00.818Z"
   },
   {
    "duration": 522,
    "start_time": "2022-03-05T18:14:17.099Z"
   },
   {
    "duration": 528,
    "start_time": "2022-03-05T18:14:35.970Z"
   },
   {
    "duration": 626,
    "start_time": "2022-03-05T18:15:48.809Z"
   },
   {
    "duration": 1039,
    "start_time": "2022-03-05T18:17:00.249Z"
   },
   {
    "duration": 621,
    "start_time": "2022-03-05T18:17:06.343Z"
   },
   {
    "duration": 711,
    "start_time": "2022-03-05T18:17:40.350Z"
   },
   {
    "duration": 617,
    "start_time": "2022-03-05T18:17:58.622Z"
   },
   {
    "duration": 627,
    "start_time": "2022-03-05T18:18:47.315Z"
   },
   {
    "duration": 699,
    "start_time": "2022-03-05T18:19:55.290Z"
   },
   {
    "duration": 678,
    "start_time": "2022-03-05T18:20:04.375Z"
   },
   {
    "duration": 777,
    "start_time": "2022-03-05T18:20:12.932Z"
   },
   {
    "duration": 677,
    "start_time": "2022-03-05T18:20:24.847Z"
   },
   {
    "duration": 689,
    "start_time": "2022-03-05T18:20:33.455Z"
   },
   {
    "duration": 987,
    "start_time": "2022-03-05T18:22:17.180Z"
   },
   {
    "duration": 3126,
    "start_time": "2022-03-05T18:33:00.910Z"
   },
   {
    "duration": 1321,
    "start_time": "2022-03-05T18:33:57.581Z"
   },
   {
    "duration": 1056,
    "start_time": "2022-03-05T18:34:30.665Z"
   },
   {
    "duration": 910,
    "start_time": "2022-03-05T18:35:06.409Z"
   },
   {
    "duration": 1325,
    "start_time": "2022-03-05T18:36:05.422Z"
   },
   {
    "duration": 1166,
    "start_time": "2022-03-05T18:36:09.628Z"
   },
   {
    "duration": 1086,
    "start_time": "2022-03-05T18:36:44.899Z"
   },
   {
    "duration": 345,
    "start_time": "2022-03-05T18:37:00.378Z"
   },
   {
    "duration": 1057,
    "start_time": "2022-03-05T18:37:05.635Z"
   },
   {
    "duration": 860,
    "start_time": "2022-03-05T18:37:15.180Z"
   },
   {
    "duration": 1148,
    "start_time": "2022-03-05T18:39:16.622Z"
   },
   {
    "duration": 1044,
    "start_time": "2022-03-05T18:40:00.039Z"
   },
   {
    "duration": 1048,
    "start_time": "2022-03-05T18:40:11.384Z"
   },
   {
    "duration": 1050,
    "start_time": "2022-03-05T18:40:25.162Z"
   },
   {
    "duration": 114,
    "start_time": "2022-03-05T18:49:23.486Z"
   },
   {
    "duration": 334,
    "start_time": "2022-03-05T18:49:35.059Z"
   },
   {
    "duration": 10929,
    "start_time": "2022-03-05T18:50:03.469Z"
   },
   {
    "duration": 5106,
    "start_time": "2022-03-05T18:50:30.381Z"
   },
   {
    "duration": 43,
    "start_time": "2022-03-05T18:50:59.930Z"
   },
   {
    "duration": 5219,
    "start_time": "2022-03-05T18:51:05.214Z"
   },
   {
    "duration": 46,
    "start_time": "2022-03-05T18:51:17.325Z"
   },
   {
    "duration": 5291,
    "start_time": "2022-03-05T18:51:22.782Z"
   },
   {
    "duration": 49,
    "start_time": "2022-03-05T18:53:27.500Z"
   },
   {
    "duration": 8604,
    "start_time": "2022-03-05T18:53:32.122Z"
   },
   {
    "duration": 1462,
    "start_time": "2022-03-05T18:53:49.289Z"
   },
   {
    "duration": 4,
    "start_time": "2022-03-05T18:53:50.753Z"
   },
   {
    "duration": 993,
    "start_time": "2022-03-05T18:53:50.760Z"
   },
   {
    "duration": 25,
    "start_time": "2022-03-05T18:53:51.756Z"
   },
   {
    "duration": 11,
    "start_time": "2022-03-05T18:53:51.784Z"
   },
   {
    "duration": 63,
    "start_time": "2022-03-05T18:53:51.798Z"
   },
   {
    "duration": 16,
    "start_time": "2022-03-05T18:53:51.864Z"
   },
   {
    "duration": 50,
    "start_time": "2022-03-05T18:53:51.884Z"
   },
   {
    "duration": 8,
    "start_time": "2022-03-05T18:53:51.937Z"
   },
   {
    "duration": 27,
    "start_time": "2022-03-05T18:53:51.947Z"
   },
   {
    "duration": 62,
    "start_time": "2022-03-05T18:53:51.976Z"
   },
   {
    "duration": 15,
    "start_time": "2022-03-05T18:53:52.041Z"
   },
   {
    "duration": 9,
    "start_time": "2022-03-05T18:53:52.058Z"
   },
   {
    "duration": 4,
    "start_time": "2022-03-05T18:53:52.069Z"
   },
   {
    "duration": 14,
    "start_time": "2022-03-05T18:53:52.075Z"
   },
   {
    "duration": 4,
    "start_time": "2022-03-05T18:53:52.091Z"
   },
   {
    "duration": 4,
    "start_time": "2022-03-05T18:53:52.132Z"
   },
   {
    "duration": 7,
    "start_time": "2022-03-05T18:53:52.138Z"
   },
   {
    "duration": 4,
    "start_time": "2022-03-05T18:53:52.148Z"
   },
   {
    "duration": 10,
    "start_time": "2022-03-05T18:53:52.154Z"
   },
   {
    "duration": 16,
    "start_time": "2022-03-05T18:53:52.166Z"
   },
   {
    "duration": 51,
    "start_time": "2022-03-05T18:53:52.185Z"
   },
   {
    "duration": 6,
    "start_time": "2022-03-05T18:53:52.241Z"
   },
   {
    "duration": 8,
    "start_time": "2022-03-05T18:53:52.250Z"
   },
   {
    "duration": 7,
    "start_time": "2022-03-05T18:53:52.260Z"
   },
   {
    "duration": 7,
    "start_time": "2022-03-05T18:53:52.270Z"
   },
   {
    "duration": 56,
    "start_time": "2022-03-05T18:53:52.279Z"
   },
   {
    "duration": 862,
    "start_time": "2022-03-05T18:53:52.337Z"
   },
   {
    "duration": 232,
    "start_time": "2022-03-05T18:53:53.202Z"
   },
   {
    "duration": 236,
    "start_time": "2022-03-05T18:53:53.437Z"
   },
   {
    "duration": 3230,
    "start_time": "2022-03-05T18:53:53.676Z"
   },
   {
    "duration": 1105,
    "start_time": "2022-03-05T18:53:56.908Z"
   },
   {
    "duration": 10144,
    "start_time": "2022-03-05T18:53:58.016Z"
   },
   {
    "duration": 42,
    "start_time": "2022-03-05T18:54:08.163Z"
   },
   {
    "duration": 5509,
    "start_time": "2022-03-05T18:54:08.207Z"
   },
   {
    "duration": 22461,
    "start_time": "2022-03-05T18:53:51.258Z"
   },
   {
    "duration": 22432,
    "start_time": "2022-03-05T18:53:51.288Z"
   },
   {
    "duration": 22429,
    "start_time": "2022-03-05T18:53:51.293Z"
   },
   {
    "duration": 22428,
    "start_time": "2022-03-05T18:53:51.296Z"
   },
   {
    "duration": 22428,
    "start_time": "2022-03-05T18:53:51.297Z"
   },
   {
    "duration": 22428,
    "start_time": "2022-03-05T18:53:51.299Z"
   },
   {
    "duration": 22428,
    "start_time": "2022-03-05T18:53:51.301Z"
   },
   {
    "duration": 22429,
    "start_time": "2022-03-05T18:53:51.302Z"
   },
   {
    "duration": 22428,
    "start_time": "2022-03-05T18:53:51.304Z"
   },
   {
    "duration": 22428,
    "start_time": "2022-03-05T18:53:51.306Z"
   },
   {
    "duration": 22428,
    "start_time": "2022-03-05T18:53:51.307Z"
   },
   {
    "duration": 22428,
    "start_time": "2022-03-05T18:53:51.309Z"
   },
   {
    "duration": 22427,
    "start_time": "2022-03-05T18:53:51.311Z"
   },
   {
    "duration": 22427,
    "start_time": "2022-03-05T18:53:51.312Z"
   },
   {
    "duration": 17,
    "start_time": "2022-03-05T18:54:33.908Z"
   },
   {
    "duration": 45,
    "start_time": "2022-03-05T18:54:40.247Z"
   },
   {
    "duration": 17,
    "start_time": "2022-03-05T18:54:44.842Z"
   },
   {
    "duration": 3,
    "start_time": "2022-03-05T18:55:26.654Z"
   },
   {
    "duration": 17,
    "start_time": "2022-03-05T18:55:29.799Z"
   },
   {
    "duration": 2797,
    "start_time": "2022-03-05T18:55:34.589Z"
   },
   {
    "duration": 1026,
    "start_time": "2022-03-05T18:55:39.955Z"
   },
   {
    "duration": 1928,
    "start_time": "2022-03-05T18:56:17.889Z"
   },
   {
    "duration": 1103,
    "start_time": "2022-03-05T18:56:24.057Z"
   },
   {
    "duration": 2650,
    "start_time": "2022-03-05T18:56:28.914Z"
   },
   {
    "duration": 1007,
    "start_time": "2022-03-05T18:56:34.266Z"
   },
   {
    "duration": 1901,
    "start_time": "2022-03-05T19:01:24.012Z"
   },
   {
    "duration": 2718,
    "start_time": "2022-03-05T19:01:51.995Z"
   },
   {
    "duration": 6856,
    "start_time": "2022-03-05T19:05:32.337Z"
   },
   {
    "duration": 2781,
    "start_time": "2022-03-05T19:05:39.559Z"
   },
   {
    "duration": 5,
    "start_time": "2022-03-05T19:49:41.367Z"
   },
   {
    "duration": 6,
    "start_time": "2022-03-05T19:50:48.124Z"
   },
   {
    "duration": 4,
    "start_time": "2022-03-05T19:51:29.079Z"
   },
   {
    "duration": 340,
    "start_time": "2022-03-05T19:51:42.477Z"
   },
   {
    "duration": 117,
    "start_time": "2022-03-05T19:54:26.453Z"
   },
   {
    "duration": 320,
    "start_time": "2022-03-05T19:54:36.173Z"
   },
   {
    "duration": 325,
    "start_time": "2022-03-05T19:54:41.589Z"
   },
   {
    "duration": 338,
    "start_time": "2022-03-05T19:55:22.646Z"
   },
   {
    "duration": 5,
    "start_time": "2022-03-05T19:55:25.656Z"
   },
   {
    "duration": 746,
    "start_time": "2022-03-05T19:55:40.502Z"
   },
   {
    "duration": 6,
    "start_time": "2022-03-05T19:56:04.256Z"
   },
   {
    "duration": 741,
    "start_time": "2022-03-05T19:56:07.807Z"
   },
   {
    "duration": 6,
    "start_time": "2022-03-05T19:56:33.724Z"
   },
   {
    "duration": 2627,
    "start_time": "2022-03-05T19:56:36.889Z"
   },
   {
    "duration": 2815,
    "start_time": "2022-03-05T19:57:20.591Z"
   },
   {
    "duration": 6,
    "start_time": "2022-03-05T19:57:48.476Z"
   },
   {
    "duration": 367,
    "start_time": "2022-03-05T19:57:51.057Z"
   },
   {
    "duration": 772,
    "start_time": "2022-03-05T19:57:54.105Z"
   },
   {
    "duration": 6,
    "start_time": "2022-03-05T20:00:21.144Z"
   },
   {
    "duration": 780,
    "start_time": "2022-03-05T20:00:26.027Z"
   },
   {
    "duration": 853,
    "start_time": "2022-03-05T20:00:35.540Z"
   },
   {
    "duration": 7,
    "start_time": "2022-03-05T20:01:42.070Z"
   },
   {
    "duration": 2848,
    "start_time": "2022-03-05T20:01:45.156Z"
   },
   {
    "duration": 2842,
    "start_time": "2022-03-05T20:02:29.130Z"
   },
   {
    "duration": 2783,
    "start_time": "2022-03-05T20:03:49.101Z"
   },
   {
    "duration": 2946,
    "start_time": "2022-03-05T20:05:12.512Z"
   },
   {
    "duration": 6,
    "start_time": "2022-03-05T20:05:35.454Z"
   },
   {
    "duration": 2959,
    "start_time": "2022-03-05T20:05:37.824Z"
   },
   {
    "duration": 6,
    "start_time": "2022-03-05T20:05:47.745Z"
   },
   {
    "duration": 2901,
    "start_time": "2022-03-05T20:05:50.064Z"
   },
   {
    "duration": 2984,
    "start_time": "2022-03-05T20:06:09.118Z"
   },
   {
    "duration": 6,
    "start_time": "2022-03-05T20:11:39.550Z"
   },
   {
    "duration": 4,
    "start_time": "2022-03-05T20:11:41.789Z"
   },
   {
    "duration": 2871,
    "start_time": "2022-03-05T20:11:43.329Z"
   },
   {
    "duration": 346,
    "start_time": "2022-03-05T20:13:08.483Z"
   },
   {
    "duration": 385,
    "start_time": "2022-03-05T20:13:15.849Z"
   },
   {
    "duration": 356,
    "start_time": "2022-03-05T20:13:32.615Z"
   },
   {
    "duration": 4,
    "start_time": "2022-03-05T20:13:35.627Z"
   },
   {
    "duration": 27758,
    "start_time": "2022-03-05T20:13:36.265Z"
   },
   {
    "duration": 7242,
    "start_time": "2022-03-05T20:14:05.149Z"
   },
   {
    "duration": 19,
    "start_time": "2022-03-05T20:14:14.097Z"
   },
   {
    "duration": 8,
    "start_time": "2022-03-05T20:14:16.578Z"
   },
   {
    "duration": 5,
    "start_time": "2022-03-05T20:14:17.855Z"
   },
   {
    "duration": 5,
    "start_time": "2022-03-05T20:14:19.426Z"
   },
   {
    "duration": 46,
    "start_time": "2022-03-05T20:14:20.378Z"
   },
   {
    "duration": 2708,
    "start_time": "2022-03-05T20:14:22.602Z"
   },
   {
    "duration": 6,
    "start_time": "2022-03-05T20:15:11.812Z"
   },
   {
    "duration": 17,
    "start_time": "2022-03-05T20:15:18.045Z"
   },
   {
    "duration": 4,
    "start_time": "2022-03-05T20:15:28.561Z"
   },
   {
    "duration": 1105,
    "start_time": "2022-03-05T20:15:32.020Z"
   },
   {
    "duration": 336,
    "start_time": "2022-03-05T20:19:53.587Z"
   },
   {
    "duration": 1183,
    "start_time": "2022-03-05T20:20:33.505Z"
   },
   {
    "duration": 7,
    "start_time": "2022-03-05T20:22:27.625Z"
   },
   {
    "duration": 8,
    "start_time": "2022-03-05T20:22:32.200Z"
   },
   {
    "duration": 4,
    "start_time": "2022-03-05T20:22:38.761Z"
   },
   {
    "duration": 2940,
    "start_time": "2022-03-05T20:22:40.184Z"
   },
   {
    "duration": 10,
    "start_time": "2022-03-05T20:27:41.205Z"
   },
   {
    "duration": 2973,
    "start_time": "2022-03-05T20:27:43.380Z"
   },
   {
    "duration": 130,
    "start_time": "2022-03-05T20:28:32.522Z"
   },
   {
    "duration": 10,
    "start_time": "2022-03-05T20:28:37.828Z"
   },
   {
    "duration": 10,
    "start_time": "2022-03-05T20:28:39.572Z"
   },
   {
    "duration": 5,
    "start_time": "2022-03-05T20:28:40.738Z"
   },
   {
    "duration": 3647,
    "start_time": "2022-03-05T20:28:41.967Z"
   },
   {
    "duration": 10,
    "start_time": "2022-03-05T20:29:59.693Z"
   },
   {
    "duration": 4,
    "start_time": "2022-03-05T20:30:01.741Z"
   },
   {
    "duration": 2103,
    "start_time": "2022-03-05T20:30:02.469Z"
   },
   {
    "duration": 8,
    "start_time": "2022-03-05T20:32:03.570Z"
   },
   {
    "duration": 5,
    "start_time": "2022-03-05T20:32:05.304Z"
   },
   {
    "duration": 3079,
    "start_time": "2022-03-05T20:32:07.688Z"
   },
   {
    "duration": 9,
    "start_time": "2022-03-05T20:33:14.516Z"
   },
   {
    "duration": 1205,
    "start_time": "2022-03-05T20:33:26.032Z"
   },
   {
    "duration": 14,
    "start_time": "2022-03-05T20:54:45.368Z"
   },
   {
    "duration": 15,
    "start_time": "2022-03-05T20:55:42.660Z"
   },
   {
    "duration": 15,
    "start_time": "2022-03-05T20:55:44.381Z"
   },
   {
    "duration": 1434,
    "start_time": "2022-03-05T20:56:31.491Z"
   },
   {
    "duration": 6,
    "start_time": "2022-03-05T20:57:04.918Z"
   },
   {
    "duration": 7,
    "start_time": "2022-03-05T20:57:10.484Z"
   },
   {
    "duration": 2673,
    "start_time": "2022-03-05T20:57:17.039Z"
   },
   {
    "duration": 6,
    "start_time": "2022-03-05T20:57:38.306Z"
   },
   {
    "duration": 13,
    "start_time": "2022-03-05T20:57:44.181Z"
   },
   {
    "duration": 1478,
    "start_time": "2022-03-05T20:57:58.101Z"
   },
   {
    "duration": 6,
    "start_time": "2022-03-05T20:58:20.695Z"
   },
   {
    "duration": 1608,
    "start_time": "2022-03-05T20:58:22.719Z"
   },
   {
    "duration": 4,
    "start_time": "2022-03-05T20:58:25.073Z"
   },
   {
    "duration": 974,
    "start_time": "2022-03-05T20:58:25.692Z"
   },
   {
    "duration": 967,
    "start_time": "2022-03-05T20:58:48.517Z"
   },
   {
    "duration": 6,
    "start_time": "2022-03-05T20:58:55.467Z"
   },
   {
    "duration": 3006,
    "start_time": "2022-03-05T20:58:57.847Z"
   },
   {
    "duration": 7,
    "start_time": "2022-03-05T20:59:22.490Z"
   },
   {
    "duration": 953,
    "start_time": "2022-03-05T20:59:25.050Z"
   },
   {
    "duration": 7,
    "start_time": "2022-03-05T20:59:34.743Z"
   },
   {
    "duration": 1467,
    "start_time": "2022-03-05T20:59:38.522Z"
   },
   {
    "duration": 7,
    "start_time": "2022-03-05T21:00:10.835Z"
   },
   {
    "duration": 2222,
    "start_time": "2022-03-05T21:00:13.180Z"
   },
   {
    "duration": 7,
    "start_time": "2022-03-05T21:02:13.554Z"
   },
   {
    "duration": 3022,
    "start_time": "2022-03-05T21:02:17.688Z"
   },
   {
    "duration": 6,
    "start_time": "2022-03-05T21:02:35.376Z"
   },
   {
    "duration": 3008,
    "start_time": "2022-03-05T21:02:38.001Z"
   },
   {
    "duration": 7,
    "start_time": "2022-03-05T21:04:17.944Z"
   },
   {
    "duration": 2885,
    "start_time": "2022-03-05T21:04:21.704Z"
   },
   {
    "duration": 7,
    "start_time": "2022-03-05T21:04:54.252Z"
   },
   {
    "duration": 2880,
    "start_time": "2022-03-05T21:04:56.482Z"
   },
   {
    "duration": 7,
    "start_time": "2022-03-05T21:06:01.709Z"
   },
   {
    "duration": 2925,
    "start_time": "2022-03-05T21:06:03.568Z"
   },
   {
    "duration": 6,
    "start_time": "2022-03-05T21:06:28.040Z"
   },
   {
    "duration": 1430,
    "start_time": "2022-03-05T21:06:30.076Z"
   },
   {
    "duration": 6,
    "start_time": "2022-03-05T21:07:32.735Z"
   },
   {
    "duration": 1386,
    "start_time": "2022-03-05T21:07:34.919Z"
   },
   {
    "duration": 1165,
    "start_time": "2022-03-05T21:07:55.753Z"
   },
   {
    "duration": 923,
    "start_time": "2022-03-05T21:08:22.315Z"
   },
   {
    "duration": 891,
    "start_time": "2022-03-05T21:08:45.850Z"
   },
   {
    "duration": 1486,
    "start_time": "2022-03-05T21:09:05.328Z"
   },
   {
    "duration": 1400,
    "start_time": "2022-03-05T21:09:20.772Z"
   },
   {
    "duration": 1421,
    "start_time": "2022-03-05T21:09:39.630Z"
   },
   {
    "duration": 947,
    "start_time": "2022-03-05T21:13:36.233Z"
   },
   {
    "duration": 777,
    "start_time": "2022-03-05T21:13:39.910Z"
   },
   {
    "duration": 915,
    "start_time": "2022-03-05T21:13:43.065Z"
   },
   {
    "duration": 355,
    "start_time": "2022-03-05T21:13:47.099Z"
   },
   {
    "duration": 644,
    "start_time": "2022-03-05T21:13:51.889Z"
   },
   {
    "duration": 997,
    "start_time": "2022-03-05T21:14:40.843Z"
   },
   {
    "duration": 27159,
    "start_time": "2022-03-05T21:15:09.436Z"
   },
   {
    "duration": 27158,
    "start_time": "2022-03-05T21:15:40.814Z"
   },
   {
    "duration": 27117,
    "start_time": "2022-03-05T21:17:16.524Z"
   },
   {
    "duration": 156,
    "start_time": "2022-03-05T21:18:11.080Z"
   },
   {
    "duration": 345,
    "start_time": "2022-03-05T21:18:18.557Z"
   },
   {
    "duration": 153,
    "start_time": "2022-03-05T21:18:25.602Z"
   },
   {
    "duration": 4,
    "start_time": "2022-03-05T22:22:49.683Z"
   },
   {
    "duration": 6,
    "start_time": "2022-03-05T22:23:06.620Z"
   },
   {
    "duration": 5,
    "start_time": "2022-03-05T22:23:17.678Z"
   },
   {
    "duration": 379,
    "start_time": "2022-03-05T22:23:26.273Z"
   },
   {
    "duration": 6,
    "start_time": "2022-03-05T22:23:34.135Z"
   },
   {
    "duration": 6,
    "start_time": "2022-03-05T22:24:41.999Z"
   },
   {
    "duration": 4181,
    "start_time": "2022-03-05T22:29:38.602Z"
   },
   {
    "duration": 10,
    "start_time": "2022-03-05T22:31:31.420Z"
   },
   {
    "duration": 322,
    "start_time": "2022-03-05T22:31:49.738Z"
   },
   {
    "duration": 154,
    "start_time": "2022-03-05T22:31:56.018Z"
   },
   {
    "duration": 322,
    "start_time": "2022-03-05T22:32:01.676Z"
   },
   {
    "duration": 6,
    "start_time": "2022-03-05T22:32:04.806Z"
   },
   {
    "duration": 6,
    "start_time": "2022-03-05T22:32:25.925Z"
   },
   {
    "duration": 856,
    "start_time": "2022-03-05T22:32:26.741Z"
   },
   {
    "duration": 9,
    "start_time": "2022-03-05T22:33:03.754Z"
   },
   {
    "duration": 1402,
    "start_time": "2022-03-05T22:33:12.654Z"
   },
   {
    "duration": 4,
    "start_time": "2022-03-05T22:33:14.059Z"
   },
   {
    "duration": 1126,
    "start_time": "2022-03-05T22:33:14.067Z"
   },
   {
    "duration": 44,
    "start_time": "2022-03-05T22:33:15.196Z"
   },
   {
    "duration": 12,
    "start_time": "2022-03-05T22:33:15.243Z"
   },
   {
    "duration": 35,
    "start_time": "2022-03-05T22:33:15.257Z"
   },
   {
    "duration": 54,
    "start_time": "2022-03-05T22:33:15.295Z"
   },
   {
    "duration": 32,
    "start_time": "2022-03-05T22:33:15.352Z"
   },
   {
    "duration": 51,
    "start_time": "2022-03-05T22:33:15.389Z"
   },
   {
    "duration": 28,
    "start_time": "2022-03-05T22:33:15.445Z"
   },
   {
    "duration": 65,
    "start_time": "2022-03-05T22:33:15.475Z"
   },
   {
    "duration": 16,
    "start_time": "2022-03-05T22:33:15.543Z"
   },
   {
    "duration": 10,
    "start_time": "2022-03-05T22:33:15.562Z"
   },
   {
    "duration": 4,
    "start_time": "2022-03-05T22:33:15.574Z"
   },
   {
    "duration": 58,
    "start_time": "2022-03-05T22:33:15.581Z"
   },
   {
    "duration": 5,
    "start_time": "2022-03-05T22:33:15.641Z"
   },
   {
    "duration": 7,
    "start_time": "2022-03-05T22:33:15.648Z"
   },
   {
    "duration": 6,
    "start_time": "2022-03-05T22:33:15.657Z"
   },
   {
    "duration": 8,
    "start_time": "2022-03-05T22:33:15.666Z"
   },
   {
    "duration": 56,
    "start_time": "2022-03-05T22:33:15.676Z"
   },
   {
    "duration": 16,
    "start_time": "2022-03-05T22:33:15.735Z"
   },
   {
    "duration": 11,
    "start_time": "2022-03-05T22:33:15.753Z"
   },
   {
    "duration": 484,
    "start_time": "2022-03-05T22:33:15.767Z"
   },
   {
    "duration": 22865,
    "start_time": "2022-03-05T22:32:53.391Z"
   },
   {
    "duration": 22861,
    "start_time": "2022-03-05T22:32:53.396Z"
   },
   {
    "duration": 22850,
    "start_time": "2022-03-05T22:32:53.409Z"
   },
   {
    "duration": 22849,
    "start_time": "2022-03-05T22:32:53.411Z"
   },
   {
    "duration": 22848,
    "start_time": "2022-03-05T22:32:53.413Z"
   },
   {
    "duration": 22849,
    "start_time": "2022-03-05T22:32:53.414Z"
   },
   {
    "duration": 22842,
    "start_time": "2022-03-05T22:32:53.422Z"
   },
   {
    "duration": 22842,
    "start_time": "2022-03-05T22:32:53.424Z"
   },
   {
    "duration": 22830,
    "start_time": "2022-03-05T22:32:53.437Z"
   },
   {
    "duration": 22797,
    "start_time": "2022-03-05T22:32:53.472Z"
   },
   {
    "duration": 22795,
    "start_time": "2022-03-05T22:32:53.475Z"
   },
   {
    "duration": 22795,
    "start_time": "2022-03-05T22:32:53.477Z"
   },
   {
    "duration": 22796,
    "start_time": "2022-03-05T22:32:53.478Z"
   },
   {
    "duration": 22796,
    "start_time": "2022-03-05T22:32:53.480Z"
   },
   {
    "duration": 22790,
    "start_time": "2022-03-05T22:32:53.488Z"
   },
   {
    "duration": 22789,
    "start_time": "2022-03-05T22:32:53.490Z"
   },
   {
    "duration": 22789,
    "start_time": "2022-03-05T22:32:53.492Z"
   },
   {
    "duration": 22789,
    "start_time": "2022-03-05T22:32:53.494Z"
   },
   {
    "duration": 22786,
    "start_time": "2022-03-05T22:32:53.498Z"
   },
   {
    "duration": 22779,
    "start_time": "2022-03-05T22:32:53.507Z"
   },
   {
    "duration": 22778,
    "start_time": "2022-03-05T22:32:53.509Z"
   },
   {
    "duration": 22778,
    "start_time": "2022-03-05T22:32:53.511Z"
   },
   {
    "duration": 22746,
    "start_time": "2022-03-05T22:32:53.545Z"
   },
   {
    "duration": 22786,
    "start_time": "2022-03-05T22:32:53.547Z"
   },
   {
    "duration": 8,
    "start_time": "2022-03-05T22:33:39.920Z"
   },
   {
    "duration": 5,
    "start_time": "2022-03-05T22:33:54.882Z"
   },
   {
    "duration": 1411,
    "start_time": "2022-03-05T22:34:35.050Z"
   },
   {
    "duration": 4,
    "start_time": "2022-03-05T22:34:36.464Z"
   },
   {
    "duration": 1000,
    "start_time": "2022-03-05T22:34:36.473Z"
   },
   {
    "duration": 29,
    "start_time": "2022-03-05T22:34:37.476Z"
   },
   {
    "duration": 28,
    "start_time": "2022-03-05T22:34:37.508Z"
   },
   {
    "duration": 42,
    "start_time": "2022-03-05T22:34:37.539Z"
   },
   {
    "duration": 67,
    "start_time": "2022-03-05T22:34:37.584Z"
   },
   {
    "duration": 33,
    "start_time": "2022-03-05T22:34:37.654Z"
   },
   {
    "duration": 9,
    "start_time": "2022-03-05T22:34:37.732Z"
   },
   {
    "duration": 28,
    "start_time": "2022-03-05T22:34:37.746Z"
   },
   {
    "duration": 77,
    "start_time": "2022-03-05T22:34:37.777Z"
   },
   {
    "duration": 16,
    "start_time": "2022-03-05T22:34:37.856Z"
   },
   {
    "duration": 11,
    "start_time": "2022-03-05T22:34:37.875Z"
   },
   {
    "duration": 46,
    "start_time": "2022-03-05T22:34:37.888Z"
   },
   {
    "duration": 17,
    "start_time": "2022-03-05T22:34:37.937Z"
   },
   {
    "duration": 12,
    "start_time": "2022-03-05T22:34:37.956Z"
   },
   {
    "duration": 4,
    "start_time": "2022-03-05T22:34:37.971Z"
   },
   {
    "duration": 15,
    "start_time": "2022-03-05T22:34:37.977Z"
   },
   {
    "duration": 39,
    "start_time": "2022-03-05T22:34:37.995Z"
   },
   {
    "duration": 15,
    "start_time": "2022-03-05T22:34:38.036Z"
   },
   {
    "duration": 18,
    "start_time": "2022-03-05T22:34:38.053Z"
   },
   {
    "duration": 9,
    "start_time": "2022-03-05T22:34:38.074Z"
   },
   {
    "duration": 10,
    "start_time": "2022-03-05T22:34:38.133Z"
   },
   {
    "duration": 8,
    "start_time": "2022-03-05T22:34:38.145Z"
   },
   {
    "duration": 10,
    "start_time": "2022-03-05T22:34:38.156Z"
   },
   {
    "duration": 7,
    "start_time": "2022-03-05T22:34:38.168Z"
   },
   {
    "duration": 858,
    "start_time": "2022-03-05T22:34:38.233Z"
   },
   {
    "duration": 246,
    "start_time": "2022-03-05T22:34:39.094Z"
   },
   {
    "duration": 250,
    "start_time": "2022-03-05T22:34:39.343Z"
   },
   {
    "duration": 3072,
    "start_time": "2022-03-05T22:34:39.596Z"
   },
   {
    "duration": 1191,
    "start_time": "2022-03-05T22:34:42.670Z"
   },
   {
    "duration": 10343,
    "start_time": "2022-03-05T22:34:43.864Z"
   },
   {
    "duration": 2710,
    "start_time": "2022-03-05T22:34:54.210Z"
   },
   {
    "duration": 9,
    "start_time": "2022-03-05T22:34:56.923Z"
   },
   {
    "duration": 9,
    "start_time": "2022-03-05T22:34:56.934Z"
   },
   {
    "duration": 3,
    "start_time": "2022-03-05T22:34:56.946Z"
   },
   {
    "duration": 664,
    "start_time": "2022-03-05T22:34:56.951Z"
   },
   {
    "duration": 1023,
    "start_time": "2022-03-05T22:34:57.617Z"
   },
   {
    "duration": 26549,
    "start_time": "2022-03-05T22:34:58.642Z"
   },
   {
    "duration": 163,
    "start_time": "2022-03-05T22:35:25.193Z"
   },
   {
    "duration": 904,
    "start_time": "2022-03-05T22:35:25.358Z"
   },
   {
    "duration": 22716,
    "start_time": "2022-03-05T22:35:03.548Z"
   },
   {
    "duration": 22714,
    "start_time": "2022-03-05T22:35:03.551Z"
   },
   {
    "duration": 22714,
    "start_time": "2022-03-05T22:35:03.553Z"
   },
   {
    "duration": 22714,
    "start_time": "2022-03-05T22:35:03.555Z"
   },
   {
    "duration": 22713,
    "start_time": "2022-03-05T22:35:03.557Z"
   },
   {
    "duration": 22713,
    "start_time": "2022-03-05T22:35:03.559Z"
   },
   {
    "duration": 22711,
    "start_time": "2022-03-05T22:35:03.562Z"
   },
   {
    "duration": 5,
    "start_time": "2022-03-05T22:35:49.298Z"
   },
   {
    "duration": 657,
    "start_time": "2022-03-05T22:35:50.141Z"
   },
   {
    "duration": 915,
    "start_time": "2022-03-05T22:36:08.244Z"
   },
   {
    "duration": 10,
    "start_time": "2022-03-05T22:36:10.638Z"
   },
   {
    "duration": 555,
    "start_time": "2022-03-05T22:36:12.847Z"
   },
   {
    "duration": 335,
    "start_time": "2022-03-05T22:36:24.351Z"
   },
   {
    "duration": 6,
    "start_time": "2022-03-05T22:36:37.441Z"
   },
   {
    "duration": 6,
    "start_time": "2022-03-05T22:36:39.297Z"
   },
   {
    "duration": 914,
    "start_time": "2022-03-05T22:36:40.178Z"
   },
   {
    "duration": 334,
    "start_time": "2022-03-05T22:36:59.259Z"
   },
   {
    "duration": 5,
    "start_time": "2022-03-05T22:37:05.410Z"
   },
   {
    "duration": 381,
    "start_time": "2022-03-05T22:39:45.614Z"
   },
   {
    "duration": 2107,
    "start_time": "2022-03-05T22:40:08.836Z"
   },
   {
    "duration": 33,
    "start_time": "2022-03-05T22:41:02.405Z"
   },
   {
    "duration": 1411,
    "start_time": "2022-03-05T22:41:20.336Z"
   },
   {
    "duration": 3,
    "start_time": "2022-03-05T22:41:21.750Z"
   },
   {
    "duration": 1004,
    "start_time": "2022-03-05T22:41:21.757Z"
   },
   {
    "duration": 25,
    "start_time": "2022-03-05T22:41:22.764Z"
   },
   {
    "duration": 12,
    "start_time": "2022-03-05T22:41:22.791Z"
   },
   {
    "duration": 34,
    "start_time": "2022-03-05T22:41:22.833Z"
   },
   {
    "duration": 16,
    "start_time": "2022-03-05T22:41:22.869Z"
   },
   {
    "duration": 67,
    "start_time": "2022-03-05T22:41:22.888Z"
   },
   {
    "duration": 9,
    "start_time": "2022-03-05T22:41:22.960Z"
   },
   {
    "duration": 67,
    "start_time": "2022-03-05T22:41:22.972Z"
   },
   {
    "duration": 34,
    "start_time": "2022-03-05T22:41:23.042Z"
   },
   {
    "duration": 54,
    "start_time": "2022-03-05T22:41:23.079Z"
   },
   {
    "duration": 13,
    "start_time": "2022-03-05T22:41:23.135Z"
   },
   {
    "duration": 5,
    "start_time": "2022-03-05T22:41:23.150Z"
   },
   {
    "duration": 13,
    "start_time": "2022-03-05T22:41:23.158Z"
   },
   {
    "duration": 5,
    "start_time": "2022-03-05T22:41:23.174Z"
   },
   {
    "duration": 53,
    "start_time": "2022-03-05T22:41:23.182Z"
   },
   {
    "duration": 6,
    "start_time": "2022-03-05T22:41:23.238Z"
   },
   {
    "duration": 6,
    "start_time": "2022-03-05T22:41:23.247Z"
   },
   {
    "duration": 11,
    "start_time": "2022-03-05T22:41:23.255Z"
   },
   {
    "duration": 70,
    "start_time": "2022-03-05T22:41:23.268Z"
   },
   {
    "duration": 10,
    "start_time": "2022-03-05T22:41:23.340Z"
   },
   {
    "duration": 12,
    "start_time": "2022-03-05T22:41:23.353Z"
   },
   {
    "duration": 9,
    "start_time": "2022-03-05T22:41:23.368Z"
   },
   {
    "duration": 58,
    "start_time": "2022-03-05T22:41:23.381Z"
   },
   {
    "duration": 10,
    "start_time": "2022-03-05T22:41:23.442Z"
   },
   {
    "duration": 886,
    "start_time": "2022-03-05T22:41:23.461Z"
   },
   {
    "duration": 260,
    "start_time": "2022-03-05T22:41:24.351Z"
   },
   {
    "duration": 233,
    "start_time": "2022-03-05T22:41:24.614Z"
   },
   {
    "duration": 2936,
    "start_time": "2022-03-05T22:41:24.849Z"
   },
   {
    "duration": 1084,
    "start_time": "2022-03-05T22:41:27.788Z"
   },
   {
    "duration": 9774,
    "start_time": "2022-03-05T22:41:28.874Z"
   },
   {
    "duration": 2652,
    "start_time": "2022-03-05T22:41:38.650Z"
   },
   {
    "duration": 6,
    "start_time": "2022-03-05T22:41:41.304Z"
   },
   {
    "duration": 21,
    "start_time": "2022-03-05T22:41:41.312Z"
   },
   {
    "duration": 9,
    "start_time": "2022-03-05T22:41:41.336Z"
   },
   {
    "duration": 655,
    "start_time": "2022-03-05T22:41:41.348Z"
   },
   {
    "duration": 936,
    "start_time": "2022-03-05T22:41:42.005Z"
   },
   {
    "duration": 26519,
    "start_time": "2022-03-05T22:41:43.033Z"
   },
   {
    "duration": 167,
    "start_time": "2022-03-05T22:42:09.555Z"
   },
   {
    "duration": 33,
    "start_time": "2022-03-05T22:42:09.724Z"
   },
   {
    "duration": 21,
    "start_time": "2022-03-05T22:42:09.759Z"
   },
   {
    "duration": 518,
    "start_time": "2022-03-05T22:42:09.782Z"
   },
   {
    "duration": 22884,
    "start_time": "2022-03-05T22:41:47.418Z"
   },
   {
    "duration": 22883,
    "start_time": "2022-03-05T22:41:47.421Z"
   },
   {
    "duration": 22741,
    "start_time": "2022-03-05T22:41:47.564Z"
   },
   {
    "duration": 22740,
    "start_time": "2022-03-05T22:41:47.566Z"
   },
   {
    "duration": 32,
    "start_time": "2022-03-05T22:42:30.564Z"
   },
   {
    "duration": 12,
    "start_time": "2022-03-05T22:44:33.672Z"
   },
   {
    "duration": 11,
    "start_time": "2022-03-05T22:44:42.720Z"
   },
   {
    "duration": 6,
    "start_time": "2022-03-05T22:44:50.670Z"
   },
   {
    "duration": 5,
    "start_time": "2022-03-05T22:45:00.137Z"
   },
   {
    "duration": 10,
    "start_time": "2022-03-05T22:45:06.070Z"
   },
   {
    "duration": 6,
    "start_time": "2022-03-05T22:47:18.568Z"
   },
   {
    "duration": 3,
    "start_time": "2022-03-05T22:48:37.456Z"
   },
   {
    "duration": 6,
    "start_time": "2022-03-05T22:49:11.692Z"
   },
   {
    "duration": 4,
    "start_time": "2022-03-05T22:49:33.518Z"
   },
   {
    "duration": 8,
    "start_time": "2022-03-05T22:50:18.085Z"
   },
   {
    "duration": 1436,
    "start_time": "2022-03-05T22:51:11.428Z"
   },
   {
    "duration": 4,
    "start_time": "2022-03-05T22:51:12.866Z"
   },
   {
    "duration": 1021,
    "start_time": "2022-03-05T22:51:12.872Z"
   },
   {
    "duration": 24,
    "start_time": "2022-03-05T22:51:13.896Z"
   },
   {
    "duration": 15,
    "start_time": "2022-03-05T22:51:13.923Z"
   },
   {
    "duration": 35,
    "start_time": "2022-03-05T22:51:13.940Z"
   },
   {
    "duration": 16,
    "start_time": "2022-03-05T22:51:13.977Z"
   },
   {
    "duration": 43,
    "start_time": "2022-03-05T22:51:13.995Z"
   },
   {
    "duration": 7,
    "start_time": "2022-03-05T22:51:14.042Z"
   },
   {
    "duration": 28,
    "start_time": "2022-03-05T22:51:14.052Z"
   },
   {
    "duration": 31,
    "start_time": "2022-03-05T22:51:14.083Z"
   },
   {
    "duration": 27,
    "start_time": "2022-03-05T22:51:14.117Z"
   },
   {
    "duration": 9,
    "start_time": "2022-03-05T22:51:14.146Z"
   },
   {
    "duration": 5,
    "start_time": "2022-03-05T22:51:14.157Z"
   },
   {
    "duration": 19,
    "start_time": "2022-03-05T22:51:14.164Z"
   },
   {
    "duration": 5,
    "start_time": "2022-03-05T22:51:14.185Z"
   },
   {
    "duration": 5,
    "start_time": "2022-03-05T22:51:14.192Z"
   },
   {
    "duration": 7,
    "start_time": "2022-03-05T22:51:14.200Z"
   },
   {
    "duration": 6,
    "start_time": "2022-03-05T22:51:14.209Z"
   },
   {
    "duration": 10,
    "start_time": "2022-03-05T22:51:14.217Z"
   },
   {
    "duration": 17,
    "start_time": "2022-03-05T22:51:14.229Z"
   },
   {
    "duration": 10,
    "start_time": "2022-03-05T22:51:14.249Z"
   },
   {
    "duration": 12,
    "start_time": "2022-03-05T22:51:14.261Z"
   },
   {
    "duration": 8,
    "start_time": "2022-03-05T22:51:14.275Z"
   },
   {
    "duration": 7,
    "start_time": "2022-03-05T22:51:14.285Z"
   },
   {
    "duration": 7,
    "start_time": "2022-03-05T22:51:14.294Z"
   },
   {
    "duration": 1230,
    "start_time": "2022-03-05T22:51:14.306Z"
   },
   {
    "duration": 240,
    "start_time": "2022-03-05T22:51:15.539Z"
   },
   {
    "duration": 247,
    "start_time": "2022-03-05T22:51:15.781Z"
   },
   {
    "duration": 3063,
    "start_time": "2022-03-05T22:51:16.031Z"
   },
   {
    "duration": 1124,
    "start_time": "2022-03-05T22:51:19.096Z"
   },
   {
    "duration": 9560,
    "start_time": "2022-03-05T22:51:20.224Z"
   },
   {
    "duration": 2822,
    "start_time": "2022-03-05T22:51:29.787Z"
   },
   {
    "duration": 6,
    "start_time": "2022-03-05T22:51:32.611Z"
   },
   {
    "duration": 16,
    "start_time": "2022-03-05T22:51:32.619Z"
   },
   {
    "duration": 3,
    "start_time": "2022-03-05T22:51:32.637Z"
   },
   {
    "duration": 670,
    "start_time": "2022-03-05T22:51:32.642Z"
   },
   {
    "duration": 920,
    "start_time": "2022-03-05T22:51:33.314Z"
   },
   {
    "duration": 27214,
    "start_time": "2022-03-05T22:51:34.238Z"
   },
   {
    "duration": 169,
    "start_time": "2022-03-05T22:52:01.454Z"
   },
   {
    "duration": 33,
    "start_time": "2022-03-05T22:52:01.633Z"
   },
   {
    "duration": 26,
    "start_time": "2022-03-05T22:52:01.668Z"
   },
   {
    "duration": 60,
    "start_time": "2022-03-05T22:52:01.696Z"
   },
   {
    "duration": 17,
    "start_time": "2022-03-05T22:52:01.758Z"
   },
   {
    "duration": 5,
    "start_time": "2022-03-05T22:52:01.777Z"
   },
   {
    "duration": 8,
    "start_time": "2022-03-05T22:52:01.785Z"
   },
   {
    "duration": 9,
    "start_time": "2022-03-05T22:52:01.832Z"
   },
   {
    "duration": 6,
    "start_time": "2022-03-05T22:52:01.843Z"
   },
   {
    "duration": 10,
    "start_time": "2022-03-05T22:52:01.851Z"
   },
   {
    "duration": 4,
    "start_time": "2022-03-05T22:52:01.863Z"
   },
   {
    "duration": 16,
    "start_time": "2022-03-05T22:52:01.869Z"
   },
   {
    "duration": 608,
    "start_time": "2022-03-05T22:54:25.425Z"
   },
   {
    "duration": 500,
    "start_time": "2022-03-05T22:54:34.296Z"
   },
   {
    "duration": 331,
    "start_time": "2022-03-05T22:54:39.863Z"
   },
   {
    "duration": 626,
    "start_time": "2022-03-05T22:54:46.401Z"
   },
   {
    "duration": 1398,
    "start_time": "2022-03-05T22:54:50.439Z"
   },
   {
    "duration": 1917,
    "start_time": "2022-03-05T22:54:55.920Z"
   },
   {
    "duration": 61440,
    "start_time": "2022-03-05T22:55:02.665Z"
   },
   {
    "duration": 835,
    "start_time": "2022-03-05T23:05:56.271Z"
   },
   {
    "duration": 1441,
    "start_time": "2022-03-05T23:14:23.610Z"
   },
   {
    "duration": 3,
    "start_time": "2022-03-05T23:14:25.054Z"
   },
   {
    "duration": 996,
    "start_time": "2022-03-05T23:14:25.061Z"
   },
   {
    "duration": 26,
    "start_time": "2022-03-05T23:14:26.060Z"
   },
   {
    "duration": 13,
    "start_time": "2022-03-05T23:14:26.088Z"
   },
   {
    "duration": 37,
    "start_time": "2022-03-05T23:14:26.133Z"
   },
   {
    "duration": 15,
    "start_time": "2022-03-05T23:14:26.173Z"
   },
   {
    "duration": 63,
    "start_time": "2022-03-05T23:14:26.191Z"
   },
   {
    "duration": 8,
    "start_time": "2022-03-05T23:14:26.257Z"
   },
   {
    "duration": 25,
    "start_time": "2022-03-05T23:14:26.268Z"
   },
   {
    "duration": 65,
    "start_time": "2022-03-05T23:14:26.295Z"
   },
   {
    "duration": 14,
    "start_time": "2022-03-05T23:14:26.362Z"
   },
   {
    "duration": 11,
    "start_time": "2022-03-05T23:14:26.378Z"
   },
   {
    "duration": 44,
    "start_time": "2022-03-05T23:14:26.391Z"
   },
   {
    "duration": 12,
    "start_time": "2022-03-05T23:14:26.438Z"
   },
   {
    "duration": 5,
    "start_time": "2022-03-05T23:14:26.452Z"
   },
   {
    "duration": 6,
    "start_time": "2022-03-05T23:14:26.460Z"
   },
   {
    "duration": 4,
    "start_time": "2022-03-05T23:14:26.469Z"
   },
   {
    "duration": 6,
    "start_time": "2022-03-05T23:14:26.475Z"
   },
   {
    "duration": 59,
    "start_time": "2022-03-05T23:14:26.483Z"
   },
   {
    "duration": 20,
    "start_time": "2022-03-05T23:14:26.545Z"
   },
   {
    "duration": 11,
    "start_time": "2022-03-05T23:14:26.568Z"
   },
   {
    "duration": 13,
    "start_time": "2022-03-05T23:14:26.634Z"
   },
   {
    "duration": 10,
    "start_time": "2022-03-05T23:14:26.650Z"
   },
   {
    "duration": 10,
    "start_time": "2022-03-05T23:14:26.663Z"
   },
   {
    "duration": 64,
    "start_time": "2022-03-05T23:14:26.676Z"
   },
   {
    "duration": 849,
    "start_time": "2022-03-05T23:14:26.749Z"
   },
   {
    "duration": 247,
    "start_time": "2022-03-05T23:14:27.602Z"
   },
   {
    "duration": 259,
    "start_time": "2022-03-05T23:14:27.852Z"
   },
   {
    "duration": 2975,
    "start_time": "2022-03-05T23:14:28.114Z"
   },
   {
    "duration": 1091,
    "start_time": "2022-03-05T23:14:31.092Z"
   },
   {
    "duration": 9958,
    "start_time": "2022-03-05T23:14:32.186Z"
   },
   {
    "duration": 2641,
    "start_time": "2022-03-05T23:14:42.146Z"
   },
   {
    "duration": 8,
    "start_time": "2022-03-05T23:14:44.789Z"
   },
   {
    "duration": 12,
    "start_time": "2022-03-05T23:14:44.800Z"
   },
   {
    "duration": 5,
    "start_time": "2022-03-05T23:14:44.832Z"
   },
   {
    "duration": 1474,
    "start_time": "2022-03-05T23:14:44.840Z"
   },
   {
    "duration": 2123,
    "start_time": "2022-03-05T23:14:46.317Z"
   },
   {
    "duration": 53562,
    "start_time": "2022-03-05T23:14:48.442Z"
   },
   {
    "duration": 22501,
    "start_time": "2022-03-05T23:15:19.505Z"
   },
   {
    "duration": 22499,
    "start_time": "2022-03-05T23:15:19.509Z"
   },
   {
    "duration": 22498,
    "start_time": "2022-03-05T23:15:19.511Z"
   },
   {
    "duration": 22498,
    "start_time": "2022-03-05T23:15:19.513Z"
   },
   {
    "duration": 22496,
    "start_time": "2022-03-05T23:15:19.516Z"
   },
   {
    "duration": 22495,
    "start_time": "2022-03-05T23:15:19.519Z"
   },
   {
    "duration": 22495,
    "start_time": "2022-03-05T23:15:19.521Z"
   },
   {
    "duration": 22493,
    "start_time": "2022-03-05T23:15:19.524Z"
   },
   {
    "duration": 22366,
    "start_time": "2022-03-05T23:15:19.653Z"
   },
   {
    "duration": 22361,
    "start_time": "2022-03-05T23:15:19.659Z"
   },
   {
    "duration": 22359,
    "start_time": "2022-03-05T23:15:19.662Z"
   },
   {
    "duration": 22359,
    "start_time": "2022-03-05T23:15:19.664Z"
   },
   {
    "duration": 1425,
    "start_time": "2022-03-05T23:15:47.733Z"
   },
   {
    "duration": 3,
    "start_time": "2022-03-05T23:15:49.161Z"
   },
   {
    "duration": 981,
    "start_time": "2022-03-05T23:15:49.166Z"
   },
   {
    "duration": 25,
    "start_time": "2022-03-05T23:15:50.149Z"
   },
   {
    "duration": 12,
    "start_time": "2022-03-05T23:15:50.176Z"
   },
   {
    "duration": 71,
    "start_time": "2022-03-05T23:15:50.191Z"
   },
   {
    "duration": 16,
    "start_time": "2022-03-05T23:15:50.265Z"
   },
   {
    "duration": 62,
    "start_time": "2022-03-05T23:15:50.284Z"
   },
   {
    "duration": 7,
    "start_time": "2022-03-05T23:15:50.349Z"
   },
   {
    "duration": 27,
    "start_time": "2022-03-05T23:15:50.358Z"
   },
   {
    "duration": 65,
    "start_time": "2022-03-05T23:15:50.387Z"
   },
   {
    "duration": 15,
    "start_time": "2022-03-05T23:15:50.454Z"
   },
   {
    "duration": 8,
    "start_time": "2022-03-05T23:15:50.471Z"
   },
   {
    "duration": 3,
    "start_time": "2022-03-05T23:15:50.482Z"
   },
   {
    "duration": 54,
    "start_time": "2022-03-05T23:15:50.487Z"
   },
   {
    "duration": 4,
    "start_time": "2022-03-05T23:15:50.543Z"
   },
   {
    "duration": 5,
    "start_time": "2022-03-05T23:15:50.549Z"
   },
   {
    "duration": 6,
    "start_time": "2022-03-05T23:15:50.556Z"
   },
   {
    "duration": 4,
    "start_time": "2022-03-05T23:15:50.565Z"
   },
   {
    "duration": 10,
    "start_time": "2022-03-05T23:15:50.571Z"
   },
   {
    "duration": 64,
    "start_time": "2022-03-05T23:15:50.583Z"
   },
   {
    "duration": 10,
    "start_time": "2022-03-05T23:15:50.650Z"
   },
   {
    "duration": 11,
    "start_time": "2022-03-05T23:15:50.665Z"
   },
   {
    "duration": 7,
    "start_time": "2022-03-05T23:15:50.679Z"
   },
   {
    "duration": 48,
    "start_time": "2022-03-05T23:15:50.688Z"
   },
   {
    "duration": 7,
    "start_time": "2022-03-05T23:15:50.739Z"
   },
   {
    "duration": 863,
    "start_time": "2022-03-05T23:15:50.749Z"
   },
   {
    "duration": 233,
    "start_time": "2022-03-05T23:15:51.614Z"
   },
   {
    "duration": 244,
    "start_time": "2022-03-05T23:15:51.849Z"
   },
   {
    "duration": 3066,
    "start_time": "2022-03-05T23:15:52.096Z"
   },
   {
    "duration": 1113,
    "start_time": "2022-03-05T23:15:55.164Z"
   },
   {
    "duration": 10196,
    "start_time": "2022-03-05T23:15:56.280Z"
   },
   {
    "duration": 2842,
    "start_time": "2022-03-05T23:16:06.479Z"
   },
   {
    "duration": 10,
    "start_time": "2022-03-05T23:16:09.323Z"
   },
   {
    "duration": 11,
    "start_time": "2022-03-05T23:16:09.335Z"
   },
   {
    "duration": 3,
    "start_time": "2022-03-05T23:16:09.348Z"
   },
   {
    "duration": 668,
    "start_time": "2022-03-05T23:16:09.353Z"
   },
   {
    "duration": 915,
    "start_time": "2022-03-05T23:16:10.024Z"
   },
   {
    "duration": 26508,
    "start_time": "2022-03-05T23:16:10.942Z"
   },
   {
    "duration": 165,
    "start_time": "2022-03-05T23:16:37.453Z"
   },
   {
    "duration": 35,
    "start_time": "2022-03-05T23:16:37.620Z"
   },
   {
    "duration": 25,
    "start_time": "2022-03-05T23:16:37.657Z"
   },
   {
    "duration": 64,
    "start_time": "2022-03-05T23:16:37.684Z"
   },
   {
    "duration": 20,
    "start_time": "2022-03-05T23:16:37.750Z"
   },
   {
    "duration": 6,
    "start_time": "2022-03-05T23:16:37.772Z"
   },
   {
    "duration": 52,
    "start_time": "2022-03-05T23:16:37.781Z"
   },
   {
    "duration": 9,
    "start_time": "2022-03-05T23:16:37.836Z"
   },
   {
    "duration": 4,
    "start_time": "2022-03-05T23:16:37.847Z"
   },
   {
    "duration": 9,
    "start_time": "2022-03-05T23:16:37.853Z"
   },
   {
    "duration": 5,
    "start_time": "2022-03-05T23:16:37.864Z"
   },
   {
    "duration": 62,
    "start_time": "2022-03-05T23:16:37.871Z"
   }
  ],
  "kernelspec": {
   "display_name": "Python 3",
   "language": "python",
   "name": "python3"
  },
  "language_info": {
   "codemirror_mode": {
    "name": "ipython",
    "version": 3
   },
   "file_extension": ".py",
   "mimetype": "text/x-python",
   "name": "python",
   "nbconvert_exporter": "python",
   "pygments_lexer": "ipython3",
   "version": "3.7.6"
  },
  "toc": {
   "base_numbering": 1,
   "nav_menu": {},
   "number_sections": true,
   "sideBar": true,
   "skip_h1_title": true,
   "title_cell": "Table of Contents",
   "title_sidebar": "Contents",
   "toc_cell": false,
   "toc_position": {},
   "toc_section_display": true,
   "toc_window_display": false
  }
 },
 "nbformat": 4,
 "nbformat_minor": 2
}
